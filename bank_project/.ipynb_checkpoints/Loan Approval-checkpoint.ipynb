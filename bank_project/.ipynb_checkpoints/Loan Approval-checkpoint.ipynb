{
 "cells": [
  {
   "cell_type": "markdown",
   "metadata": {},
   "source": [
    "# Loan Appoval Prediction"
   ]
  },
  {
   "cell_type": "markdown",
   "metadata": {},
   "source": [
    "Description Of the Data Set\n",
    "\n",
    "1. Loanapp_ID - Unique Loan ID\n",
    "2. Sex - Male/ Female\n",
    "3. Marital_Status - Applicant is married (Y/N)\n",
    "4. first_name - First Name of applicant\n",
    "5. last_name - Last Name of applicant\n",
    "6. email - Email ID of applicant\n",
    "7. address - Address of applicant\n",
    "8. Dependents - Number of dependents\n",
    "9. Qual_var - Applicant Education Qualification\n",
    "10. SE - Self Employed (Y/N)\n",
    "11. App_Income_1 - Applicant Income\n",
    "12. App_Income_2 - Co-applicant Income\n",
    "13. CPL_Amount - Loan Amount\n",
    "14. CPL_Term - Duration of Loan (in months)\n",
    "15. Credit_His - Credit History meets guidelines\n",
    "16. Prop_Area - Urban/ Semi-urban/ Rural\n",
    "17. INT_ID - Unique\n",
    "18. Prev_ID - Unique Previous ID\n",
    "19. AGT_ID - Unique agent ID\n",
    "20. CPL_Status - Loan Approved (Y/N)\n"
   ]
  },
  {
   "cell_type": "markdown",
   "metadata": {},
   "source": [
    "# Exploratory Data Analysis [EDA]"
   ]
  },
  {
   "cell_type": "code",
   "execution_count": 1,
   "metadata": {},
   "outputs": [],
   "source": [
    "#importing libraries\n",
    "\n",
    "%matplotlib inline\n",
    "import numpy as np\n",
    "import pandas as pd\n",
    "import matplotlib.pyplot as plt\n",
    "import seaborn as sns\n",
    "import warnings\n",
    "warnings.filterwarnings(\"ignore\")"
   ]
  },
  {
   "cell_type": "code",
   "execution_count": 2,
   "metadata": {},
   "outputs": [],
   "source": [
    "# Load the train and test dataset\n",
    "\n",
    "train= pd.read_csv(\"Train.csv\")\n",
    "test= pd.read_csv(\"Test.csv\")"
   ]
  },
  {
   "cell_type": "code",
   "execution_count": 3,
   "metadata": {},
   "outputs": [],
   "source": [
    "# making a copy of original data\n",
    "# so that even we have to make any changes in the datasets we would not loose our original data \n",
    "\n",
    "train_original=train.copy()\n",
    "test_original=test.copy()\n"
   ]
  },
  {
   "cell_type": "code",
   "execution_count": 4,
   "metadata": {
    "scrolled": true
   },
   "outputs": [
    {
     "data": {
      "text/html": [
       "<div>\n",
       "<style scoped>\n",
       "    .dataframe tbody tr th:only-of-type {\n",
       "        vertical-align: middle;\n",
       "    }\n",
       "\n",
       "    .dataframe tbody tr th {\n",
       "        vertical-align: top;\n",
       "    }\n",
       "\n",
       "    .dataframe thead th {\n",
       "        text-align: right;\n",
       "    }\n",
       "</style>\n",
       "<table border=\"1\" class=\"dataframe\">\n",
       "  <thead>\n",
       "    <tr style=\"text-align: right;\">\n",
       "      <th></th>\n",
       "      <th>Loanapp_ID</th>\n",
       "      <th>Sex</th>\n",
       "      <th>Marital_Status</th>\n",
       "      <th>first_name</th>\n",
       "      <th>last_name</th>\n",
       "      <th>email</th>\n",
       "      <th>address</th>\n",
       "      <th>Dependents</th>\n",
       "      <th>Qual_var</th>\n",
       "      <th>SE</th>\n",
       "      <th>App_Income_1</th>\n",
       "      <th>App_Income_2</th>\n",
       "      <th>CPL_Amount</th>\n",
       "      <th>CPL_Term</th>\n",
       "      <th>Credit_His</th>\n",
       "      <th>Prop_Area</th>\n",
       "      <th>INT_ID</th>\n",
       "      <th>Prev_ID</th>\n",
       "      <th>AGT_ID</th>\n",
       "      <th>CPL_Status</th>\n",
       "    </tr>\n",
       "  </thead>\n",
       "  <tbody>\n",
       "    <tr>\n",
       "      <th>0</th>\n",
       "      <td>CPL001002</td>\n",
       "      <td>M</td>\n",
       "      <td>N</td>\n",
       "      <td>Austin</td>\n",
       "      <td>Pennycook</td>\n",
       "      <td>apennycook1@mac.com</td>\n",
       "      <td>007 Miller Road</td>\n",
       "      <td>0</td>\n",
       "      <td>Grad</td>\n",
       "      <td>N</td>\n",
       "      <td>7018.8</td>\n",
       "      <td>0.0</td>\n",
       "      <td>NaN</td>\n",
       "      <td>360.0</td>\n",
       "      <td>1.0</td>\n",
       "      <td>Urban</td>\n",
       "      <td>9694176212</td>\n",
       "      <td>92-247-0058</td>\n",
       "      <td>Mozilla/5.0 (Windows; U; Windows NT 5.1; zh-TW...</td>\n",
       "      <td>Y</td>\n",
       "    </tr>\n",
       "    <tr>\n",
       "      <th>1</th>\n",
       "      <td>CPL001003</td>\n",
       "      <td>M</td>\n",
       "      <td>Y</td>\n",
       "      <td>Mareah</td>\n",
       "      <td>Tomanek</td>\n",
       "      <td>mtomanek2@bloomberg.com</td>\n",
       "      <td>145 Charing Cross Junction</td>\n",
       "      <td>1</td>\n",
       "      <td>Grad</td>\n",
       "      <td>N</td>\n",
       "      <td>5499.6</td>\n",
       "      <td>1809.6</td>\n",
       "      <td>153.6</td>\n",
       "      <td>360.0</td>\n",
       "      <td>1.0</td>\n",
       "      <td>Rural</td>\n",
       "      <td>152387684</td>\n",
       "      <td>36-236-3028</td>\n",
       "      <td>Mozilla/5.0 (Windows NT 5.1; rv:21.0) Gecko/20...</td>\n",
       "      <td>N</td>\n",
       "    </tr>\n",
       "    <tr>\n",
       "      <th>2</th>\n",
       "      <td>CPL001005</td>\n",
       "      <td>M</td>\n",
       "      <td>Y</td>\n",
       "      <td>Myrna</td>\n",
       "      <td>Rosenthaler</td>\n",
       "      <td>mrosenthaler3@dmoz.org</td>\n",
       "      <td>268 Algoma Hill</td>\n",
       "      <td>0</td>\n",
       "      <td>Grad</td>\n",
       "      <td>Y</td>\n",
       "      <td>3600.0</td>\n",
       "      <td>0.0</td>\n",
       "      <td>79.2</td>\n",
       "      <td>360.0</td>\n",
       "      <td>1.0</td>\n",
       "      <td>Urban</td>\n",
       "      <td>6510396556</td>\n",
       "      <td>34-339-0917</td>\n",
       "      <td>Mozilla/5.0 (Windows; U; Windows NT 6.1; cs-CZ...</td>\n",
       "      <td>Y</td>\n",
       "    </tr>\n",
       "    <tr>\n",
       "      <th>3</th>\n",
       "      <td>CPL001006</td>\n",
       "      <td>M</td>\n",
       "      <td>Y</td>\n",
       "      <td>Danyette</td>\n",
       "      <td>Stempe</td>\n",
       "      <td>dstempe4@tumblr.com</td>\n",
       "      <td>571 Stone Corner Park</td>\n",
       "      <td>0</td>\n",
       "      <td>Non Grad</td>\n",
       "      <td>N</td>\n",
       "      <td>3099.6</td>\n",
       "      <td>2829.6</td>\n",
       "      <td>144.0</td>\n",
       "      <td>360.0</td>\n",
       "      <td>1.0</td>\n",
       "      <td>Urban</td>\n",
       "      <td>7141853006</td>\n",
       "      <td>94-098-8902</td>\n",
       "      <td>Mozilla/5.0 (iPhone; U; CPU iPhone OS 4_2_1 li...</td>\n",
       "      <td>Y</td>\n",
       "    </tr>\n",
       "    <tr>\n",
       "      <th>4</th>\n",
       "      <td>CPL001008</td>\n",
       "      <td>M</td>\n",
       "      <td>N</td>\n",
       "      <td>Patten</td>\n",
       "      <td>McCathy</td>\n",
       "      <td>pmccathy5@ted.com</td>\n",
       "      <td>118 Moulton Drive</td>\n",
       "      <td>0</td>\n",
       "      <td>Grad</td>\n",
       "      <td>N</td>\n",
       "      <td>7200.0</td>\n",
       "      <td>0.0</td>\n",
       "      <td>169.2</td>\n",
       "      <td>360.0</td>\n",
       "      <td>1.0</td>\n",
       "      <td>Urban</td>\n",
       "      <td>23293411</td>\n",
       "      <td>38-247-1410</td>\n",
       "      <td>Mozilla/5.0 (Windows NT 6.0; WOW64) AppleWebKi...</td>\n",
       "      <td>Y</td>\n",
       "    </tr>\n",
       "  </tbody>\n",
       "</table>\n",
       "</div>"
      ],
      "text/plain": [
       "  Loanapp_ID Sex Marital_Status first_name    last_name  \\\n",
       "0  CPL001002   M              N     Austin    Pennycook   \n",
       "1  CPL001003   M              Y     Mareah      Tomanek   \n",
       "2  CPL001005   M              Y      Myrna  Rosenthaler   \n",
       "3  CPL001006   M              Y   Danyette       Stempe   \n",
       "4  CPL001008   M              N     Patten      McCathy   \n",
       "\n",
       "                     email                     address Dependents  Qual_var  \\\n",
       "0      apennycook1@mac.com             007 Miller Road          0      Grad   \n",
       "1  mtomanek2@bloomberg.com  145 Charing Cross Junction          1      Grad   \n",
       "2   mrosenthaler3@dmoz.org             268 Algoma Hill          0      Grad   \n",
       "3      dstempe4@tumblr.com       571 Stone Corner Park          0  Non Grad   \n",
       "4        pmccathy5@ted.com           118 Moulton Drive          0      Grad   \n",
       "\n",
       "  SE  App_Income_1  App_Income_2  CPL_Amount  CPL_Term  Credit_His Prop_Area  \\\n",
       "0  N        7018.8           0.0         NaN     360.0         1.0     Urban   \n",
       "1  N        5499.6        1809.6       153.6     360.0         1.0     Rural   \n",
       "2  Y        3600.0           0.0        79.2     360.0         1.0     Urban   \n",
       "3  N        3099.6        2829.6       144.0     360.0         1.0     Urban   \n",
       "4  N        7200.0           0.0       169.2     360.0         1.0     Urban   \n",
       "\n",
       "       INT_ID      Prev_ID                                             AGT_ID  \\\n",
       "0  9694176212  92-247-0058  Mozilla/5.0 (Windows; U; Windows NT 5.1; zh-TW...   \n",
       "1   152387684  36-236-3028  Mozilla/5.0 (Windows NT 5.1; rv:21.0) Gecko/20...   \n",
       "2  6510396556  34-339-0917  Mozilla/5.0 (Windows; U; Windows NT 6.1; cs-CZ...   \n",
       "3  7141853006  94-098-8902  Mozilla/5.0 (iPhone; U; CPU iPhone OS 4_2_1 li...   \n",
       "4    23293411  38-247-1410  Mozilla/5.0 (Windows NT 6.0; WOW64) AppleWebKi...   \n",
       "\n",
       "  CPL_Status  \n",
       "0          Y  \n",
       "1          N  \n",
       "2          Y  \n",
       "3          Y  \n",
       "4          Y  "
      ]
     },
     "execution_count": 4,
     "metadata": {},
     "output_type": "execute_result"
    }
   ],
   "source": [
    "# Take a look on train data\n",
    "\n",
    "train.head()"
   ]
  },
  {
   "cell_type": "code",
   "execution_count": 5,
   "metadata": {},
   "outputs": [
    {
     "data": {
      "text/html": [
       "<div>\n",
       "<style scoped>\n",
       "    .dataframe tbody tr th:only-of-type {\n",
       "        vertical-align: middle;\n",
       "    }\n",
       "\n",
       "    .dataframe tbody tr th {\n",
       "        vertical-align: top;\n",
       "    }\n",
       "\n",
       "    .dataframe thead th {\n",
       "        text-align: right;\n",
       "    }\n",
       "</style>\n",
       "<table border=\"1\" class=\"dataframe\">\n",
       "  <thead>\n",
       "    <tr style=\"text-align: right;\">\n",
       "      <th></th>\n",
       "      <th>Loanapp_ID</th>\n",
       "      <th>Sex</th>\n",
       "      <th>Marital_Status</th>\n",
       "      <th>Dependents</th>\n",
       "      <th>Qual_var</th>\n",
       "      <th>SE</th>\n",
       "      <th>App_Income_1</th>\n",
       "      <th>App_Income_2</th>\n",
       "      <th>CPL_Amount</th>\n",
       "      <th>CPL_Term</th>\n",
       "      <th>Credit_His</th>\n",
       "      <th>Prop_Area</th>\n",
       "    </tr>\n",
       "  </thead>\n",
       "  <tbody>\n",
       "    <tr>\n",
       "      <th>0</th>\n",
       "      <td>CPL001015</td>\n",
       "      <td>M</td>\n",
       "      <td>Y</td>\n",
       "      <td>0</td>\n",
       "      <td>Grad</td>\n",
       "      <td>N</td>\n",
       "      <td>6864.0</td>\n",
       "      <td>0.0</td>\n",
       "      <td>132.0</td>\n",
       "      <td>360.0</td>\n",
       "      <td>1.0</td>\n",
       "      <td>Urban</td>\n",
       "    </tr>\n",
       "    <tr>\n",
       "      <th>1</th>\n",
       "      <td>CPL001022</td>\n",
       "      <td>M</td>\n",
       "      <td>Y</td>\n",
       "      <td>1</td>\n",
       "      <td>Grad</td>\n",
       "      <td>N</td>\n",
       "      <td>3691.2</td>\n",
       "      <td>1800.0</td>\n",
       "      <td>151.2</td>\n",
       "      <td>360.0</td>\n",
       "      <td>1.0</td>\n",
       "      <td>Urban</td>\n",
       "    </tr>\n",
       "    <tr>\n",
       "      <th>2</th>\n",
       "      <td>CPL001031</td>\n",
       "      <td>M</td>\n",
       "      <td>Y</td>\n",
       "      <td>2</td>\n",
       "      <td>Grad</td>\n",
       "      <td>N</td>\n",
       "      <td>6000.0</td>\n",
       "      <td>2160.0</td>\n",
       "      <td>249.6</td>\n",
       "      <td>360.0</td>\n",
       "      <td>1.0</td>\n",
       "      <td>Urban</td>\n",
       "    </tr>\n",
       "    <tr>\n",
       "      <th>3</th>\n",
       "      <td>CPL001035</td>\n",
       "      <td>M</td>\n",
       "      <td>Y</td>\n",
       "      <td>2</td>\n",
       "      <td>Grad</td>\n",
       "      <td>N</td>\n",
       "      <td>2808.0</td>\n",
       "      <td>3055.2</td>\n",
       "      <td>120.0</td>\n",
       "      <td>360.0</td>\n",
       "      <td>NaN</td>\n",
       "      <td>Urban</td>\n",
       "    </tr>\n",
       "    <tr>\n",
       "      <th>4</th>\n",
       "      <td>CPL001051</td>\n",
       "      <td>M</td>\n",
       "      <td>N</td>\n",
       "      <td>0</td>\n",
       "      <td>Non Grad</td>\n",
       "      <td>N</td>\n",
       "      <td>3931.2</td>\n",
       "      <td>0.0</td>\n",
       "      <td>93.6</td>\n",
       "      <td>360.0</td>\n",
       "      <td>1.0</td>\n",
       "      <td>Urban</td>\n",
       "    </tr>\n",
       "  </tbody>\n",
       "</table>\n",
       "</div>"
      ],
      "text/plain": [
       "  Loanapp_ID Sex Marital_Status Dependents  Qual_var SE  App_Income_1  \\\n",
       "0  CPL001015   M              Y          0      Grad  N        6864.0   \n",
       "1  CPL001022   M              Y          1      Grad  N        3691.2   \n",
       "2  CPL001031   M              Y          2      Grad  N        6000.0   \n",
       "3  CPL001035   M              Y          2      Grad  N        2808.0   \n",
       "4  CPL001051   M              N          0  Non Grad  N        3931.2   \n",
       "\n",
       "   App_Income_2  CPL_Amount  CPL_Term  Credit_His Prop_Area  \n",
       "0           0.0       132.0     360.0         1.0     Urban  \n",
       "1        1800.0       151.2     360.0         1.0     Urban  \n",
       "2        2160.0       249.6     360.0         1.0     Urban  \n",
       "3        3055.2       120.0     360.0         NaN     Urban  \n",
       "4           0.0        93.6     360.0         1.0     Urban  "
      ]
     },
     "execution_count": 5,
     "metadata": {},
     "output_type": "execute_result"
    }
   ],
   "source": [
    "# Take a look on test data(loan approval status is missing here)\n",
    "\n",
    "test.head()"
   ]
  },
  {
   "cell_type": "code",
   "execution_count": 6,
   "metadata": {},
   "outputs": [
    {
     "data": {
      "text/plain": [
       "((614, 20), (367, 12))"
      ]
     },
     "execution_count": 6,
     "metadata": {},
     "output_type": "execute_result"
    }
   ],
   "source": [
    "# show the shape of the dataset i.e. no of rows, no of columns\n",
    "train.shape, test.shape"
   ]
  },
  {
   "cell_type": "code",
   "execution_count": 7,
   "metadata": {},
   "outputs": [
    {
     "data": {
      "text/plain": [
       "(0.6258919469928644, 0.37410805300713557)"
      ]
     },
     "execution_count": 7,
     "metadata": {},
     "output_type": "execute_result"
    }
   ],
   "source": [
    "# calculate train-test-split ratio\n",
    "train.shape[0]/(train.shape[0]+test.shape[0]), test.shape[0]/(train.shape[0]+test.shape[0])"
   ]
  },
  {
   "cell_type": "code",
   "execution_count": 8,
   "metadata": {},
   "outputs": [
    {
     "data": {
      "text/plain": [
       "(Index(['Loanapp_ID', 'Sex', 'Marital_Status', 'first_name', 'last_name',\n",
       "        'email', 'address', 'Dependents', 'Qual_var', 'SE', 'App_Income_1',\n",
       "        'App_Income_2', 'CPL_Amount', 'CPL_Term', 'Credit_His', 'Prop_Area',\n",
       "        'INT_ID', 'Prev_ID', 'AGT_ID', 'CPL_Status'],\n",
       "       dtype='object'),\n",
       " Index(['Loanapp_ID', 'Sex', 'Marital_Status', 'Dependents', 'Qual_var', 'SE',\n",
       "        'App_Income_1', 'App_Income_2', 'CPL_Amount', 'CPL_Term', 'Credit_His',\n",
       "        'Prop_Area'],\n",
       "       dtype='object'))"
      ]
     },
     "execution_count": 8,
     "metadata": {},
     "output_type": "execute_result"
    }
   ],
   "source": [
    "# take a look at the features (i.e. independent variables) in the dataset\n",
    "train.columns, test.columns"
   ]
  },
  {
   "cell_type": "markdown",
   "metadata": {},
   "source": [
    "Note: There are 20 columns of features and 614 rows of records in the train set and 19 columns of features and 367 rows of records in the test set. There are a total of 981 records combining both train and test set, representing a train-test-split of approx 63% and 37%. The features are similar in the test set as the train data except the CPL_Status. We will predict the CPL_Status using the model built using the train data."
   ]
  },
  {
   "cell_type": "code",
   "execution_count": 9,
   "metadata": {},
   "outputs": [
    {
     "data": {
      "text/plain": [
       "Loanapp_ID         object\n",
       "Sex                object\n",
       "Marital_Status     object\n",
       "first_name         object\n",
       "last_name          object\n",
       "email              object\n",
       "address            object\n",
       "Dependents         object\n",
       "Qual_var           object\n",
       "SE                 object\n",
       "App_Income_1      float64\n",
       "App_Income_2      float64\n",
       "CPL_Amount        float64\n",
       "CPL_Term          float64\n",
       "Credit_His        float64\n",
       "Prop_Area          object\n",
       "INT_ID              int64\n",
       "Prev_ID            object\n",
       "AGT_ID             object\n",
       "CPL_Status         object\n",
       "dtype: object"
      ]
     },
     "execution_count": 9,
     "metadata": {},
     "output_type": "execute_result"
    }
   ],
   "source": [
    "# show the data types for each column of the train set\n",
    "train.dtypes"
   ]
  },
  {
   "cell_type": "code",
   "execution_count": 10,
   "metadata": {},
   "outputs": [
    {
     "name": "stdout",
     "output_type": "stream",
     "text": [
      "<class 'pandas.core.frame.DataFrame'>\n",
      "RangeIndex: 614 entries, 0 to 613\n",
      "Data columns (total 20 columns):\n",
      " #   Column          Non-Null Count  Dtype  \n",
      "---  ------          --------------  -----  \n",
      " 0   Loanapp_ID      614 non-null    object \n",
      " 1   Sex             601 non-null    object \n",
      " 2   Marital_Status  611 non-null    object \n",
      " 3   first_name      614 non-null    object \n",
      " 4   last_name       614 non-null    object \n",
      " 5   email           614 non-null    object \n",
      " 6   address         614 non-null    object \n",
      " 7   Dependents      599 non-null    object \n",
      " 8   Qual_var        614 non-null    object \n",
      " 9   SE              582 non-null    object \n",
      " 10  App_Income_1    614 non-null    float64\n",
      " 11  App_Income_2    614 non-null    float64\n",
      " 12  CPL_Amount      612 non-null    float64\n",
      " 13  CPL_Term        600 non-null    float64\n",
      " 14  Credit_His      564 non-null    float64\n",
      " 15  Prop_Area       614 non-null    object \n",
      " 16  INT_ID          614 non-null    int64  \n",
      " 17  Prev_ID         614 non-null    object \n",
      " 18  AGT_ID          614 non-null    object \n",
      " 19  CPL_Status      614 non-null    object \n",
      "dtypes: float64(5), int64(1), object(14)\n",
      "memory usage: 62.4+ KB\n"
     ]
    }
   ],
   "source": [
    "# concise summary of the dataset, info about index dtype, column dtypes, non-null values and memory usage\n",
    "train.info()"
   ]
  },
  {
   "cell_type": "markdown",
   "metadata": {},
   "source": [
    "Note: There are 3 data types in the data\n",
    "\n",
    "object: Object format means variables are categorical. Categorical variables in our dataset are: \n",
    "- Unique LoanID\n",
    "- Gender\n",
    "- Married status\n",
    "- Dependents\n",
    "- Education Qualification\n",
    "- Self_Employed(Y/N)\n",
    "- Property Area\n",
    "- Loan Approval Status\n",
    "\n",
    "int64: It represents the integer variables.\n",
    "- Applicant Income\n",
    "\n",
    "float64: It represents the variable which have some decimal values involved. They are also numerical variables. Numerical variables in our dataset are:\n",
    "- Coapplicant Income\n",
    "- Loan Amount\n",
    "- Loan Amount Term(Duration of loan)\n",
    "- Credit History"
   ]
  },
  {
   "cell_type": "markdown",
   "metadata": {},
   "source": [
    "# Target Variable (Categorical)"
   ]
  },
  {
   "cell_type": "markdown",
   "metadata": {},
   "source": [
    "We will first look at the target variable, i.e., CPL_Status. As it is a categorical variable, let us look at its frequency table, percentage distribution and bar plot."
   ]
  },
  {
   "cell_type": "code",
   "execution_count": 11,
   "metadata": {},
   "outputs": [
    {
     "data": {
      "text/plain": [
       "Y    422\n",
       "N    192\n",
       "Name: CPL_Status, dtype: int64"
      ]
     },
     "execution_count": 11,
     "metadata": {},
     "output_type": "execute_result"
    }
   ],
   "source": [
    "# frequency table of a variable will give us the count of each category in that variable\n",
    "train['CPL_Status'].value_counts()"
   ]
  },
  {
   "cell_type": "code",
   "execution_count": 12,
   "metadata": {
    "scrolled": true
   },
   "outputs": [
    {
     "data": {
      "text/plain": [
       "Y    0.687296\n",
       "N    0.312704\n",
       "Name: CPL_Status, dtype: float64"
      ]
     },
     "execution_count": 12,
     "metadata": {},
     "output_type": "execute_result"
    }
   ],
   "source": [
    "# percentage distribution can be calculated by setting the normalize=True to show proportions instead of number \n",
    "train['CPL_Status'].value_counts(normalize=True)"
   ]
  },
  {
   "cell_type": "code",
   "execution_count": 13,
   "metadata": {
    "scrolled": true
   },
   "outputs": [
    {
     "data": {
      "text/plain": [
       "<matplotlib.axes._subplots.AxesSubplot at 0x1ad9fee0>"
      ]
     },
     "execution_count": 13,
     "metadata": {},
     "output_type": "execute_result"
    },
    {
     "data": {
      "image/png": "[encoded data removed]",
      "text/plain": [
       "<Figure size 432x288 with 1 Axes>"
      ]
     },
     "metadata": {
      "needs_background": "light"
     },
     "output_type": "display_data"
    }
   ],
   "source": [
    "# bar plot to visualize the frequency\n",
    "train['CPL_Status'].value_counts().plot.bar()"
   ]
  },
  {
   "cell_type": "markdown",
   "metadata": {},
   "source": [
    "Note: The loan of 422 (around 69%) people out of 614 was approved. There is no imbalanced classes issue in this dataset, thus accuracy as an evaluation metric should be appropriate. "
   ]
  },
  {
   "cell_type": "markdown",
   "metadata": {},
   "source": [
    "# Independent Variable (Categorical)"
   ]
  },
  {
   "cell_type": "markdown",
   "metadata": {},
   "source": [
    "There are 5 features that are categorical or binary (Sex, Maritial_status, SE, Credit_His, Qual_var)"
   ]
  },
  {
   "cell_type": "code",
   "execution_count": 14,
   "metadata": {},
   "outputs": [
    {
     "data": {
      "image/png": "[encoded data removed]",
      "text/plain": [
       "<Figure size 1440x720 with 5 Axes>"
      ]
     },
     "metadata": {
      "needs_background": "light"
     },
     "output_type": "display_data"
    }
   ],
   "source": [
    "# Visualizing categorical features\n",
    "# plt.figure(1)\n",
    "plt.subplot(231)\n",
    "train['Sex'].value_counts(normalize=True).plot.bar(figsize=(20,10), title= 'Gender')\n",
    "\n",
    "plt.subplot(232)\n",
    "train['Marital_Status'].value_counts(normalize=True).plot.bar(title= 'Married')\n",
    "\n",
    "plt.subplot(233)\n",
    "train['SE'].value_counts(normalize=True).plot.bar(title= 'Self_Employed')\n",
    "\n",
    "plt.subplot(234)\n",
    "train['Credit_His'].value_counts(normalize=True).plot.bar(title= 'Credit_History')\n",
    "\n",
    "plt.subplot(235)\n",
    "train['Qual_var'].value_counts(normalize=True).plot.bar(title= 'Education')\n",
    "\n",
    "plt.show()"
   ]
  },
  {
   "cell_type": "markdown",
   "metadata": {},
   "source": [
    "It can be inferred from the above bar plots that:\n",
    "\n",
    "- 80% applicants in the dataset are male.\n",
    "- Around 65% of the applicants in the dataset are married.\n",
    "- Around 15% applicants in the dataset are self employed.\n",
    "- Around 85% applicants have credit history (repaid their debts).\n",
    "- Around 80% of the applicants are Graduate."
   ]
  },
  {
   "cell_type": "markdown",
   "metadata": {},
   "source": [
    "# Independent Variable (Ordinal)"
   ]
  },
  {
   "cell_type": "markdown",
   "metadata": {},
   "source": [
    "There are 2 features that are Ordinal:\n",
    "Variables in categorical features having some order involved (Dependents, Prop_Area)"
   ]
  },
  {
   "cell_type": "code",
   "execution_count": 15,
   "metadata": {},
   "outputs": [
    {
     "data": {
      "image/png": "[encoded data removed]",
      "text/plain": [
       "<Figure size 864x288 with 2 Axes>"
      ]
     },
     "metadata": {
      "needs_background": "light"
     },
     "output_type": "display_data"
    }
   ],
   "source": [
    "# Visualizing remaining categorical features\n",
    "# plt.figure(1)\n",
    "plt.subplot(121)\n",
    "train['Dependents'].value_counts(normalize=True).plot.bar(figsize=(12,4), title= 'Dependents')\n",
    "\n",
    "plt.subplot(122)\n",
    "train['Prop_Area'].value_counts(normalize=True).plot.bar(title= 'Property_Area')\n",
    "\n",
    "plt.show()"
   ]
  },
  {
   "cell_type": "markdown",
   "metadata": {},
   "source": [
    "Following inferences can be made from the above bar plots:\n",
    "\n",
    "- More than half of the applicants don’t have any dependents.\n",
    "- Most of the applicants are from Semiurban area."
   ]
  },
  {
   "cell_type": "markdown",
   "metadata": {},
   "source": [
    "# Independent Variable (Numerical)"
   ]
  },
  {
   "cell_type": "markdown",
   "metadata": {},
   "source": [
    "There are 4 features that are Numerical: \n",
    "These features have numerical values \n",
    "- App_Income_1\n",
    "- App_Income_2\n",
    "- CPL_Amount\n",
    "- CPL_Term"
   ]
  },
  {
   "cell_type": "code",
   "execution_count": 16,
   "metadata": {},
   "outputs": [
    {
     "data": {
      "image/png": "[encoded data removed]",
      "text/plain": [
       "<Figure size 1152x360 with 2 Axes>"
      ]
     },
     "metadata": {
      "needs_background": "light"
     },
     "output_type": "display_data"
    }
   ],
   "source": [
    "# Visualizing ApplicantIncome\n",
    "# plt.figure(1)\n",
    "plt.subplot(121)\n",
    "sns.distplot(train['App_Income_1']);\n",
    "\n",
    "plt.subplot(122)\n",
    "train['App_Income_1'].plot.box(figsize=(16,5))\n",
    "\n",
    "plt.show()"
   ]
  },
  {
   "cell_type": "markdown",
   "metadata": {},
   "source": [
    "It can be inferred that most of the data in the distribution of applicant income is towards left which means it is not normally distributed. The distribution is right-skewed (positive skewness). We will try to make it normal in later sections as algorithms works better if the data is normally distributed.\n",
    "\n",
    "The boxplot confirms the presence of a lot of outliers/extreme values. This can be attributed to the income disparity in the society. Part of this can be driven by the fact that we are looking at people with different education levels. Let us segregate them by Education:"
   ]
  },
  {
   "cell_type": "code",
   "execution_count": 17,
   "metadata": {},
   "outputs": [
    {
     "data": {
      "text/plain": [
       "Text(0.5, 0.98, '')"
      ]
     },
     "execution_count": 17,
     "metadata": {},
     "output_type": "execute_result"
    },
    {
     "data": {
      "image/png": "[encoded data removed]",
      "text/plain": [
       "<Figure size 432x288 with 1 Axes>"
      ]
     },
     "metadata": {
      "needs_background": "light"
     },
     "output_type": "display_data"
    }
   ],
   "source": [
    "train.boxplot(column='App_Income_1', by = 'Qual_var')\n",
    "plt.suptitle(\"\")"
   ]
  },
  {
   "cell_type": "markdown",
   "metadata": {},
   "source": [
    "We can see that there are a higher number of graduates with very high incomes, which are appearing to be the outliers.\n",
    "\n",
    "Secondly, Let’s look at the Coapplicant income distribution."
   ]
  },
  {
   "cell_type": "code",
   "execution_count": 18,
   "metadata": {},
   "outputs": [
    {
     "data": {
      "image/png": "[encoded data removed]",
      "text/plain": [
       "<Figure size 1152x360 with 2 Axes>"
      ]
     },
     "metadata": {
      "needs_background": "light"
     },
     "output_type": "display_data"
    }
   ],
   "source": [
    "plt.subplot(121)\n",
    "sns.distplot(train['App_Income_2']);\n",
    "\n",
    "plt.subplot(122)\n",
    "train['App_Income_2'].plot.box(figsize=(16,5))\n",
    "\n",
    "plt.show()"
   ]
  },
  {
   "cell_type": "markdown",
   "metadata": {},
   "source": [
    "We see a similar distribution as that of the applicant income. Majority of coapplicant’s income ranges from 0 to 5000. We also see a lot of outliers in the coapplicant income and it is not normally distributed.\n",
    "\n",
    "Thirdly, let’s look at the distribution of LoanAmount variable."
   ]
  },
  {
   "cell_type": "code",
   "execution_count": 19,
   "metadata": {},
   "outputs": [
    {
     "data": {
      "image/png": "[encoded data removed]",
      "text/plain": [
       "<Figure size 1152x360 with 2 Axes>"
      ]
     },
     "metadata": {
      "needs_background": "light"
     },
     "output_type": "display_data"
    }
   ],
   "source": [
    "plt.subplot(121)\n",
    "df=train.dropna()\n",
    "sns.distplot(df['CPL_Amount']);\n",
    "\n",
    "plt.subplot(122)\n",
    "train['CPL_Amount'].plot.box(figsize=(16,5))\n",
    "\n",
    "plt.show()"
   ]
  },
  {
   "cell_type": "markdown",
   "metadata": {},
   "source": [
    "We see a fairly normal distribution (albeit still slightly right-skewed) for LoanAmount but there are lot of outliers in this variable. We will treat the outliers in later sections.\n",
    "\n",
    "Lastly, let’s look at the distribution of Loan_Amount_Term variable. Since Loan_Amount_Term is a discrete variable, we will use frequency table and bar plots which will calculate the number of each category."
   ]
  },
  {
   "cell_type": "code",
   "execution_count": 20,
   "metadata": {},
   "outputs": [
    {
     "data": {
      "text/plain": [
       "360.0    512\n",
       "180.0     44\n",
       "480.0     15\n",
       "300.0     13\n",
       "84.0       4\n",
       "240.0      4\n",
       "120.0      3\n",
       "36.0       2\n",
       "60.0       2\n",
       "12.0       1\n",
       "Name: CPL_Term, dtype: int64"
      ]
     },
     "execution_count": 20,
     "metadata": {},
     "output_type": "execute_result"
    }
   ],
   "source": [
    "# frequency table of a variable will give us the count of each category in that variable\n",
    "train['CPL_Term'].value_counts()"
   ]
  },
  {
   "cell_type": "code",
   "execution_count": 21,
   "metadata": {},
   "outputs": [
    {
     "data": {
      "text/plain": [
       "<matplotlib.axes._subplots.AxesSubplot at 0x1c8c3640>"
      ]
     },
     "execution_count": 21,
     "metadata": {},
     "output_type": "execute_result"
    },
    {
     "data": {
      "image/png": "[encoded data removed]",
      "text/plain": [
       "<Figure size 432x288 with 1 Axes>"
      ]
     },
     "metadata": {
      "needs_background": "light"
     },
     "output_type": "display_data"
    }
   ],
   "source": [
    "# plot bar chart\n",
    "train['CPL_Term'].value_counts(normalize=True).plot.bar(title= 'CPL_Term')"
   ]
  },
  {
   "cell_type": "markdown",
   "metadata": {},
   "source": [
    "It can be inferred from the above bar plot that:\n",
    "\n",
    "- Around 85% of the loans are 360 months term or 30 years period"
   ]
  },
  {
   "cell_type": "markdown",
   "metadata": {},
   "source": [
    "# Bivariate Analysis"
   ]
  },
  {
   "cell_type": "markdown",
   "metadata": {},
   "source": [
    "After looking at every variable individually in univariate analysis, we will now explore them again with respect to the target variable in bivariate analysis. We can use bivariate analysis to test the hypotheses that we generated earlier."
   ]
  },
  {
   "cell_type": "markdown",
   "metadata": {},
   "source": [
    "# Categorical Independent Variable vs Target Variable"
   ]
  },
  {
   "cell_type": "markdown",
   "metadata": {},
   "source": [
    "First of all we will find the relation between target variable and categorical independent variables. Let us look at the stacked bar plot now which will give us the proportion of approved and unapproved loans. For example, we want to see whether an applicant's gender will have any effect on approval chances."
   ]
  },
  {
   "cell_type": "code",
   "execution_count": 22,
   "metadata": {},
   "outputs": [
    {
     "name": "stdout",
     "output_type": "stream",
     "text": [
      "CPL_Status    N    Y\n",
      "Sex                 \n",
      "F            37   75\n",
      "M           150  339\n"
     ]
    },
    {
     "data": {
      "image/png": "[encoded data removed]",
      "text/plain": [
       "<Figure size 288x288 with 1 Axes>"
      ]
     },
     "metadata": {
      "needs_background": "light"
     },
     "output_type": "display_data"
    }
   ],
   "source": [
    "print(pd.crosstab(train['Sex'],train['CPL_Status']))\n",
    "\n",
    "Gender = pd.crosstab(train['Sex'],train['CPL_Status'])\n",
    "Gender.div(Gender.sum(1).astype(float), axis = 0).plot(kind=\"bar\", stacked=True, figsize=(4,4))\n",
    "plt.xlabel('Sex')\n",
    "p = plt.ylabel('Percentage')"
   ]
  },
  {
   "cell_type": "code",
   "execution_count": 23,
   "metadata": {},
   "outputs": [
    {
     "name": "stdout",
     "output_type": "stream",
     "text": [
      "CPL_Status        N    Y\n",
      "Marital_Status          \n",
      "N                79  134\n",
      "Y               113  285\n"
     ]
    },
    {
     "data": {
      "image/png": "[encoded data removed]",
      "text/plain": [
       "<Figure size 288x288 with 1 Axes>"
      ]
     },
     "metadata": {
      "needs_background": "light"
     },
     "output_type": "display_data"
    }
   ],
   "source": [
    "print(pd.crosstab(train['Marital_Status'],train['CPL_Status']))\n",
    "\n",
    "Married = pd.crosstab(train['Marital_Status'],train['CPL_Status'])\n",
    "Married.div(Married.sum(1).astype(float), axis=0).plot(kind=\"bar\", stacked=True, figsize=(4,4))\n",
    "plt.xlabel('Marital_Status')\n",
    "p = plt.ylabel('Percentage')"
   ]
  },
  {
   "cell_type": "code",
   "execution_count": 24,
   "metadata": {},
   "outputs": [
    {
     "name": "stdout",
     "output_type": "stream",
     "text": [
      "CPL_Status    N    Y\n",
      "Dependents          \n",
      "0           107  238\n",
      "1            36   66\n",
      "2            25   76\n",
      "3+           18   33\n"
     ]
    },
    {
     "data": {
      "image/png": "[encoded data removed]",
      "text/plain": [
       "<Figure size 432x288 with 1 Axes>"
      ]
     },
     "metadata": {
      "needs_background": "light"
     },
     "output_type": "display_data"
    }
   ],
   "source": [
    "print(pd.crosstab(train['Dependents'],train['CPL_Status']))\n",
    "\n",
    "Dependents=pd.crosstab(train['Dependents'],train['CPL_Status'])\n",
    "Dependents.div(Dependents.sum(1).astype(float), axis=0).plot(kind=\"bar\", stacked=True)\n",
    "plt.xlabel('Dependents')\n",
    "p = plt.ylabel('Percentage')"
   ]
  },
  {
   "cell_type": "code",
   "execution_count": 25,
   "metadata": {},
   "outputs": [
    {
     "name": "stdout",
     "output_type": "stream",
     "text": [
      "CPL_Status    N    Y\n",
      "Qual_var            \n",
      "Grad        140  340\n",
      "Non Grad     52   82\n"
     ]
    },
    {
     "data": {
      "image/png": "[encoded data removed]",
      "text/plain": [
       "<Figure size 288x288 with 1 Axes>"
      ]
     },
     "metadata": {
      "needs_background": "light"
     },
     "output_type": "display_data"
    }
   ],
   "source": [
    "print(pd.crosstab(train['Qual_var'],train['CPL_Status']))\n",
    "\n",
    "Education=pd.crosstab(train['Qual_var'],train['CPL_Status'])\n",
    "Education.div(Education.sum(1).astype(float), axis=0).plot(kind=\"bar\", stacked=True, figsize=(4,4))\n",
    "plt.xlabel('Qual_var')\n",
    "p = plt.ylabel('Percentage')"
   ]
  },
  {
   "cell_type": "code",
   "execution_count": 26,
   "metadata": {},
   "outputs": [
    {
     "name": "stdout",
     "output_type": "stream",
     "text": [
      "CPL_Status    N    Y\n",
      "SE                  \n",
      "N           157  343\n",
      "Y            26   56\n"
     ]
    },
    {
     "data": {
      "image/png": "[encoded data removed]",
      "text/plain": [
       "<Figure size 288x288 with 1 Axes>"
      ]
     },
     "metadata": {
      "needs_background": "light"
     },
     "output_type": "display_data"
    }
   ],
   "source": [
    "print(pd.crosstab(train['SE'],train['CPL_Status']))\n",
    "\n",
    "Self_Employed=pd.crosstab(train['SE'],train['CPL_Status'])\n",
    "Self_Employed.div(Self_Employed.sum(1).astype(float), axis=0).plot(kind=\"bar\", stacked=True, figsize=(4,4))\n",
    "plt.xlabel('SE')\n",
    "p = plt.ylabel('Percentage')"
   ]
  },
  {
   "cell_type": "code",
   "execution_count": 27,
   "metadata": {},
   "outputs": [
    {
     "name": "stdout",
     "output_type": "stream",
     "text": [
      "CPL_Status   N    Y\n",
      "Credit_His         \n",
      "0.0         82    7\n",
      "1.0         97  378\n"
     ]
    },
    {
     "data": {
      "image/png": "[encoded data removed]",
      "text/plain": [
       "<Figure size 288x288 with 1 Axes>"
      ]
     },
     "metadata": {
      "needs_background": "light"
     },
     "output_type": "display_data"
    }
   ],
   "source": [
    "print(pd.crosstab(train['Credit_His'],train['CPL_Status']))\n",
    "\n",
    "Credit_History=pd.crosstab(train['Credit_His'],train['CPL_Status'])\n",
    "Credit_History.div(Credit_History.sum(1).astype(float), axis=0).plot(kind=\"bar\", stacked=True, figsize=(4,4))\n",
    "plt.xlabel('Credit_His')\n",
    "p = plt.ylabel('Percentage')"
   ]
  },
  {
   "cell_type": "code",
   "execution_count": 28,
   "metadata": {},
   "outputs": [
    {
     "name": "stdout",
     "output_type": "stream",
     "text": [
      "CPL_Status   N    Y\n",
      "Prop_Area          \n",
      "Rural       69  110\n",
      "Semi U      54  179\n",
      "Urban       69  133\n"
     ]
    },
    {
     "data": {
      "image/png": "[encoded data removed]",
      "text/plain": [
       "<Figure size 432x288 with 1 Axes>"
      ]
     },
     "metadata": {
      "needs_background": "light"
     },
     "output_type": "display_data"
    }
   ],
   "source": [
    "print(pd.crosstab(train['Prop_Area'],train['CPL_Status']))\n",
    "\n",
    "Property_Area=pd.crosstab(train['Prop_Area'],train['CPL_Status'])\n",
    "Property_Area.div(Property_Area.sum(1).astype(float), axis=0).plot(kind=\"bar\", stacked=True)\n",
    "plt.xlabel('Prop_Area')\n",
    "P = plt.ylabel('Percentage')"
   ]
  },
  {
   "cell_type": "markdown",
   "metadata": {},
   "source": [
    "From the bar charts above, it can be inferred that:\n",
    "\n",
    "- proportion of male and female applicants is more or less same for both approved and unapproved loans\n",
    "- proportion of married applicants is higher for the approved loans\n",
    "- distribution of applicants with 1 or 3+ dependents is -- -similar across both the categories of Loan Status\n",
    "- there is nothing significant we can infer from Self Employed vs Loan Status plot.\n",
    "- proportion of loans getting approved for graduates is higher compared to non-graduates\n",
    "- it seems people with credit history as 1 are more likely to get their loans approved\n",
    "- proportion of loans getting approved in semiurban area is higher as compared to that in rural or urban areas."
   ]
  },
  {
   "cell_type": "markdown",
   "metadata": {},
   "source": [
    "# Numerical Independent Variable vs Target Variable"
   ]
  },
  {
   "cell_type": "markdown",
   "metadata": {},
   "source": [
    "We will try to find the mean income of people for which the loan has been approved vs the mean income of people for which the loan has not been approved."
   ]
  },
  {
   "cell_type": "code",
   "execution_count": 29,
   "metadata": {},
   "outputs": [
    {
     "name": "stdout",
     "output_type": "stream",
     "text": [
      "CPL_Status\n",
      "N    6535.293750\n",
      "Y    6460.882464\n",
      "Name: App_Income_1, dtype: float64\n"
     ]
    },
    {
     "data": {
      "text/plain": [
       "<matplotlib.axes._subplots.AxesSubplot at 0x1af98fd0>"
      ]
     },
     "execution_count": 29,
     "metadata": {},
     "output_type": "execute_result"
    },
    {
     "data": {
      "image/png": "[encoded data removed]",
      "text/plain": [
       "<Figure size 432x288 with 1 Axes>"
      ]
     },
     "metadata": {
      "needs_background": "light"
     },
     "output_type": "display_data"
    }
   ],
   "source": [
    "print(train.groupby('CPL_Status')['App_Income_1'].mean())\n",
    "\n",
    "train.groupby('CPL_Status')['App_Income_1'].mean().plot.bar()"
   ]
  },
  {
   "cell_type": "markdown",
   "metadata": {},
   "source": [
    "Here the y-axis represents the mean applicant income. We don’t see any significant difference in the mean income between those approval and not approved applicant (5384 vs 5446).\n",
    "\n",
    "So, let’s make bins for the applicant income variable based on the values in it and analyze the corresponding loan status for each bin."
   ]
  },
  {
   "cell_type": "code",
   "execution_count": 30,
   "metadata": {},
   "outputs": [],
   "source": [
    "# making bins for applicant income variable\n",
    "bins = [0,2500,4000,6000,81000]\n",
    "group = ['Low','Average','High', 'Very high']\n",
    "train['Income_bin'] = pd.cut(df['App_Income_1'],bins,labels=group)"
   ]
  },
  {
   "cell_type": "code",
   "execution_count": 31,
   "metadata": {},
   "outputs": [
    {
     "data": {
      "text/html": [
       "<div>\n",
       "<style scoped>\n",
       "    .dataframe tbody tr th:only-of-type {\n",
       "        vertical-align: middle;\n",
       "    }\n",
       "\n",
       "    .dataframe tbody tr th {\n",
       "        vertical-align: top;\n",
       "    }\n",
       "\n",
       "    .dataframe thead th {\n",
       "        text-align: right;\n",
       "    }\n",
       "</style>\n",
       "<table border=\"1\" class=\"dataframe\">\n",
       "  <thead>\n",
       "    <tr style=\"text-align: right;\">\n",
       "      <th></th>\n",
       "      <th>Loanapp_ID</th>\n",
       "      <th>Sex</th>\n",
       "      <th>Marital_Status</th>\n",
       "      <th>first_name</th>\n",
       "      <th>last_name</th>\n",
       "      <th>email</th>\n",
       "      <th>address</th>\n",
       "      <th>Dependents</th>\n",
       "      <th>Qual_var</th>\n",
       "      <th>SE</th>\n",
       "      <th>...</th>\n",
       "      <th>App_Income_2</th>\n",
       "      <th>CPL_Amount</th>\n",
       "      <th>CPL_Term</th>\n",
       "      <th>Credit_His</th>\n",
       "      <th>Prop_Area</th>\n",
       "      <th>INT_ID</th>\n",
       "      <th>Prev_ID</th>\n",
       "      <th>AGT_ID</th>\n",
       "      <th>CPL_Status</th>\n",
       "      <th>Income_bin</th>\n",
       "    </tr>\n",
       "  </thead>\n",
       "  <tbody>\n",
       "    <tr>\n",
       "      <th>0</th>\n",
       "      <td>CPL001002</td>\n",
       "      <td>M</td>\n",
       "      <td>N</td>\n",
       "      <td>Austin</td>\n",
       "      <td>Pennycook</td>\n",
       "      <td>apennycook1@mac.com</td>\n",
       "      <td>007 Miller Road</td>\n",
       "      <td>0</td>\n",
       "      <td>Grad</td>\n",
       "      <td>N</td>\n",
       "      <td>...</td>\n",
       "      <td>0.0</td>\n",
       "      <td>NaN</td>\n",
       "      <td>360.0</td>\n",
       "      <td>1.0</td>\n",
       "      <td>Urban</td>\n",
       "      <td>9694176212</td>\n",
       "      <td>92-247-0058</td>\n",
       "      <td>Mozilla/5.0 (Windows; U; Windows NT 5.1; zh-TW...</td>\n",
       "      <td>Y</td>\n",
       "      <td>NaN</td>\n",
       "    </tr>\n",
       "    <tr>\n",
       "      <th>1</th>\n",
       "      <td>CPL001003</td>\n",
       "      <td>M</td>\n",
       "      <td>Y</td>\n",
       "      <td>Mareah</td>\n",
       "      <td>Tomanek</td>\n",
       "      <td>mtomanek2@bloomberg.com</td>\n",
       "      <td>145 Charing Cross Junction</td>\n",
       "      <td>1</td>\n",
       "      <td>Grad</td>\n",
       "      <td>N</td>\n",
       "      <td>...</td>\n",
       "      <td>1809.6</td>\n",
       "      <td>153.6</td>\n",
       "      <td>360.0</td>\n",
       "      <td>1.0</td>\n",
       "      <td>Rural</td>\n",
       "      <td>152387684</td>\n",
       "      <td>36-236-3028</td>\n",
       "      <td>Mozilla/5.0 (Windows NT 5.1; rv:21.0) Gecko/20...</td>\n",
       "      <td>N</td>\n",
       "      <td>High</td>\n",
       "    </tr>\n",
       "    <tr>\n",
       "      <th>2</th>\n",
       "      <td>CPL001005</td>\n",
       "      <td>M</td>\n",
       "      <td>Y</td>\n",
       "      <td>Myrna</td>\n",
       "      <td>Rosenthaler</td>\n",
       "      <td>mrosenthaler3@dmoz.org</td>\n",
       "      <td>268 Algoma Hill</td>\n",
       "      <td>0</td>\n",
       "      <td>Grad</td>\n",
       "      <td>Y</td>\n",
       "      <td>...</td>\n",
       "      <td>0.0</td>\n",
       "      <td>79.2</td>\n",
       "      <td>360.0</td>\n",
       "      <td>1.0</td>\n",
       "      <td>Urban</td>\n",
       "      <td>6510396556</td>\n",
       "      <td>34-339-0917</td>\n",
       "      <td>Mozilla/5.0 (Windows; U; Windows NT 6.1; cs-CZ...</td>\n",
       "      <td>Y</td>\n",
       "      <td>Average</td>\n",
       "    </tr>\n",
       "    <tr>\n",
       "      <th>3</th>\n",
       "      <td>CPL001006</td>\n",
       "      <td>M</td>\n",
       "      <td>Y</td>\n",
       "      <td>Danyette</td>\n",
       "      <td>Stempe</td>\n",
       "      <td>dstempe4@tumblr.com</td>\n",
       "      <td>571 Stone Corner Park</td>\n",
       "      <td>0</td>\n",
       "      <td>Non Grad</td>\n",
       "      <td>N</td>\n",
       "      <td>...</td>\n",
       "      <td>2829.6</td>\n",
       "      <td>144.0</td>\n",
       "      <td>360.0</td>\n",
       "      <td>1.0</td>\n",
       "      <td>Urban</td>\n",
       "      <td>7141853006</td>\n",
       "      <td>94-098-8902</td>\n",
       "      <td>Mozilla/5.0 (iPhone; U; CPU iPhone OS 4_2_1 li...</td>\n",
       "      <td>Y</td>\n",
       "      <td>Average</td>\n",
       "    </tr>\n",
       "    <tr>\n",
       "      <th>4</th>\n",
       "      <td>CPL001008</td>\n",
       "      <td>M</td>\n",
       "      <td>N</td>\n",
       "      <td>Patten</td>\n",
       "      <td>McCathy</td>\n",
       "      <td>pmccathy5@ted.com</td>\n",
       "      <td>118 Moulton Drive</td>\n",
       "      <td>0</td>\n",
       "      <td>Grad</td>\n",
       "      <td>N</td>\n",
       "      <td>...</td>\n",
       "      <td>0.0</td>\n",
       "      <td>169.2</td>\n",
       "      <td>360.0</td>\n",
       "      <td>1.0</td>\n",
       "      <td>Urban</td>\n",
       "      <td>23293411</td>\n",
       "      <td>38-247-1410</td>\n",
       "      <td>Mozilla/5.0 (Windows NT 6.0; WOW64) AppleWebKi...</td>\n",
       "      <td>Y</td>\n",
       "      <td>Very high</td>\n",
       "    </tr>\n",
       "    <tr>\n",
       "      <th>5</th>\n",
       "      <td>CPL001011</td>\n",
       "      <td>M</td>\n",
       "      <td>Y</td>\n",
       "      <td>Alf</td>\n",
       "      <td>Banger</td>\n",
       "      <td>abanger6@51.la</td>\n",
       "      <td>62479 Tony Trail</td>\n",
       "      <td>2</td>\n",
       "      <td>Grad</td>\n",
       "      <td>Y</td>\n",
       "      <td>...</td>\n",
       "      <td>5035.2</td>\n",
       "      <td>320.4</td>\n",
       "      <td>360.0</td>\n",
       "      <td>1.0</td>\n",
       "      <td>Urban</td>\n",
       "      <td>1706531990</td>\n",
       "      <td>36-046-3652</td>\n",
       "      <td>Mozilla/5.0 (X11; OpenBSD amd64; rv:28.0) Geck...</td>\n",
       "      <td>Y</td>\n",
       "      <td>Very high</td>\n",
       "    </tr>\n",
       "    <tr>\n",
       "      <th>6</th>\n",
       "      <td>CPL001013</td>\n",
       "      <td>M</td>\n",
       "      <td>Y</td>\n",
       "      <td>Gunilla</td>\n",
       "      <td>Etchells</td>\n",
       "      <td>getchells7@oracle.com</td>\n",
       "      <td>19 Nevada Road</td>\n",
       "      <td>0</td>\n",
       "      <td>Non Grad</td>\n",
       "      <td>N</td>\n",
       "      <td>...</td>\n",
       "      <td>1819.2</td>\n",
       "      <td>114.0</td>\n",
       "      <td>360.0</td>\n",
       "      <td>1.0</td>\n",
       "      <td>Urban</td>\n",
       "      <td>4308436125</td>\n",
       "      <td>30-577-3135</td>\n",
       "      <td>Mozilla/5.0 (X11; Linux i686) AppleWebKit/535....</td>\n",
       "      <td>Y</td>\n",
       "      <td>Average</td>\n",
       "    </tr>\n",
       "    <tr>\n",
       "      <th>7</th>\n",
       "      <td>CPL001014</td>\n",
       "      <td>M</td>\n",
       "      <td>Y</td>\n",
       "      <td>Norman</td>\n",
       "      <td>Code</td>\n",
       "      <td>ncode8@php.net</td>\n",
       "      <td>6444 Grasskamp Parkway</td>\n",
       "      <td>3+</td>\n",
       "      <td>Grad</td>\n",
       "      <td>N</td>\n",
       "      <td>...</td>\n",
       "      <td>3004.8</td>\n",
       "      <td>189.6</td>\n",
       "      <td>360.0</td>\n",
       "      <td>0.0</td>\n",
       "      <td>Semi U</td>\n",
       "      <td>8920517681</td>\n",
       "      <td>84-493-5438</td>\n",
       "      <td>Mozilla/5.0 (Windows NT 6.1; rv:12.0) Gecko/ 2...</td>\n",
       "      <td>N</td>\n",
       "      <td>Average</td>\n",
       "    </tr>\n",
       "  </tbody>\n",
       "</table>\n",
       "<p>8 rows × 21 columns</p>\n",
       "</div>"
      ],
      "text/plain": [
       "  Loanapp_ID Sex Marital_Status first_name    last_name  \\\n",
       "0  CPL001002   M              N     Austin    Pennycook   \n",
       "1  CPL001003   M              Y     Mareah      Tomanek   \n",
       "2  CPL001005   M              Y      Myrna  Rosenthaler   \n",
       "3  CPL001006   M              Y   Danyette       Stempe   \n",
       "4  CPL001008   M              N     Patten      McCathy   \n",
       "5  CPL001011   M              Y        Alf       Banger   \n",
       "6  CPL001013   M              Y    Gunilla     Etchells   \n",
       "7  CPL001014   M              Y     Norman         Code   \n",
       "\n",
       "                     email                     address Dependents  Qual_var  \\\n",
       "0      apennycook1@mac.com             007 Miller Road          0      Grad   \n",
       "1  mtomanek2@bloomberg.com  145 Charing Cross Junction          1      Grad   \n",
       "2   mrosenthaler3@dmoz.org             268 Algoma Hill          0      Grad   \n",
       "3      dstempe4@tumblr.com       571 Stone Corner Park          0  Non Grad   \n",
       "4        pmccathy5@ted.com           118 Moulton Drive          0      Grad   \n",
       "5           abanger6@51.la            62479 Tony Trail          2      Grad   \n",
       "6    getchells7@oracle.com              19 Nevada Road          0  Non Grad   \n",
       "7           ncode8@php.net      6444 Grasskamp Parkway         3+      Grad   \n",
       "\n",
       "  SE  ...  App_Income_2  CPL_Amount  CPL_Term  Credit_His  Prop_Area  \\\n",
       "0  N  ...           0.0         NaN     360.0         1.0      Urban   \n",
       "1  N  ...        1809.6       153.6     360.0         1.0      Rural   \n",
       "2  Y  ...           0.0        79.2     360.0         1.0      Urban   \n",
       "3  N  ...        2829.6       144.0     360.0         1.0      Urban   \n",
       "4  N  ...           0.0       169.2     360.0         1.0      Urban   \n",
       "5  Y  ...        5035.2       320.4     360.0         1.0      Urban   \n",
       "6  N  ...        1819.2       114.0     360.0         1.0      Urban   \n",
       "7  N  ...        3004.8       189.6     360.0         0.0     Semi U   \n",
       "\n",
       "       INT_ID      Prev_ID                                             AGT_ID  \\\n",
       "0  9694176212  92-247-0058  Mozilla/5.0 (Windows; U; Windows NT 5.1; zh-TW...   \n",
       "1   152387684  36-236-3028  Mozilla/5.0 (Windows NT 5.1; rv:21.0) Gecko/20...   \n",
       "2  6510396556  34-339-0917  Mozilla/5.0 (Windows; U; Windows NT 6.1; cs-CZ...   \n",
       "3  7141853006  94-098-8902  Mozilla/5.0 (iPhone; U; CPU iPhone OS 4_2_1 li...   \n",
       "4    23293411  38-247-1410  Mozilla/5.0 (Windows NT 6.0; WOW64) AppleWebKi...   \n",
       "5  1706531990  36-046-3652  Mozilla/5.0 (X11; OpenBSD amd64; rv:28.0) Geck...   \n",
       "6  4308436125  30-577-3135  Mozilla/5.0 (X11; Linux i686) AppleWebKit/535....   \n",
       "7  8920517681  84-493-5438  Mozilla/5.0 (Windows NT 6.1; rv:12.0) Gecko/ 2...   \n",
       "\n",
       "  CPL_Status Income_bin  \n",
       "0          Y        NaN  \n",
       "1          N       High  \n",
       "2          Y    Average  \n",
       "3          Y    Average  \n",
       "4          Y  Very high  \n",
       "5          Y  Very high  \n",
       "6          Y    Average  \n",
       "7          N    Average  \n",
       "\n",
       "[8 rows x 21 columns]"
      ]
     },
     "execution_count": 31,
     "metadata": {},
     "output_type": "execute_result"
    }
   ],
   "source": [
    "# take a look at the train set\n",
    "train.head(8)"
   ]
  },
  {
   "cell_type": "code",
   "execution_count": 32,
   "metadata": {},
   "outputs": [
    {
     "name": "stdout",
     "output_type": "stream",
     "text": [
      "CPL_Status   N    Y\n",
      "Income_bin         \n",
      "Low         13   25\n",
      "Average     43  109\n",
      "High        52  100\n",
      "Very high   48  106\n"
     ]
    },
    {
     "data": {
      "image/png": "[encoded data removed]",
      "text/plain": [
       "<Figure size 432x288 with 1 Axes>"
      ]
     },
     "metadata": {
      "needs_background": "light"
     },
     "output_type": "display_data"
    }
   ],
   "source": [
    "print(pd.crosstab(train['Income_bin'],train['CPL_Status']))\n",
    "\n",
    "Income_bin = pd.crosstab(train['Income_bin'],train['CPL_Status'])\n",
    "Income_bin.div(Income_bin.sum(1).astype(float), axis=0).plot(kind=\"bar\", stacked=True)\n",
    "plt.xlabel('App_Income_1')\n",
    "P = plt.ylabel('Percentage')"
   ]
  },
  {
   "cell_type": "markdown",
   "metadata": {},
   "source": [
    "It can be inferred that Applicant income does not affect the chances of loan approval which contradicts our hypothesis in which we assumed that if the applicant income is high the chances of loan approval will also be high.\n",
    "\n",
    "We will analyze the Coapplicant income and loan amount variable in similar manner."
   ]
  },
  {
   "cell_type": "code",
   "execution_count": 33,
   "metadata": {},
   "outputs": [],
   "source": [
    "# making bins for co-applicant income (app_income_2) variable\n",
    "bins = [0,2500,4000,6000,81000]\n",
    "group = ['Low','Average','High', 'Very high']\n",
    "train['Coapplicant_Income_bin'] = pd.cut(df['App_Income_2'],bins,labels=group)"
   ]
  },
  {
   "cell_type": "code",
   "execution_count": 34,
   "metadata": {},
   "outputs": [
    {
     "data": {
      "image/png": "[encoded data removed]",
      "text/plain": [
       "<Figure size 432x288 with 1 Axes>"
      ]
     },
     "metadata": {
      "needs_background": "light"
     },
     "output_type": "display_data"
    }
   ],
   "source": [
    "# plot the chart\n",
    "Coapplicant_Income_bin = pd.crosstab(train['Coapplicant_Income_bin'],train['CPL_Status'])\n",
    "Coapplicant_Income_bin.div(Coapplicant_Income_bin.sum(1).astype(float), axis=0).plot(kind=\"bar\", stacked=True)\n",
    "plt.xlabel('App_Income_2')\n",
    "P = plt.ylabel('Percentage')"
   ]
  },
  {
   "cell_type": "code",
   "execution_count": 35,
   "metadata": {},
   "outputs": [
    {
     "name": "stdout",
     "output_type": "stream",
     "text": [
      "273\n"
     ]
    },
    {
     "data": {
      "text/plain": [
       "('Percentage of CoapplicantIncome = 0 is:', 0.44462540716612375)"
      ]
     },
     "execution_count": 35,
     "metadata": {},
     "output_type": "execute_result"
    }
   ],
   "source": [
    "print(len(train[train[\"App_Income_2\"] == 0]))\n",
    "\"Percentage of CoapplicantIncome = 0 is:\",  len(train[train[\"App_Income_2\"] == 0])/len(train[\"App_Income_2\"])"
   ]
  },
  {
   "cell_type": "markdown",
   "metadata": {},
   "source": [
    "It shows that if coapplicant’s income is less the chances of loan approval are high. But this does not look right. The possible reason behind this may be that most of the applicants don’t have any coapplicant, so the coapplicant income for such applicants is 0 and hence the loan approval is not dependent on it. So we can make a new variable in which we will combine the applicant’s and coapplicant’s income to visualize the combined effect of income on loan approval.\n",
    "\n",
    "Let us combine the App_Income_1 and App_Income_2 and see the combined effect of Total Income on the CPL_Status."
   ]
  },
  {
   "cell_type": "code",
   "execution_count": 36,
   "metadata": {},
   "outputs": [],
   "source": [
    "# create a new variable\n",
    "train['Total_Income'] = train['App_Income_1'] + train['App_Income_2']"
   ]
  },
  {
   "cell_type": "code",
   "execution_count": 37,
   "metadata": {},
   "outputs": [],
   "source": [
    "# making bins for Total Income variable\n",
    "bins = [0,2500,4000,6000,81000]\n",
    "group = ['Low','Average','High', 'Very high']\n",
    "train['Total_Income_bin'] = pd.cut(train['Total_Income'],bins,labels=group)"
   ]
  },
  {
   "cell_type": "code",
   "execution_count": 38,
   "metadata": {},
   "outputs": [
    {
     "data": {
      "image/png": "[encoded data removed]",
      "text/plain": [
       "<Figure size 432x288 with 1 Axes>"
      ]
     },
     "metadata": {
      "needs_background": "light"
     },
     "output_type": "display_data"
    }
   ],
   "source": [
    "# plot the chart\n",
    "Total_Income_bin = pd.crosstab(train['Total_Income_bin'],train['CPL_Status'])\n",
    "Total_Income_bin.div(Total_Income_bin.sum(1).astype(float), axis=0).plot(kind=\"bar\", stacked=True)\n",
    "plt.xlabel('Total_Income')\n",
    "P = plt.ylabel('Percentage')"
   ]
  },
  {
   "cell_type": "markdown",
   "metadata": {},
   "source": [
    "We can see that Proportion of loans getting approved for applicants having low Total_Income is very less as compared to that of applicants with Average, High and Very High Income. This is more consistent with our hypothesis with applicants with high income will have more chances of loan approval.\n",
    "\n",
    "Let’s visualize the Loan amount variable."
   ]
  },
  {
   "cell_type": "code",
   "execution_count": 39,
   "metadata": {},
   "outputs": [],
   "source": [
    "# making bins for Loan Amount(CPL_Amount)variable\n",
    "bins = [0,100,200,700]\n",
    "group = ['Low','Average','High']\n",
    "train['LoanAmount_bin'] = pd.cut(df['CPL_Amount'],bins,labels=group)"
   ]
  },
  {
   "cell_type": "code",
   "execution_count": 40,
   "metadata": {},
   "outputs": [
    {
     "data": {
      "image/png": "[encoded data removed]",
      "text/plain": [
       "<Figure size 432x288 with 1 Axes>"
      ]
     },
     "metadata": {
      "needs_background": "light"
     },
     "output_type": "display_data"
    }
   ],
   "source": [
    "LoanAmount_bin = pd.crosstab(train['LoanAmount_bin'],train['CPL_Status'])\n",
    "LoanAmount_bin.div(LoanAmount_bin.sum(1).astype(float), axis=0).plot(kind=\"bar\", stacked=True)\n",
    "plt.xlabel('CPL_Amount')\n",
    "P = plt.ylabel('Percentage')"
   ]
  },
  {
   "cell_type": "markdown",
   "metadata": {},
   "source": [
    "It can be seen that the proportion of approved loans is higher for Low and Average Loan Amount as compared to that of High Loan Amount which supports our hypothesis in which we considered that the chances of loan approval will be high when the loan amount is less.\n",
    "\n",
    "Let’s drop the bins which we created for the exploration part."
   ]
  },
  {
   "cell_type": "code",
   "execution_count": 41,
   "metadata": {},
   "outputs": [
    {
     "data": {
      "text/html": [
       "<div>\n",
       "<style scoped>\n",
       "    .dataframe tbody tr th:only-of-type {\n",
       "        vertical-align: middle;\n",
       "    }\n",
       "\n",
       "    .dataframe tbody tr th {\n",
       "        vertical-align: top;\n",
       "    }\n",
       "\n",
       "    .dataframe thead th {\n",
       "        text-align: right;\n",
       "    }\n",
       "</style>\n",
       "<table border=\"1\" class=\"dataframe\">\n",
       "  <thead>\n",
       "    <tr style=\"text-align: right;\">\n",
       "      <th></th>\n",
       "      <th>Loanapp_ID</th>\n",
       "      <th>Sex</th>\n",
       "      <th>Marital_Status</th>\n",
       "      <th>first_name</th>\n",
       "      <th>last_name</th>\n",
       "      <th>email</th>\n",
       "      <th>address</th>\n",
       "      <th>Dependents</th>\n",
       "      <th>Qual_var</th>\n",
       "      <th>SE</th>\n",
       "      <th>...</th>\n",
       "      <th>Prop_Area</th>\n",
       "      <th>INT_ID</th>\n",
       "      <th>Prev_ID</th>\n",
       "      <th>AGT_ID</th>\n",
       "      <th>CPL_Status</th>\n",
       "      <th>Income_bin</th>\n",
       "      <th>Coapplicant_Income_bin</th>\n",
       "      <th>Total_Income</th>\n",
       "      <th>Total_Income_bin</th>\n",
       "      <th>LoanAmount_bin</th>\n",
       "    </tr>\n",
       "  </thead>\n",
       "  <tbody>\n",
       "    <tr>\n",
       "      <th>0</th>\n",
       "      <td>CPL001002</td>\n",
       "      <td>M</td>\n",
       "      <td>N</td>\n",
       "      <td>Austin</td>\n",
       "      <td>Pennycook</td>\n",
       "      <td>apennycook1@mac.com</td>\n",
       "      <td>007 Miller Road</td>\n",
       "      <td>0</td>\n",
       "      <td>Grad</td>\n",
       "      <td>N</td>\n",
       "      <td>...</td>\n",
       "      <td>Urban</td>\n",
       "      <td>9694176212</td>\n",
       "      <td>92-247-0058</td>\n",
       "      <td>Mozilla/5.0 (Windows; U; Windows NT 5.1; zh-TW...</td>\n",
       "      <td>Y</td>\n",
       "      <td>NaN</td>\n",
       "      <td>NaN</td>\n",
       "      <td>7018.8</td>\n",
       "      <td>Very high</td>\n",
       "      <td>NaN</td>\n",
       "    </tr>\n",
       "    <tr>\n",
       "      <th>1</th>\n",
       "      <td>CPL001003</td>\n",
       "      <td>M</td>\n",
       "      <td>Y</td>\n",
       "      <td>Mareah</td>\n",
       "      <td>Tomanek</td>\n",
       "      <td>mtomanek2@bloomberg.com</td>\n",
       "      <td>145 Charing Cross Junction</td>\n",
       "      <td>1</td>\n",
       "      <td>Grad</td>\n",
       "      <td>N</td>\n",
       "      <td>...</td>\n",
       "      <td>Rural</td>\n",
       "      <td>152387684</td>\n",
       "      <td>36-236-3028</td>\n",
       "      <td>Mozilla/5.0 (Windows NT 5.1; rv:21.0) Gecko/20...</td>\n",
       "      <td>N</td>\n",
       "      <td>High</td>\n",
       "      <td>Low</td>\n",
       "      <td>7309.2</td>\n",
       "      <td>Very high</td>\n",
       "      <td>Average</td>\n",
       "    </tr>\n",
       "    <tr>\n",
       "      <th>2</th>\n",
       "      <td>CPL001005</td>\n",
       "      <td>M</td>\n",
       "      <td>Y</td>\n",
       "      <td>Myrna</td>\n",
       "      <td>Rosenthaler</td>\n",
       "      <td>mrosenthaler3@dmoz.org</td>\n",
       "      <td>268 Algoma Hill</td>\n",
       "      <td>0</td>\n",
       "      <td>Grad</td>\n",
       "      <td>Y</td>\n",
       "      <td>...</td>\n",
       "      <td>Urban</td>\n",
       "      <td>6510396556</td>\n",
       "      <td>34-339-0917</td>\n",
       "      <td>Mozilla/5.0 (Windows; U; Windows NT 6.1; cs-CZ...</td>\n",
       "      <td>Y</td>\n",
       "      <td>Average</td>\n",
       "      <td>NaN</td>\n",
       "      <td>3600.0</td>\n",
       "      <td>Average</td>\n",
       "      <td>Low</td>\n",
       "    </tr>\n",
       "    <tr>\n",
       "      <th>3</th>\n",
       "      <td>CPL001006</td>\n",
       "      <td>M</td>\n",
       "      <td>Y</td>\n",
       "      <td>Danyette</td>\n",
       "      <td>Stempe</td>\n",
       "      <td>dstempe4@tumblr.com</td>\n",
       "      <td>571 Stone Corner Park</td>\n",
       "      <td>0</td>\n",
       "      <td>Non Grad</td>\n",
       "      <td>N</td>\n",
       "      <td>...</td>\n",
       "      <td>Urban</td>\n",
       "      <td>7141853006</td>\n",
       "      <td>94-098-8902</td>\n",
       "      <td>Mozilla/5.0 (iPhone; U; CPU iPhone OS 4_2_1 li...</td>\n",
       "      <td>Y</td>\n",
       "      <td>Average</td>\n",
       "      <td>Average</td>\n",
       "      <td>5929.2</td>\n",
       "      <td>High</td>\n",
       "      <td>Average</td>\n",
       "    </tr>\n",
       "    <tr>\n",
       "      <th>4</th>\n",
       "      <td>CPL001008</td>\n",
       "      <td>M</td>\n",
       "      <td>N</td>\n",
       "      <td>Patten</td>\n",
       "      <td>McCathy</td>\n",
       "      <td>pmccathy5@ted.com</td>\n",
       "      <td>118 Moulton Drive</td>\n",
       "      <td>0</td>\n",
       "      <td>Grad</td>\n",
       "      <td>N</td>\n",
       "      <td>...</td>\n",
       "      <td>Urban</td>\n",
       "      <td>23293411</td>\n",
       "      <td>38-247-1410</td>\n",
       "      <td>Mozilla/5.0 (Windows NT 6.0; WOW64) AppleWebKi...</td>\n",
       "      <td>Y</td>\n",
       "      <td>Very high</td>\n",
       "      <td>NaN</td>\n",
       "      <td>7200.0</td>\n",
       "      <td>Very high</td>\n",
       "      <td>Average</td>\n",
       "    </tr>\n",
       "  </tbody>\n",
       "</table>\n",
       "<p>5 rows × 25 columns</p>\n",
       "</div>"
      ],
      "text/plain": [
       "  Loanapp_ID Sex Marital_Status first_name    last_name  \\\n",
       "0  CPL001002   M              N     Austin    Pennycook   \n",
       "1  CPL001003   M              Y     Mareah      Tomanek   \n",
       "2  CPL001005   M              Y      Myrna  Rosenthaler   \n",
       "3  CPL001006   M              Y   Danyette       Stempe   \n",
       "4  CPL001008   M              N     Patten      McCathy   \n",
       "\n",
       "                     email                     address Dependents  Qual_var  \\\n",
       "0      apennycook1@mac.com             007 Miller Road          0      Grad   \n",
       "1  mtomanek2@bloomberg.com  145 Charing Cross Junction          1      Grad   \n",
       "2   mrosenthaler3@dmoz.org             268 Algoma Hill          0      Grad   \n",
       "3      dstempe4@tumblr.com       571 Stone Corner Park          0  Non Grad   \n",
       "4        pmccathy5@ted.com           118 Moulton Drive          0      Grad   \n",
       "\n",
       "  SE  ...  Prop_Area      INT_ID      Prev_ID  \\\n",
       "0  N  ...      Urban  9694176212  92-247-0058   \n",
       "1  N  ...      Rural   152387684  36-236-3028   \n",
       "2  Y  ...      Urban  6510396556  34-339-0917   \n",
       "3  N  ...      Urban  7141853006  94-098-8902   \n",
       "4  N  ...      Urban    23293411  38-247-1410   \n",
       "\n",
       "                                              AGT_ID  CPL_Status Income_bin  \\\n",
       "0  Mozilla/5.0 (Windows; U; Windows NT 5.1; zh-TW...           Y        NaN   \n",
       "1  Mozilla/5.0 (Windows NT 5.1; rv:21.0) Gecko/20...           N       High   \n",
       "2  Mozilla/5.0 (Windows; U; Windows NT 6.1; cs-CZ...           Y    Average   \n",
       "3  Mozilla/5.0 (iPhone; U; CPU iPhone OS 4_2_1 li...           Y    Average   \n",
       "4  Mozilla/5.0 (Windows NT 6.0; WOW64) AppleWebKi...           Y  Very high   \n",
       "\n",
       "   Coapplicant_Income_bin Total_Income Total_Income_bin LoanAmount_bin  \n",
       "0                     NaN       7018.8        Very high            NaN  \n",
       "1                     Low       7309.2        Very high        Average  \n",
       "2                     NaN       3600.0          Average            Low  \n",
       "3                 Average       5929.2             High        Average  \n",
       "4                     NaN       7200.0        Very high        Average  \n",
       "\n",
       "[5 rows x 25 columns]"
      ]
     },
     "execution_count": 41,
     "metadata": {},
     "output_type": "execute_result"
    }
   ],
   "source": [
    "# before dropping\n",
    "train.head()"
   ]
  },
  {
   "cell_type": "code",
   "execution_count": 42,
   "metadata": {},
   "outputs": [],
   "source": [
    "# drop the new variable of bins\n",
    "train = train.drop(['INT_ID','Prev_ID','AGT_ID','address','email','last_name','first_name','Income_bin', 'Coapplicant_Income_bin', 'LoanAmount_bin', 'Total_Income_bin', 'Total_Income'], axis=1)"
   ]
  },
  {
   "cell_type": "code",
   "execution_count": 43,
   "metadata": {},
   "outputs": [
    {
     "data": {
      "text/html": [
       "<div>\n",
       "<style scoped>\n",
       "    .dataframe tbody tr th:only-of-type {\n",
       "        vertical-align: middle;\n",
       "    }\n",
       "\n",
       "    .dataframe tbody tr th {\n",
       "        vertical-align: top;\n",
       "    }\n",
       "\n",
       "    .dataframe thead th {\n",
       "        text-align: right;\n",
       "    }\n",
       "</style>\n",
       "<table border=\"1\" class=\"dataframe\">\n",
       "  <thead>\n",
       "    <tr style=\"text-align: right;\">\n",
       "      <th></th>\n",
       "      <th>Loanapp_ID</th>\n",
       "      <th>Sex</th>\n",
       "      <th>Marital_Status</th>\n",
       "      <th>Dependents</th>\n",
       "      <th>Qual_var</th>\n",
       "      <th>SE</th>\n",
       "      <th>App_Income_1</th>\n",
       "      <th>App_Income_2</th>\n",
       "      <th>CPL_Amount</th>\n",
       "      <th>CPL_Term</th>\n",
       "      <th>Credit_His</th>\n",
       "      <th>Prop_Area</th>\n",
       "      <th>CPL_Status</th>\n",
       "    </tr>\n",
       "  </thead>\n",
       "  <tbody>\n",
       "    <tr>\n",
       "      <th>0</th>\n",
       "      <td>CPL001002</td>\n",
       "      <td>M</td>\n",
       "      <td>N</td>\n",
       "      <td>0</td>\n",
       "      <td>Grad</td>\n",
       "      <td>N</td>\n",
       "      <td>7018.8</td>\n",
       "      <td>0.0</td>\n",
       "      <td>NaN</td>\n",
       "      <td>360.0</td>\n",
       "      <td>1.0</td>\n",
       "      <td>Urban</td>\n",
       "      <td>Y</td>\n",
       "    </tr>\n",
       "    <tr>\n",
       "      <th>1</th>\n",
       "      <td>CPL001003</td>\n",
       "      <td>M</td>\n",
       "      <td>Y</td>\n",
       "      <td>1</td>\n",
       "      <td>Grad</td>\n",
       "      <td>N</td>\n",
       "      <td>5499.6</td>\n",
       "      <td>1809.6</td>\n",
       "      <td>153.6</td>\n",
       "      <td>360.0</td>\n",
       "      <td>1.0</td>\n",
       "      <td>Rural</td>\n",
       "      <td>N</td>\n",
       "    </tr>\n",
       "    <tr>\n",
       "      <th>2</th>\n",
       "      <td>CPL001005</td>\n",
       "      <td>M</td>\n",
       "      <td>Y</td>\n",
       "      <td>0</td>\n",
       "      <td>Grad</td>\n",
       "      <td>Y</td>\n",
       "      <td>3600.0</td>\n",
       "      <td>0.0</td>\n",
       "      <td>79.2</td>\n",
       "      <td>360.0</td>\n",
       "      <td>1.0</td>\n",
       "      <td>Urban</td>\n",
       "      <td>Y</td>\n",
       "    </tr>\n",
       "    <tr>\n",
       "      <th>3</th>\n",
       "      <td>CPL001006</td>\n",
       "      <td>M</td>\n",
       "      <td>Y</td>\n",
       "      <td>0</td>\n",
       "      <td>Non Grad</td>\n",
       "      <td>N</td>\n",
       "      <td>3099.6</td>\n",
       "      <td>2829.6</td>\n",
       "      <td>144.0</td>\n",
       "      <td>360.0</td>\n",
       "      <td>1.0</td>\n",
       "      <td>Urban</td>\n",
       "      <td>Y</td>\n",
       "    </tr>\n",
       "    <tr>\n",
       "      <th>4</th>\n",
       "      <td>CPL001008</td>\n",
       "      <td>M</td>\n",
       "      <td>N</td>\n",
       "      <td>0</td>\n",
       "      <td>Grad</td>\n",
       "      <td>N</td>\n",
       "      <td>7200.0</td>\n",
       "      <td>0.0</td>\n",
       "      <td>169.2</td>\n",
       "      <td>360.0</td>\n",
       "      <td>1.0</td>\n",
       "      <td>Urban</td>\n",
       "      <td>Y</td>\n",
       "    </tr>\n",
       "  </tbody>\n",
       "</table>\n",
       "</div>"
      ],
      "text/plain": [
       "  Loanapp_ID Sex Marital_Status Dependents  Qual_var SE  App_Income_1  \\\n",
       "0  CPL001002   M              N          0      Grad  N        7018.8   \n",
       "1  CPL001003   M              Y          1      Grad  N        5499.6   \n",
       "2  CPL001005   M              Y          0      Grad  Y        3600.0   \n",
       "3  CPL001006   M              Y          0  Non Grad  N        3099.6   \n",
       "4  CPL001008   M              N          0      Grad  N        7200.0   \n",
       "\n",
       "   App_Income_2  CPL_Amount  CPL_Term  Credit_His Prop_Area CPL_Status  \n",
       "0           0.0         NaN     360.0         1.0     Urban          Y  \n",
       "1        1809.6       153.6     360.0         1.0     Rural          N  \n",
       "2           0.0        79.2     360.0         1.0     Urban          Y  \n",
       "3        2829.6       144.0     360.0         1.0     Urban          Y  \n",
       "4           0.0       169.2     360.0         1.0     Urban          Y  "
      ]
     },
     "execution_count": 43,
     "metadata": {},
     "output_type": "execute_result"
    }
   ],
   "source": [
    "# after dropping\n",
    "train.head()"
   ]
  },
  {
   "cell_type": "markdown",
   "metadata": {},
   "source": [
    "We will change the 3+ in dependents variable to 3 to make it a numerical variable. We will also convert the target variable’s categories into 0 and 1 so that we can find its correlation with numerical variables. One more reason to do so is few models like logistic regression takes only numeric values as input. We will replace N with 0 and Y with 1."
   ]
  },
  {
   "cell_type": "code",
   "execution_count": 44,
   "metadata": {},
   "outputs": [],
   "source": [
    "# replacing 3+ in Dependents variable with 3 for both train and test set\n",
    "train['Dependents'].replace('3+', 3, inplace=True)\n",
    "test['Dependents'].replace('3+', 3, inplace=True)"
   ]
  },
  {
   "cell_type": "code",
   "execution_count": 45,
   "metadata": {},
   "outputs": [],
   "source": [
    "# replacing Y and N in Loan Status(CPL_Status) variable with 1 and 0 respectively\n",
    "train['CPL_Status'].replace('N', 0, inplace=True)\n",
    "train['CPL_Status'].replace('Y', 1, inplace=True)"
   ]
  },
  {
   "cell_type": "code",
   "execution_count": 46,
   "metadata": {},
   "outputs": [
    {
     "data": {
      "text/html": [
       "<div>\n",
       "<style scoped>\n",
       "    .dataframe tbody tr th:only-of-type {\n",
       "        vertical-align: middle;\n",
       "    }\n",
       "\n",
       "    .dataframe tbody tr th {\n",
       "        vertical-align: top;\n",
       "    }\n",
       "\n",
       "    .dataframe thead th {\n",
       "        text-align: right;\n",
       "    }\n",
       "</style>\n",
       "<table border=\"1\" class=\"dataframe\">\n",
       "  <thead>\n",
       "    <tr style=\"text-align: right;\">\n",
       "      <th></th>\n",
       "      <th>Loanapp_ID</th>\n",
       "      <th>Sex</th>\n",
       "      <th>Marital_Status</th>\n",
       "      <th>Dependents</th>\n",
       "      <th>Qual_var</th>\n",
       "      <th>SE</th>\n",
       "      <th>App_Income_1</th>\n",
       "      <th>App_Income_2</th>\n",
       "      <th>CPL_Amount</th>\n",
       "      <th>CPL_Term</th>\n",
       "      <th>Credit_His</th>\n",
       "      <th>Prop_Area</th>\n",
       "      <th>CPL_Status</th>\n",
       "    </tr>\n",
       "  </thead>\n",
       "  <tbody>\n",
       "    <tr>\n",
       "      <th>0</th>\n",
       "      <td>CPL001002</td>\n",
       "      <td>M</td>\n",
       "      <td>N</td>\n",
       "      <td>0</td>\n",
       "      <td>Grad</td>\n",
       "      <td>N</td>\n",
       "      <td>7018.8</td>\n",
       "      <td>0.0</td>\n",
       "      <td>NaN</td>\n",
       "      <td>360.0</td>\n",
       "      <td>1.0</td>\n",
       "      <td>Urban</td>\n",
       "      <td>1</td>\n",
       "    </tr>\n",
       "    <tr>\n",
       "      <th>1</th>\n",
       "      <td>CPL001003</td>\n",
       "      <td>M</td>\n",
       "      <td>Y</td>\n",
       "      <td>1</td>\n",
       "      <td>Grad</td>\n",
       "      <td>N</td>\n",
       "      <td>5499.6</td>\n",
       "      <td>1809.6</td>\n",
       "      <td>153.6</td>\n",
       "      <td>360.0</td>\n",
       "      <td>1.0</td>\n",
       "      <td>Rural</td>\n",
       "      <td>0</td>\n",
       "    </tr>\n",
       "    <tr>\n",
       "      <th>2</th>\n",
       "      <td>CPL001005</td>\n",
       "      <td>M</td>\n",
       "      <td>Y</td>\n",
       "      <td>0</td>\n",
       "      <td>Grad</td>\n",
       "      <td>Y</td>\n",
       "      <td>3600.0</td>\n",
       "      <td>0.0</td>\n",
       "      <td>79.2</td>\n",
       "      <td>360.0</td>\n",
       "      <td>1.0</td>\n",
       "      <td>Urban</td>\n",
       "      <td>1</td>\n",
       "    </tr>\n",
       "    <tr>\n",
       "      <th>3</th>\n",
       "      <td>CPL001006</td>\n",
       "      <td>M</td>\n",
       "      <td>Y</td>\n",
       "      <td>0</td>\n",
       "      <td>Non Grad</td>\n",
       "      <td>N</td>\n",
       "      <td>3099.6</td>\n",
       "      <td>2829.6</td>\n",
       "      <td>144.0</td>\n",
       "      <td>360.0</td>\n",
       "      <td>1.0</td>\n",
       "      <td>Urban</td>\n",
       "      <td>1</td>\n",
       "    </tr>\n",
       "    <tr>\n",
       "      <th>4</th>\n",
       "      <td>CPL001008</td>\n",
       "      <td>M</td>\n",
       "      <td>N</td>\n",
       "      <td>0</td>\n",
       "      <td>Grad</td>\n",
       "      <td>N</td>\n",
       "      <td>7200.0</td>\n",
       "      <td>0.0</td>\n",
       "      <td>169.2</td>\n",
       "      <td>360.0</td>\n",
       "      <td>1.0</td>\n",
       "      <td>Urban</td>\n",
       "      <td>1</td>\n",
       "    </tr>\n",
       "    <tr>\n",
       "      <th>5</th>\n",
       "      <td>CPL001011</td>\n",
       "      <td>M</td>\n",
       "      <td>Y</td>\n",
       "      <td>2</td>\n",
       "      <td>Grad</td>\n",
       "      <td>Y</td>\n",
       "      <td>6500.4</td>\n",
       "      <td>5035.2</td>\n",
       "      <td>320.4</td>\n",
       "      <td>360.0</td>\n",
       "      <td>1.0</td>\n",
       "      <td>Urban</td>\n",
       "      <td>1</td>\n",
       "    </tr>\n",
       "    <tr>\n",
       "      <th>6</th>\n",
       "      <td>CPL001013</td>\n",
       "      <td>M</td>\n",
       "      <td>Y</td>\n",
       "      <td>0</td>\n",
       "      <td>Non Grad</td>\n",
       "      <td>N</td>\n",
       "      <td>2799.6</td>\n",
       "      <td>1819.2</td>\n",
       "      <td>114.0</td>\n",
       "      <td>360.0</td>\n",
       "      <td>1.0</td>\n",
       "      <td>Urban</td>\n",
       "      <td>1</td>\n",
       "    </tr>\n",
       "    <tr>\n",
       "      <th>7</th>\n",
       "      <td>CPL001014</td>\n",
       "      <td>M</td>\n",
       "      <td>Y</td>\n",
       "      <td>3</td>\n",
       "      <td>Grad</td>\n",
       "      <td>N</td>\n",
       "      <td>3643.2</td>\n",
       "      <td>3004.8</td>\n",
       "      <td>189.6</td>\n",
       "      <td>360.0</td>\n",
       "      <td>0.0</td>\n",
       "      <td>Semi U</td>\n",
       "      <td>0</td>\n",
       "    </tr>\n",
       "    <tr>\n",
       "      <th>8</th>\n",
       "      <td>CPL001018</td>\n",
       "      <td>M</td>\n",
       "      <td>Y</td>\n",
       "      <td>2</td>\n",
       "      <td>Grad</td>\n",
       "      <td>N</td>\n",
       "      <td>4807.2</td>\n",
       "      <td>1831.2</td>\n",
       "      <td>201.6</td>\n",
       "      <td>360.0</td>\n",
       "      <td>1.0</td>\n",
       "      <td>Urban</td>\n",
       "      <td>1</td>\n",
       "    </tr>\n",
       "    <tr>\n",
       "      <th>9</th>\n",
       "      <td>CPL001020</td>\n",
       "      <td>M</td>\n",
       "      <td>Y</td>\n",
       "      <td>1</td>\n",
       "      <td>Grad</td>\n",
       "      <td>N</td>\n",
       "      <td>15409.2</td>\n",
       "      <td>13161.6</td>\n",
       "      <td>418.8</td>\n",
       "      <td>360.0</td>\n",
       "      <td>1.0</td>\n",
       "      <td>Semi U</td>\n",
       "      <td>0</td>\n",
       "    </tr>\n",
       "  </tbody>\n",
       "</table>\n",
       "</div>"
      ],
      "text/plain": [
       "  Loanapp_ID Sex Marital_Status Dependents  Qual_var SE  App_Income_1  \\\n",
       "0  CPL001002   M              N          0      Grad  N        7018.8   \n",
       "1  CPL001003   M              Y          1      Grad  N        5499.6   \n",
       "2  CPL001005   M              Y          0      Grad  Y        3600.0   \n",
       "3  CPL001006   M              Y          0  Non Grad  N        3099.6   \n",
       "4  CPL001008   M              N          0      Grad  N        7200.0   \n",
       "5  CPL001011   M              Y          2      Grad  Y        6500.4   \n",
       "6  CPL001013   M              Y          0  Non Grad  N        2799.6   \n",
       "7  CPL001014   M              Y          3      Grad  N        3643.2   \n",
       "8  CPL001018   M              Y          2      Grad  N        4807.2   \n",
       "9  CPL001020   M              Y          1      Grad  N       15409.2   \n",
       "\n",
       "   App_Income_2  CPL_Amount  CPL_Term  Credit_His Prop_Area  CPL_Status  \n",
       "0           0.0         NaN     360.0         1.0     Urban           1  \n",
       "1        1809.6       153.6     360.0         1.0     Rural           0  \n",
       "2           0.0        79.2     360.0         1.0     Urban           1  \n",
       "3        2829.6       144.0     360.0         1.0     Urban           1  \n",
       "4           0.0       169.2     360.0         1.0     Urban           1  \n",
       "5        5035.2       320.4     360.0         1.0     Urban           1  \n",
       "6        1819.2       114.0     360.0         1.0     Urban           1  \n",
       "7        3004.8       189.6     360.0         0.0    Semi U           0  \n",
       "8        1831.2       201.6     360.0         1.0     Urban           1  \n",
       "9       13161.6       418.8     360.0         1.0    Semi U           0  "
      ]
     },
     "execution_count": 46,
     "metadata": {},
     "output_type": "execute_result"
    }
   ],
   "source": [
    "# check the dataset\n",
    "train.head(10)"
   ]
  },
  {
   "cell_type": "markdown",
   "metadata": {},
   "source": [
    "Now lets look at the correlation between all the numerical variables. We can use the corr() to compute pairwise correlation of columns, excluding NA/null values using pearson correlation coefficient. Then we will use the heat map to visualize the correlation. Heatmaps visualize data through variations in coloring. The variables with darker color means their correlation is more."
   ]
  },
  {
   "cell_type": "code",
   "execution_count": 47,
   "metadata": {},
   "outputs": [
    {
     "data": {
      "text/html": [
       "<div>\n",
       "<style scoped>\n",
       "    .dataframe tbody tr th:only-of-type {\n",
       "        vertical-align: middle;\n",
       "    }\n",
       "\n",
       "    .dataframe tbody tr th {\n",
       "        vertical-align: top;\n",
       "    }\n",
       "\n",
       "    .dataframe thead th {\n",
       "        text-align: right;\n",
       "    }\n",
       "</style>\n",
       "<table border=\"1\" class=\"dataframe\">\n",
       "  <thead>\n",
       "    <tr style=\"text-align: right;\">\n",
       "      <th></th>\n",
       "      <th>App_Income_1</th>\n",
       "      <th>App_Income_2</th>\n",
       "      <th>CPL_Amount</th>\n",
       "      <th>CPL_Term</th>\n",
       "      <th>Credit_His</th>\n",
       "      <th>CPL_Status</th>\n",
       "    </tr>\n",
       "  </thead>\n",
       "  <tbody>\n",
       "    <tr>\n",
       "      <th>App_Income_1</th>\n",
       "      <td>1.000000</td>\n",
       "      <td>-0.116605</td>\n",
       "      <td>0.023086</td>\n",
       "      <td>-0.045306</td>\n",
       "      <td>-0.014715</td>\n",
       "      <td>-0.004710</td>\n",
       "    </tr>\n",
       "    <tr>\n",
       "      <th>App_Income_2</th>\n",
       "      <td>-0.116605</td>\n",
       "      <td>1.000000</td>\n",
       "      <td>0.095115</td>\n",
       "      <td>-0.059878</td>\n",
       "      <td>-0.002056</td>\n",
       "      <td>-0.059187</td>\n",
       "    </tr>\n",
       "    <tr>\n",
       "      <th>CPL_Amount</th>\n",
       "      <td>0.023086</td>\n",
       "      <td>0.095115</td>\n",
       "      <td>1.000000</td>\n",
       "      <td>-0.006866</td>\n",
       "      <td>0.004377</td>\n",
       "      <td>0.032640</td>\n",
       "    </tr>\n",
       "    <tr>\n",
       "      <th>CPL_Term</th>\n",
       "      <td>-0.045306</td>\n",
       "      <td>-0.059878</td>\n",
       "      <td>-0.006866</td>\n",
       "      <td>1.000000</td>\n",
       "      <td>0.001470</td>\n",
       "      <td>-0.021268</td>\n",
       "    </tr>\n",
       "    <tr>\n",
       "      <th>Credit_His</th>\n",
       "      <td>-0.014715</td>\n",
       "      <td>-0.002056</td>\n",
       "      <td>0.004377</td>\n",
       "      <td>0.001470</td>\n",
       "      <td>1.000000</td>\n",
       "      <td>0.561678</td>\n",
       "    </tr>\n",
       "    <tr>\n",
       "      <th>CPL_Status</th>\n",
       "      <td>-0.004710</td>\n",
       "      <td>-0.059187</td>\n",
       "      <td>0.032640</td>\n",
       "      <td>-0.021268</td>\n",
       "      <td>0.561678</td>\n",
       "      <td>1.000000</td>\n",
       "    </tr>\n",
       "  </tbody>\n",
       "</table>\n",
       "</div>"
      ],
      "text/plain": [
       "              App_Income_1  App_Income_2  CPL_Amount  CPL_Term  Credit_His  \\\n",
       "App_Income_1      1.000000     -0.116605    0.023086 -0.045306   -0.014715   \n",
       "App_Income_2     -0.116605      1.000000    0.095115 -0.059878   -0.002056   \n",
       "CPL_Amount        0.023086      0.095115    1.000000 -0.006866    0.004377   \n",
       "CPL_Term         -0.045306     -0.059878   -0.006866  1.000000    0.001470   \n",
       "Credit_His       -0.014715     -0.002056    0.004377  0.001470    1.000000   \n",
       "CPL_Status       -0.004710     -0.059187    0.032640 -0.021268    0.561678   \n",
       "\n",
       "              CPL_Status  \n",
       "App_Income_1   -0.004710  \n",
       "App_Income_2   -0.059187  \n",
       "CPL_Amount      0.032640  \n",
       "CPL_Term       -0.021268  \n",
       "Credit_His      0.561678  \n",
       "CPL_Status      1.000000  "
      ]
     },
     "execution_count": 47,
     "metadata": {},
     "output_type": "execute_result"
    },
    {
     "data": {
      "image/png": "[encoded data removed]",
      "text/plain": [
       "<Figure size 648x432 with 2 Axes>"
      ]
     },
     "metadata": {
      "needs_background": "light"
     },
     "output_type": "display_data"
    }
   ],
   "source": [
    "# calculate and visualize correlation matrix\n",
    "matrix = train.corr()\n",
    "f, ax = plt.subplots(figsize=(9, 6))\n",
    "sns.heatmap(matrix, vmax=1, square=True, cmap=\"BuPu\", annot=True)\n",
    "\n",
    "matrix"
   ]
  },
  {
   "cell_type": "markdown",
   "metadata": {},
   "source": [
    "Note: We see that the most correlated variables are\n",
    "\n",
    "\n",
    "- (Credit_His - CPL_Status) with correlation coefficient of 0.56\n",
    "- CPL_Amount is also correlated with App_Income_2 with correlation coefficient of 0.095."
   ]
  },
  {
   "cell_type": "markdown",
   "metadata": {},
   "source": [
    "# Data Pre-processing"
   ]
  },
  {
   "cell_type": "markdown",
   "metadata": {},
   "source": [
    "Data pre-processing is a data mining technique that involves transforming raw data into an understandable format. Real-world data is often incomplete, inconsistent, and/or lacking in certain behaviors or trends, and is likely to contain many errors. Data pre-processing is a method of resolving such issues."
   ]
  },
  {
   "cell_type": "markdown",
   "metadata": {},
   "source": [
    "# Missing value and outlier treatment"
   ]
  },
  {
   "cell_type": "markdown",
   "metadata": {},
   "source": [
    "After exploring all the variables in our data, we can now impute the missing values and treat the outliers because missing data and outliers can have adverse effect on the model performance."
   ]
  },
  {
   "cell_type": "markdown",
   "metadata": {},
   "source": [
    "# Missing value imputation"
   ]
  },
  {
   "cell_type": "markdown",
   "metadata": {},
   "source": [
    "Let’s list out feature-wise count of missing values."
   ]
  },
  {
   "cell_type": "code",
   "execution_count": 48,
   "metadata": {},
   "outputs": [
    {
     "data": {
      "text/plain": [
       "Loanapp_ID         0\n",
       "Sex               13\n",
       "Marital_Status     3\n",
       "Dependents        15\n",
       "Qual_var           0\n",
       "SE                32\n",
       "App_Income_1       0\n",
       "App_Income_2       0\n",
       "CPL_Amount         2\n",
       "CPL_Term          14\n",
       "Credit_His        50\n",
       "Prop_Area          0\n",
       "CPL_Status         0\n",
       "dtype: int64"
      ]
     },
     "execution_count": 48,
     "metadata": {},
     "output_type": "execute_result"
    }
   ],
   "source": [
    "# check for missing values\n",
    "train.isnull().sum()"
   ]
  },
  {
   "cell_type": "markdown",
   "metadata": {},
   "source": [
    "There are missing values in Sex, Marital_Status, Dependents, SE, CPL_Amount, CPL_Term and Credit_His features. We will treat the missing values in all the features one by one.\n",
    "\n",
    "We can consider these methods to fill the missing values:\n",
    "\n",
    "- For numerical variables: imputation using mean or median\n",
    "- For categorical variables: imputation using mode\n",
    "\n",
    "There are very less missing values in Sex, Marital_Status, Dependents, SE,  Credit_His features so we can fill them using the mode of the features. If an independent variable in our dataset has huge amount of missing data e.g. 80% missing values in it, then we would drop the variable from the dataset."
   ]
  },
  {
   "cell_type": "code",
   "execution_count": 49,
   "metadata": {},
   "outputs": [],
   "source": [
    "# replace missing values with the mode\n",
    "train['Sex'].fillna(train['Sex'].mode()[0], inplace=True)\n",
    "train['Marital_Status'].fillna(train['Marital_Status'].mode()[0], inplace=True)\n",
    "train['Dependents'].fillna(train['Dependents'].mode()[0], inplace=True)\n",
    "train['SE'].fillna(train['SE'].mode()[0], inplace=True)\n",
    "train['Credit_His'].fillna(train['Credit_His'].mode()[0], inplace=True)"
   ]
  },
  {
   "cell_type": "markdown",
   "metadata": {},
   "source": [
    "Now let’s try to find a way to fill the missing values in CPL_Term. We will look at the value count of the CPL_Amount term variable."
   ]
  },
  {
   "cell_type": "code",
   "execution_count": 50,
   "metadata": {},
   "outputs": [
    {
     "data": {
      "text/plain": [
       "360.0    512\n",
       "180.0     44\n",
       "480.0     15\n",
       "300.0     13\n",
       "84.0       4\n",
       "240.0      4\n",
       "120.0      3\n",
       "36.0       2\n",
       "60.0       2\n",
       "12.0       1\n",
       "Name: CPL_Term, dtype: int64"
      ]
     },
     "execution_count": 50,
     "metadata": {},
     "output_type": "execute_result"
    }
   ],
   "source": [
    "train['CPL_Term'].value_counts()"
   ]
  },
  {
   "cell_type": "markdown",
   "metadata": {},
   "source": [
    "It can be seen that in loan amount term variable, the value of 360 is repeating the most. So we will replace the missing values in this variable using the mode of this variable."
   ]
  },
  {
   "cell_type": "code",
   "execution_count": 51,
   "metadata": {},
   "outputs": [],
   "source": [
    "train['CPL_Term'].fillna(train['CPL_Term'].mode()[0], inplace=True)"
   ]
  },
  {
   "cell_type": "markdown",
   "metadata": {},
   "source": [
    "Now we will see the CPL_Amount variable. As it is a numerical variable, we can use mean or median to impute the missing values. We will use median to fill the null values as earlier we saw that loan amount have outliers so the mean will not be the proper approach as it is highly affected by the presence of outliers."
   ]
  },
  {
   "cell_type": "code",
   "execution_count": 52,
   "metadata": {},
   "outputs": [],
   "source": [
    "# replace missing values with the median value due to outliers\n",
    "train['CPL_Amount'].fillna(train['CPL_Amount'].median(), inplace=True)"
   ]
  },
  {
   "cell_type": "code",
   "execution_count": 53,
   "metadata": {},
   "outputs": [
    {
     "data": {
      "text/plain": [
       "Loanapp_ID        0\n",
       "Sex               0\n",
       "Marital_Status    0\n",
       "Dependents        0\n",
       "Qual_var          0\n",
       "SE                0\n",
       "App_Income_1      0\n",
       "App_Income_2      0\n",
       "CPL_Amount        0\n",
       "CPL_Term          0\n",
       "Credit_His        0\n",
       "Prop_Area         0\n",
       "CPL_Status        0\n",
       "dtype: int64"
      ]
     },
     "execution_count": 53,
     "metadata": {},
     "output_type": "execute_result"
    }
   ],
   "source": [
    "# check whether all the missing values are filled in the Train dataset\n",
    "train.isnull().sum()"
   ]
  },
  {
   "cell_type": "markdown",
   "metadata": {},
   "source": [
    "As we can see that all the missing values have been filled in the Train dataset. Let’s fill all the missing values in the test dataset too with the same approach."
   ]
  },
  {
   "cell_type": "markdown",
   "metadata": {},
   "source": [
    "Note: We need to replace the missing values in Test set using the mode/median/mean of the Training set, not from the Test set. Likewise, if you remove values above some threshold in the test case, make sure that the threshold is derived from the training and not test set. Make sure to calculate the mean (or any other metrics) only on the train data to avoid data leakage to your test set."
   ]
  },
  {
   "cell_type": "code",
   "execution_count": 54,
   "metadata": {},
   "outputs": [],
   "source": [
    "# replace missing values in Test set with mode/median from Training set\n",
    "test['Sex'].fillna(train['Sex'].mode()[0], inplace=True)\n",
    "test['Dependents'].fillna(train['Dependents'].mode()[0], inplace=True)\n",
    "test['SE'].fillna(train['SE'].mode()[0], inplace=True)\n",
    "test['Credit_His'].fillna(train['Credit_His'].mode()[0], inplace=True)\n",
    "test['CPL_Term'].fillna(train['CPL_Term'].mode()[0], inplace=True)\n",
    "test['CPL_Amount'].fillna(train['CPL_Amount'].median(), inplace=True)"
   ]
  },
  {
   "cell_type": "code",
   "execution_count": 55,
   "metadata": {},
   "outputs": [
    {
     "data": {
      "text/plain": [
       "Loanapp_ID        0\n",
       "Sex               0\n",
       "Marital_Status    0\n",
       "Dependents        0\n",
       "Qual_var          0\n",
       "SE                0\n",
       "App_Income_1      0\n",
       "App_Income_2      0\n",
       "CPL_Amount        0\n",
       "CPL_Term          0\n",
       "Credit_His        0\n",
       "Prop_Area         0\n",
       "dtype: int64"
      ]
     },
     "execution_count": 55,
     "metadata": {},
     "output_type": "execute_result"
    }
   ],
   "source": [
    "# check whether all the missing values are filled in the Test dataset\n",
    "test.isnull().sum()"
   ]
  },
  {
   "cell_type": "markdown",
   "metadata": {},
   "source": [
    "As we can see that all the missing values have been filled in the Test dataset."
   ]
  },
  {
   "cell_type": "markdown",
   "metadata": {},
   "source": [
    "# Outlier Treatment"
   ]
  },
  {
   "cell_type": "markdown",
   "metadata": {},
   "source": [
    "As we saw earlier in univariate analysis, LoanAmount contains outliers so we have to treat them as the presence of outliers affects the distribution of the data. Having outliers in the dataset often has a significant effect on the mean and standard deviation and hence affecting the distribution. We must take steps to remove outliers from our data sets.\n",
    "\n",
    "Due to these outliers bulk of the data in the loan amount is at the left and the right tail is longer. This is called right skewness (or positive skewness). One way to remove the skewness is by doing the log transformation. As we take the log transformation, it does not affect the smaller values much, but reduces the larger values. So, we get a distribution similar to normal distribution.\n",
    "\n",
    "Let’s visualize the effect of log transformation. We will do the similar changes to the test file simultaneously."
   ]
  },
  {
   "cell_type": "code",
   "execution_count": 56,
   "metadata": {},
   "outputs": [
    {
     "data": {
      "text/plain": [
       "Text(0.5, 1.0, 'Test')"
      ]
     },
     "execution_count": 56,
     "metadata": {},
     "output_type": "execute_result"
    },
    {
     "data": {
      "image/png": "[encoded data removed]",
      "text/plain": [
       "<Figure size 864x288 with 2 Axes>"
      ]
     },
     "metadata": {
      "needs_background": "light"
     },
     "output_type": "display_data"
    }
   ],
   "source": [
    "# before log transformation\n",
    "\n",
    "ax1 = plt.subplot(121)\n",
    "train['CPL_Amount'].hist(bins=20, figsize=(12,4))\n",
    "ax1.set_title(\"Train\")\n",
    "\n",
    "ax2 = plt.subplot(122)\n",
    "test['CPL_Amount'].hist(bins=20)\n",
    "ax2.set_title(\"Test\")"
   ]
  },
  {
   "cell_type": "code",
   "execution_count": 57,
   "metadata": {},
   "outputs": [],
   "source": [
    "# Removing skewness in LoanAmount variable by log transformation\n",
    "train['CPL_Amount_log'] = np.log(train['CPL_Amount'])\n",
    "test['CPL_Amount_log'] = np.log(test['CPL_Amount'])"
   ]
  },
  {
   "cell_type": "code",
   "execution_count": 58,
   "metadata": {},
   "outputs": [
    {
     "data": {
      "text/plain": [
       "Text(0.5, 1.0, 'Test')"
      ]
     },
     "execution_count": 58,
     "metadata": {},
     "output_type": "execute_result"
    },
    {
     "data": {
      "image/png": "[encoded data removed]",
      "text/plain": [
       "<Figure size 864x288 with 2 Axes>"
      ]
     },
     "metadata": {
      "needs_background": "light"
     },
     "output_type": "display_data"
    }
   ],
   "source": [
    "# after log transformation\n",
    "\n",
    "ax1 = plt.subplot(121)\n",
    "train['CPL_Amount_log'].hist(bins=20, figsize=(12,4))\n",
    "ax1.set_title(\"Train\")\n",
    "\n",
    "ax2 = plt.subplot(122)\n",
    "test['CPL_Amount_log'].hist(bins=20)\n",
    "ax2.set_title(\"Test\")"
   ]
  },
  {
   "cell_type": "markdown",
   "metadata": {},
   "source": [
    "Now the distribution looks much closer to normal and effect of extreme values has been significantly subsided. Let’s build a logistic regression model and make predictions for the test dataset.\n",
    "\n"
   ]
  },
  {
   "cell_type": "markdown",
   "metadata": {},
   "source": [
    "# Model Development and Evaluation"
   ]
  },
  {
   "cell_type": "markdown",
   "metadata": {},
   "source": [
    "There are four sub-sections in this stage:\n",
    "\n",
    "- Evaluation Metrics for Classification Problems\n",
    "- Model Building : Part I\n",
    "- Feature Engineering\n",
    "- Model Building : Part II"
   ]
  },
  {
   "cell_type": "markdown",
   "metadata": {},
   "source": [
    "# Evaluation Metrics for Classification Problems"
   ]
  },
  {
   "cell_type": "markdown",
   "metadata": {},
   "source": [
    "The process of model building is not complete without evaluation of model’s performance. Suppose we have the predictions from the model, how can we decide whether the predictions are accurate? We can plot the results and compare them with the actual values, i.e. calculate the distance between the predictions and actual values. Lesser this distance more accurate will be the predictions. Since this is a classification problem, we can evaluate our models using any one of the following evaluation metrics:\n",
    "\n",
    "Accuracy: Let us understand it using the confusion matrix which is a tabular representation of Actual vs Predicted values. This is how a confusion matrix looks like:"
   ]
  },
  {
   "attachments": {
    "image.png": {
     "image/png": "[encoded data removed]"
    }
   },
   "cell_type": "markdown",
   "metadata": {},
   "source": [
    "![image.png](attachment:image.png)"
   ]
  },
  {
   "cell_type": "markdown",
   "metadata": {},
   "source": [
    "- True Positive - Targets which are actually true(Y) and we have predicted them true(Y)\n",
    "- True Negative - Targets which are actually false(N) and we have predicted them false(N)\n",
    "- False Positive - Targets which are actually false(N) but we have predicted them true(T)\n",
    "- False Negative - Targets which are actually true(T) but we have predicted them false(N)\n",
    "\n",
    "Using these values, we can calculate the accuracy of the model. The accuracy is given by:\n",
    "\n",
    "- Accuracy = (TP+TN) / (TP+TN+FP+FN)\n",
    "\n",
    "- Precision: It is a measure of correctness achieved in true prediction i.e. of observations labeled as true, how many are actually labeled true.\n",
    "\n",
    "- Precision = TP / (TP + FP)\n",
    "\n",
    "- Recall (Sensitivity) - It is a measure of actual observations which are predicted correctly i.e. how many observations of true class are labeled correctly. It is also known as ‘Sensitivity’. E.g. Proportion of patients with a disease who test positive.\n",
    "\n",
    "- Recall = TP / (TP + FN)\n",
    "\n",
    "- Specificity - It is a measure of how many observations of false class are labeled correctly. E.g. Proportion of patients without the disease who test negative.\n",
    "\n",
    "- Specificity = TN / (TN + FP)\n",
    "\n",
    "Specificity and Sensitivity plays a crucial role in deriving ROC curve.\n",
    "\n",
    "ROC curve\n",
    "\n",
    "- Receiver Operating Characteristic(ROC) summarizes the model’s performance by evaluating the trade offs between true positive rate (Sensitivity) and false positive rate (1- Specificity).\n",
    "- The area under curve (AUC), referred to as index of accuracy(A) or concordance index, is a perfect performance metric for ROC curve. Higher the area under curve, better the prediction power of the model.\n",
    "- The area of this curve measures the ability of the model to correctly classify true positives and true negatives. We want our model to predict the true classes as true and false classes as false.\n",
    "- So it can be said that we want the true positive rate to be 1. But we are not concerned with the true positive rate only but the false positive rate too. For example in our problem, we are not only concerned about predicting the Y classes as Y but we also want N classes to be predicted as N.\n",
    "- We want to increase the area of the curve which will be maximum for class 2,3,4 and 5 in the above example.\n",
    "- For class 1 when the false positive rate is 0.2, the true positive rate is around 0.6. But for class 2 the true positive rate is 1 at the same false positive rate. So, the AUC for class 2 will be much more as compared to the AUC for class 1. So, the model for class 2 will be better.\n",
    "- The class 2,3,4 and 5 model will predict more accurately as compared to the class 0 and 1 model as the AUC is more for those classes.\n",
    "\n",
    "This is how a ROC curve looks like:"
   ]
  },
  {
   "attachments": {
    "image.png": {
     "image/png": "[encoded data removed]"
    }
   },
   "cell_type": "markdown",
   "metadata": {},
   "source": [
    "![image.png](attachment:image.png)"
   ]
  },
  {
   "cell_type": "markdown",
   "metadata": {},
   "source": [
    "# Model Building : Part I"
   ]
  },
  {
   "cell_type": "markdown",
   "metadata": {},
   "source": [
    "Let us make our first model to predict the target variable. We will start with Logistic Regression which is used for predicting binary outcome.\n",
    "\n",
    "- Logistic Regression is a classification algorithm. It is used to predict a binary outcome (1 / 0, Yes / No, True / False) given a set of independent variables.\n",
    "- Logistic regression is an estimation of Logit function. Logit function is simply a log of odds in favor of the event.\n",
    "- This function creates a s-shaped curve with the probability estimate, which is very similar to the required step wise function"
   ]
  },
  {
   "cell_type": "markdown",
   "metadata": {},
   "source": [
    "Lets drop the Loanapp_ID variable as it do not have any effect on the loan status. We will do the same changes to the test dataset which we did for the training dataset."
   ]
  },
  {
   "cell_type": "code",
   "execution_count": 59,
   "metadata": {},
   "outputs": [],
   "source": [
    "# drop Loan_ID \n",
    "train = train.drop('Loanapp_ID', axis=1)\n",
    "test = test.drop('Loanapp_ID', axis=1)"
   ]
  },
  {
   "cell_type": "markdown",
   "metadata": {},
   "source": [
    "We will use scikit-learn (sklearn) for making different models which is an open source library for Python. It is one of the most efficient tool which contains many inbuilt functions that can be used for modeling in Python."
   ]
  },
  {
   "cell_type": "markdown",
   "metadata": {},
   "source": [
    "Sklearn requires the target variable in a separate dataset. So, we will drop our target variable from the train dataset and save it in another dataset."
   ]
  },
  {
   "cell_type": "code",
   "execution_count": 60,
   "metadata": {},
   "outputs": [],
   "source": [
    "# drop \"Loan_Status\" and assign it to target variable\n",
    "X = train.drop('CPL_Status', 1)\n",
    "y = train.CPL_Status"
   ]
  },
  {
   "cell_type": "markdown",
   "metadata": {},
   "source": [
    "Now we will make dummy variables for the categorical variables. Dummy variable turns categorical variables into a series of 0 and 1, making them lot easier to quantify and compare. Let us understand the process of dummies first:\n",
    "\n",
    "- Consider the “Sex” variable. It has two classes, Male and Female.\n",
    "- As logistic regression takes only the numerical values as input, we have to change male and female into numerical value.\n",
    "- Once we apply dummies to this variable, it will convert the “Sex” variable into two variables(Sex_Male and Sex_Female), one for each class, i.e. Male and Female.\n",
    "- Sex_Male will have a value of 0 if the gender is Female and a value of 1 if the gender is Male."
   ]
  },
  {
   "cell_type": "markdown",
   "metadata": {},
   "source": [
    "We can use pandas get_dummies function to convert categorical variable into dummy/indicator variables, it will only convert \"object\" type and will not affect numerical type."
   ]
  },
  {
   "cell_type": "code",
   "execution_count": 61,
   "metadata": {},
   "outputs": [],
   "source": [
    "# adding dummies to the dataset\n",
    "\n",
    "X = pd.get_dummies(X)\n",
    "train = pd.get_dummies(train)\n",
    "test = pd.get_dummies(test)"
   ]
  },
  {
   "cell_type": "code",
   "execution_count": 62,
   "metadata": {},
   "outputs": [
    {
     "data": {
      "text/plain": [
       "((614, 21), (614, 22), (367, 21))"
      ]
     },
     "execution_count": 62,
     "metadata": {},
     "output_type": "execute_result"
    }
   ],
   "source": [
    "X.shape, train.shape, test.shape"
   ]
  },
  {
   "cell_type": "code",
   "execution_count": 63,
   "metadata": {},
   "outputs": [
    {
     "data": {
      "text/html": [
       "<div>\n",
       "<style scoped>\n",
       "    .dataframe tbody tr th:only-of-type {\n",
       "        vertical-align: middle;\n",
       "    }\n",
       "\n",
       "    .dataframe tbody tr th {\n",
       "        vertical-align: top;\n",
       "    }\n",
       "\n",
       "    .dataframe thead th {\n",
       "        text-align: right;\n",
       "    }\n",
       "</style>\n",
       "<table border=\"1\" class=\"dataframe\">\n",
       "  <thead>\n",
       "    <tr style=\"text-align: right;\">\n",
       "      <th></th>\n",
       "      <th>App_Income_1</th>\n",
       "      <th>App_Income_2</th>\n",
       "      <th>CPL_Amount</th>\n",
       "      <th>CPL_Term</th>\n",
       "      <th>Credit_His</th>\n",
       "      <th>CPL_Amount_log</th>\n",
       "      <th>Sex_F</th>\n",
       "      <th>Sex_M</th>\n",
       "      <th>Marital_Status_N</th>\n",
       "      <th>Marital_Status_Y</th>\n",
       "      <th>...</th>\n",
       "      <th>Dependents_0</th>\n",
       "      <th>Dependents_1</th>\n",
       "      <th>Dependents_2</th>\n",
       "      <th>Qual_var_Grad</th>\n",
       "      <th>Qual_var_Non Grad</th>\n",
       "      <th>SE_N</th>\n",
       "      <th>SE_Y</th>\n",
       "      <th>Prop_Area_Rural</th>\n",
       "      <th>Prop_Area_Semi U</th>\n",
       "      <th>Prop_Area_Urban</th>\n",
       "    </tr>\n",
       "  </thead>\n",
       "  <tbody>\n",
       "    <tr>\n",
       "      <th>0</th>\n",
       "      <td>7018.8</td>\n",
       "      <td>0.0</td>\n",
       "      <td>153.6</td>\n",
       "      <td>360.0</td>\n",
       "      <td>1.0</td>\n",
       "      <td>5.034352</td>\n",
       "      <td>0</td>\n",
       "      <td>1</td>\n",
       "      <td>1</td>\n",
       "      <td>0</td>\n",
       "      <td>...</td>\n",
       "      <td>1</td>\n",
       "      <td>0</td>\n",
       "      <td>0</td>\n",
       "      <td>1</td>\n",
       "      <td>0</td>\n",
       "      <td>1</td>\n",
       "      <td>0</td>\n",
       "      <td>0</td>\n",
       "      <td>0</td>\n",
       "      <td>1</td>\n",
       "    </tr>\n",
       "    <tr>\n",
       "      <th>1</th>\n",
       "      <td>5499.6</td>\n",
       "      <td>1809.6</td>\n",
       "      <td>153.6</td>\n",
       "      <td>360.0</td>\n",
       "      <td>1.0</td>\n",
       "      <td>5.034352</td>\n",
       "      <td>0</td>\n",
       "      <td>1</td>\n",
       "      <td>0</td>\n",
       "      <td>1</td>\n",
       "      <td>...</td>\n",
       "      <td>0</td>\n",
       "      <td>1</td>\n",
       "      <td>0</td>\n",
       "      <td>1</td>\n",
       "      <td>0</td>\n",
       "      <td>1</td>\n",
       "      <td>0</td>\n",
       "      <td>1</td>\n",
       "      <td>0</td>\n",
       "      <td>0</td>\n",
       "    </tr>\n",
       "    <tr>\n",
       "      <th>2</th>\n",
       "      <td>3600.0</td>\n",
       "      <td>0.0</td>\n",
       "      <td>79.2</td>\n",
       "      <td>360.0</td>\n",
       "      <td>1.0</td>\n",
       "      <td>4.371976</td>\n",
       "      <td>0</td>\n",
       "      <td>1</td>\n",
       "      <td>0</td>\n",
       "      <td>1</td>\n",
       "      <td>...</td>\n",
       "      <td>1</td>\n",
       "      <td>0</td>\n",
       "      <td>0</td>\n",
       "      <td>1</td>\n",
       "      <td>0</td>\n",
       "      <td>0</td>\n",
       "      <td>1</td>\n",
       "      <td>0</td>\n",
       "      <td>0</td>\n",
       "      <td>1</td>\n",
       "    </tr>\n",
       "    <tr>\n",
       "      <th>3</th>\n",
       "      <td>3099.6</td>\n",
       "      <td>2829.6</td>\n",
       "      <td>144.0</td>\n",
       "      <td>360.0</td>\n",
       "      <td>1.0</td>\n",
       "      <td>4.969813</td>\n",
       "      <td>0</td>\n",
       "      <td>1</td>\n",
       "      <td>0</td>\n",
       "      <td>1</td>\n",
       "      <td>...</td>\n",
       "      <td>1</td>\n",
       "      <td>0</td>\n",
       "      <td>0</td>\n",
       "      <td>0</td>\n",
       "      <td>1</td>\n",
       "      <td>1</td>\n",
       "      <td>0</td>\n",
       "      <td>0</td>\n",
       "      <td>0</td>\n",
       "      <td>1</td>\n",
       "    </tr>\n",
       "    <tr>\n",
       "      <th>4</th>\n",
       "      <td>7200.0</td>\n",
       "      <td>0.0</td>\n",
       "      <td>169.2</td>\n",
       "      <td>360.0</td>\n",
       "      <td>1.0</td>\n",
       "      <td>5.131081</td>\n",
       "      <td>0</td>\n",
       "      <td>1</td>\n",
       "      <td>1</td>\n",
       "      <td>0</td>\n",
       "      <td>...</td>\n",
       "      <td>1</td>\n",
       "      <td>0</td>\n",
       "      <td>0</td>\n",
       "      <td>1</td>\n",
       "      <td>0</td>\n",
       "      <td>1</td>\n",
       "      <td>0</td>\n",
       "      <td>0</td>\n",
       "      <td>0</td>\n",
       "      <td>1</td>\n",
       "    </tr>\n",
       "    <tr>\n",
       "      <th>5</th>\n",
       "      <td>6500.4</td>\n",
       "      <td>5035.2</td>\n",
       "      <td>320.4</td>\n",
       "      <td>360.0</td>\n",
       "      <td>1.0</td>\n",
       "      <td>5.769570</td>\n",
       "      <td>0</td>\n",
       "      <td>1</td>\n",
       "      <td>0</td>\n",
       "      <td>1</td>\n",
       "      <td>...</td>\n",
       "      <td>0</td>\n",
       "      <td>0</td>\n",
       "      <td>1</td>\n",
       "      <td>1</td>\n",
       "      <td>0</td>\n",
       "      <td>0</td>\n",
       "      <td>1</td>\n",
       "      <td>0</td>\n",
       "      <td>0</td>\n",
       "      <td>1</td>\n",
       "    </tr>\n",
       "    <tr>\n",
       "      <th>6</th>\n",
       "      <td>2799.6</td>\n",
       "      <td>1819.2</td>\n",
       "      <td>114.0</td>\n",
       "      <td>360.0</td>\n",
       "      <td>1.0</td>\n",
       "      <td>4.736198</td>\n",
       "      <td>0</td>\n",
       "      <td>1</td>\n",
       "      <td>0</td>\n",
       "      <td>1</td>\n",
       "      <td>...</td>\n",
       "      <td>1</td>\n",
       "      <td>0</td>\n",
       "      <td>0</td>\n",
       "      <td>0</td>\n",
       "      <td>1</td>\n",
       "      <td>1</td>\n",
       "      <td>0</td>\n",
       "      <td>0</td>\n",
       "      <td>0</td>\n",
       "      <td>1</td>\n",
       "    </tr>\n",
       "    <tr>\n",
       "      <th>7</th>\n",
       "      <td>3643.2</td>\n",
       "      <td>3004.8</td>\n",
       "      <td>189.6</td>\n",
       "      <td>360.0</td>\n",
       "      <td>0.0</td>\n",
       "      <td>5.244917</td>\n",
       "      <td>0</td>\n",
       "      <td>1</td>\n",
       "      <td>0</td>\n",
       "      <td>1</td>\n",
       "      <td>...</td>\n",
       "      <td>0</td>\n",
       "      <td>0</td>\n",
       "      <td>0</td>\n",
       "      <td>1</td>\n",
       "      <td>0</td>\n",
       "      <td>1</td>\n",
       "      <td>0</td>\n",
       "      <td>0</td>\n",
       "      <td>1</td>\n",
       "      <td>0</td>\n",
       "    </tr>\n",
       "    <tr>\n",
       "      <th>8</th>\n",
       "      <td>4807.2</td>\n",
       "      <td>1831.2</td>\n",
       "      <td>201.6</td>\n",
       "      <td>360.0</td>\n",
       "      <td>1.0</td>\n",
       "      <td>5.306286</td>\n",
       "      <td>0</td>\n",
       "      <td>1</td>\n",
       "      <td>0</td>\n",
       "      <td>1</td>\n",
       "      <td>...</td>\n",
       "      <td>0</td>\n",
       "      <td>0</td>\n",
       "      <td>1</td>\n",
       "      <td>1</td>\n",
       "      <td>0</td>\n",
       "      <td>1</td>\n",
       "      <td>0</td>\n",
       "      <td>0</td>\n",
       "      <td>0</td>\n",
       "      <td>1</td>\n",
       "    </tr>\n",
       "    <tr>\n",
       "      <th>9</th>\n",
       "      <td>15409.2</td>\n",
       "      <td>13161.6</td>\n",
       "      <td>418.8</td>\n",
       "      <td>360.0</td>\n",
       "      <td>1.0</td>\n",
       "      <td>6.037393</td>\n",
       "      <td>0</td>\n",
       "      <td>1</td>\n",
       "      <td>0</td>\n",
       "      <td>1</td>\n",
       "      <td>...</td>\n",
       "      <td>0</td>\n",
       "      <td>1</td>\n",
       "      <td>0</td>\n",
       "      <td>1</td>\n",
       "      <td>0</td>\n",
       "      <td>1</td>\n",
       "      <td>0</td>\n",
       "      <td>0</td>\n",
       "      <td>1</td>\n",
       "      <td>0</td>\n",
       "    </tr>\n",
       "  </tbody>\n",
       "</table>\n",
       "<p>10 rows × 21 columns</p>\n",
       "</div>"
      ],
      "text/plain": [
       "   App_Income_1  App_Income_2  CPL_Amount  CPL_Term  Credit_His  \\\n",
       "0        7018.8           0.0       153.6     360.0         1.0   \n",
       "1        5499.6        1809.6       153.6     360.0         1.0   \n",
       "2        3600.0           0.0        79.2     360.0         1.0   \n",
       "3        3099.6        2829.6       144.0     360.0         1.0   \n",
       "4        7200.0           0.0       169.2     360.0         1.0   \n",
       "5        6500.4        5035.2       320.4     360.0         1.0   \n",
       "6        2799.6        1819.2       114.0     360.0         1.0   \n",
       "7        3643.2        3004.8       189.6     360.0         0.0   \n",
       "8        4807.2        1831.2       201.6     360.0         1.0   \n",
       "9       15409.2       13161.6       418.8     360.0         1.0   \n",
       "\n",
       "   CPL_Amount_log  Sex_F  Sex_M  Marital_Status_N  Marital_Status_Y  ...  \\\n",
       "0        5.034352      0      1                 1                 0  ...   \n",
       "1        5.034352      0      1                 0                 1  ...   \n",
       "2        4.371976      0      1                 0                 1  ...   \n",
       "3        4.969813      0      1                 0                 1  ...   \n",
       "4        5.131081      0      1                 1                 0  ...   \n",
       "5        5.769570      0      1                 0                 1  ...   \n",
       "6        4.736198      0      1                 0                 1  ...   \n",
       "7        5.244917      0      1                 0                 1  ...   \n",
       "8        5.306286      0      1                 0                 1  ...   \n",
       "9        6.037393      0      1                 0                 1  ...   \n",
       "\n",
       "   Dependents_0  Dependents_1  Dependents_2  Qual_var_Grad  Qual_var_Non Grad  \\\n",
       "0             1             0             0              1                  0   \n",
       "1             0             1             0              1                  0   \n",
       "2             1             0             0              1                  0   \n",
       "3             1             0             0              0                  1   \n",
       "4             1             0             0              1                  0   \n",
       "5             0             0             1              1                  0   \n",
       "6             1             0             0              0                  1   \n",
       "7             0             0             0              1                  0   \n",
       "8             0             0             1              1                  0   \n",
       "9             0             1             0              1                  0   \n",
       "\n",
       "   SE_N  SE_Y  Prop_Area_Rural  Prop_Area_Semi U  Prop_Area_Urban  \n",
       "0     1     0                0                 0                1  \n",
       "1     1     0                1                 0                0  \n",
       "2     0     1                0                 0                1  \n",
       "3     1     0                0                 0                1  \n",
       "4     1     0                0                 0                1  \n",
       "5     0     1                0                 0                1  \n",
       "6     1     0                0                 0                1  \n",
       "7     1     0                0                 1                0  \n",
       "8     1     0                0                 0                1  \n",
       "9     1     0                0                 1                0  \n",
       "\n",
       "[10 rows x 21 columns]"
      ]
     },
     "execution_count": 63,
     "metadata": {},
     "output_type": "execute_result"
    }
   ],
   "source": [
    "X.head(10)"
   ]
  },
  {
   "cell_type": "code",
   "execution_count": 64,
   "metadata": {},
   "outputs": [
    {
     "data": {
      "text/html": [
       "<div>\n",
       "<style scoped>\n",
       "    .dataframe tbody tr th:only-of-type {\n",
       "        vertical-align: middle;\n",
       "    }\n",
       "\n",
       "    .dataframe tbody tr th {\n",
       "        vertical-align: top;\n",
       "    }\n",
       "\n",
       "    .dataframe thead th {\n",
       "        text-align: right;\n",
       "    }\n",
       "</style>\n",
       "<table border=\"1\" class=\"dataframe\">\n",
       "  <thead>\n",
       "    <tr style=\"text-align: right;\">\n",
       "      <th></th>\n",
       "      <th>App_Income_1</th>\n",
       "      <th>App_Income_2</th>\n",
       "      <th>CPL_Amount</th>\n",
       "      <th>CPL_Term</th>\n",
       "      <th>Credit_His</th>\n",
       "      <th>CPL_Status</th>\n",
       "      <th>CPL_Amount_log</th>\n",
       "      <th>Sex_F</th>\n",
       "      <th>Sex_M</th>\n",
       "      <th>Marital_Status_N</th>\n",
       "      <th>...</th>\n",
       "      <th>Dependents_0</th>\n",
       "      <th>Dependents_1</th>\n",
       "      <th>Dependents_2</th>\n",
       "      <th>Qual_var_Grad</th>\n",
       "      <th>Qual_var_Non Grad</th>\n",
       "      <th>SE_N</th>\n",
       "      <th>SE_Y</th>\n",
       "      <th>Prop_Area_Rural</th>\n",
       "      <th>Prop_Area_Semi U</th>\n",
       "      <th>Prop_Area_Urban</th>\n",
       "    </tr>\n",
       "  </thead>\n",
       "  <tbody>\n",
       "    <tr>\n",
       "      <th>0</th>\n",
       "      <td>7018.8</td>\n",
       "      <td>0.0</td>\n",
       "      <td>153.6</td>\n",
       "      <td>360.0</td>\n",
       "      <td>1.0</td>\n",
       "      <td>1</td>\n",
       "      <td>5.034352</td>\n",
       "      <td>0</td>\n",
       "      <td>1</td>\n",
       "      <td>1</td>\n",
       "      <td>...</td>\n",
       "      <td>1</td>\n",
       "      <td>0</td>\n",
       "      <td>0</td>\n",
       "      <td>1</td>\n",
       "      <td>0</td>\n",
       "      <td>1</td>\n",
       "      <td>0</td>\n",
       "      <td>0</td>\n",
       "      <td>0</td>\n",
       "      <td>1</td>\n",
       "    </tr>\n",
       "    <tr>\n",
       "      <th>1</th>\n",
       "      <td>5499.6</td>\n",
       "      <td>1809.6</td>\n",
       "      <td>153.6</td>\n",
       "      <td>360.0</td>\n",
       "      <td>1.0</td>\n",
       "      <td>0</td>\n",
       "      <td>5.034352</td>\n",
       "      <td>0</td>\n",
       "      <td>1</td>\n",
       "      <td>0</td>\n",
       "      <td>...</td>\n",
       "      <td>0</td>\n",
       "      <td>1</td>\n",
       "      <td>0</td>\n",
       "      <td>1</td>\n",
       "      <td>0</td>\n",
       "      <td>1</td>\n",
       "      <td>0</td>\n",
       "      <td>1</td>\n",
       "      <td>0</td>\n",
       "      <td>0</td>\n",
       "    </tr>\n",
       "    <tr>\n",
       "      <th>2</th>\n",
       "      <td>3600.0</td>\n",
       "      <td>0.0</td>\n",
       "      <td>79.2</td>\n",
       "      <td>360.0</td>\n",
       "      <td>1.0</td>\n",
       "      <td>1</td>\n",
       "      <td>4.371976</td>\n",
       "      <td>0</td>\n",
       "      <td>1</td>\n",
       "      <td>0</td>\n",
       "      <td>...</td>\n",
       "      <td>1</td>\n",
       "      <td>0</td>\n",
       "      <td>0</td>\n",
       "      <td>1</td>\n",
       "      <td>0</td>\n",
       "      <td>0</td>\n",
       "      <td>1</td>\n",
       "      <td>0</td>\n",
       "      <td>0</td>\n",
       "      <td>1</td>\n",
       "    </tr>\n",
       "    <tr>\n",
       "      <th>3</th>\n",
       "      <td>3099.6</td>\n",
       "      <td>2829.6</td>\n",
       "      <td>144.0</td>\n",
       "      <td>360.0</td>\n",
       "      <td>1.0</td>\n",
       "      <td>1</td>\n",
       "      <td>4.969813</td>\n",
       "      <td>0</td>\n",
       "      <td>1</td>\n",
       "      <td>0</td>\n",
       "      <td>...</td>\n",
       "      <td>1</td>\n",
       "      <td>0</td>\n",
       "      <td>0</td>\n",
       "      <td>0</td>\n",
       "      <td>1</td>\n",
       "      <td>1</td>\n",
       "      <td>0</td>\n",
       "      <td>0</td>\n",
       "      <td>0</td>\n",
       "      <td>1</td>\n",
       "    </tr>\n",
       "    <tr>\n",
       "      <th>4</th>\n",
       "      <td>7200.0</td>\n",
       "      <td>0.0</td>\n",
       "      <td>169.2</td>\n",
       "      <td>360.0</td>\n",
       "      <td>1.0</td>\n",
       "      <td>1</td>\n",
       "      <td>5.131081</td>\n",
       "      <td>0</td>\n",
       "      <td>1</td>\n",
       "      <td>1</td>\n",
       "      <td>...</td>\n",
       "      <td>1</td>\n",
       "      <td>0</td>\n",
       "      <td>0</td>\n",
       "      <td>1</td>\n",
       "      <td>0</td>\n",
       "      <td>1</td>\n",
       "      <td>0</td>\n",
       "      <td>0</td>\n",
       "      <td>0</td>\n",
       "      <td>1</td>\n",
       "    </tr>\n",
       "    <tr>\n",
       "      <th>5</th>\n",
       "      <td>6500.4</td>\n",
       "      <td>5035.2</td>\n",
       "      <td>320.4</td>\n",
       "      <td>360.0</td>\n",
       "      <td>1.0</td>\n",
       "      <td>1</td>\n",
       "      <td>5.769570</td>\n",
       "      <td>0</td>\n",
       "      <td>1</td>\n",
       "      <td>0</td>\n",
       "      <td>...</td>\n",
       "      <td>0</td>\n",
       "      <td>0</td>\n",
       "      <td>1</td>\n",
       "      <td>1</td>\n",
       "      <td>0</td>\n",
       "      <td>0</td>\n",
       "      <td>1</td>\n",
       "      <td>0</td>\n",
       "      <td>0</td>\n",
       "      <td>1</td>\n",
       "    </tr>\n",
       "    <tr>\n",
       "      <th>6</th>\n",
       "      <td>2799.6</td>\n",
       "      <td>1819.2</td>\n",
       "      <td>114.0</td>\n",
       "      <td>360.0</td>\n",
       "      <td>1.0</td>\n",
       "      <td>1</td>\n",
       "      <td>4.736198</td>\n",
       "      <td>0</td>\n",
       "      <td>1</td>\n",
       "      <td>0</td>\n",
       "      <td>...</td>\n",
       "      <td>1</td>\n",
       "      <td>0</td>\n",
       "      <td>0</td>\n",
       "      <td>0</td>\n",
       "      <td>1</td>\n",
       "      <td>1</td>\n",
       "      <td>0</td>\n",
       "      <td>0</td>\n",
       "      <td>0</td>\n",
       "      <td>1</td>\n",
       "    </tr>\n",
       "    <tr>\n",
       "      <th>7</th>\n",
       "      <td>3643.2</td>\n",
       "      <td>3004.8</td>\n",
       "      <td>189.6</td>\n",
       "      <td>360.0</td>\n",
       "      <td>0.0</td>\n",
       "      <td>0</td>\n",
       "      <td>5.244917</td>\n",
       "      <td>0</td>\n",
       "      <td>1</td>\n",
       "      <td>0</td>\n",
       "      <td>...</td>\n",
       "      <td>0</td>\n",
       "      <td>0</td>\n",
       "      <td>0</td>\n",
       "      <td>1</td>\n",
       "      <td>0</td>\n",
       "      <td>1</td>\n",
       "      <td>0</td>\n",
       "      <td>0</td>\n",
       "      <td>1</td>\n",
       "      <td>0</td>\n",
       "    </tr>\n",
       "    <tr>\n",
       "      <th>8</th>\n",
       "      <td>4807.2</td>\n",
       "      <td>1831.2</td>\n",
       "      <td>201.6</td>\n",
       "      <td>360.0</td>\n",
       "      <td>1.0</td>\n",
       "      <td>1</td>\n",
       "      <td>5.306286</td>\n",
       "      <td>0</td>\n",
       "      <td>1</td>\n",
       "      <td>0</td>\n",
       "      <td>...</td>\n",
       "      <td>0</td>\n",
       "      <td>0</td>\n",
       "      <td>1</td>\n",
       "      <td>1</td>\n",
       "      <td>0</td>\n",
       "      <td>1</td>\n",
       "      <td>0</td>\n",
       "      <td>0</td>\n",
       "      <td>0</td>\n",
       "      <td>1</td>\n",
       "    </tr>\n",
       "    <tr>\n",
       "      <th>9</th>\n",
       "      <td>15409.2</td>\n",
       "      <td>13161.6</td>\n",
       "      <td>418.8</td>\n",
       "      <td>360.0</td>\n",
       "      <td>1.0</td>\n",
       "      <td>0</td>\n",
       "      <td>6.037393</td>\n",
       "      <td>0</td>\n",
       "      <td>1</td>\n",
       "      <td>0</td>\n",
       "      <td>...</td>\n",
       "      <td>0</td>\n",
       "      <td>1</td>\n",
       "      <td>0</td>\n",
       "      <td>1</td>\n",
       "      <td>0</td>\n",
       "      <td>1</td>\n",
       "      <td>0</td>\n",
       "      <td>0</td>\n",
       "      <td>1</td>\n",
       "      <td>0</td>\n",
       "    </tr>\n",
       "  </tbody>\n",
       "</table>\n",
       "<p>10 rows × 22 columns</p>\n",
       "</div>"
      ],
      "text/plain": [
       "   App_Income_1  App_Income_2  CPL_Amount  CPL_Term  Credit_His  CPL_Status  \\\n",
       "0        7018.8           0.0       153.6     360.0         1.0           1   \n",
       "1        5499.6        1809.6       153.6     360.0         1.0           0   \n",
       "2        3600.0           0.0        79.2     360.0         1.0           1   \n",
       "3        3099.6        2829.6       144.0     360.0         1.0           1   \n",
       "4        7200.0           0.0       169.2     360.0         1.0           1   \n",
       "5        6500.4        5035.2       320.4     360.0         1.0           1   \n",
       "6        2799.6        1819.2       114.0     360.0         1.0           1   \n",
       "7        3643.2        3004.8       189.6     360.0         0.0           0   \n",
       "8        4807.2        1831.2       201.6     360.0         1.0           1   \n",
       "9       15409.2       13161.6       418.8     360.0         1.0           0   \n",
       "\n",
       "   CPL_Amount_log  Sex_F  Sex_M  Marital_Status_N  ...  Dependents_0  \\\n",
       "0        5.034352      0      1                 1  ...             1   \n",
       "1        5.034352      0      1                 0  ...             0   \n",
       "2        4.371976      0      1                 0  ...             1   \n",
       "3        4.969813      0      1                 0  ...             1   \n",
       "4        5.131081      0      1                 1  ...             1   \n",
       "5        5.769570      0      1                 0  ...             0   \n",
       "6        4.736198      0      1                 0  ...             1   \n",
       "7        5.244917      0      1                 0  ...             0   \n",
       "8        5.306286      0      1                 0  ...             0   \n",
       "9        6.037393      0      1                 0  ...             0   \n",
       "\n",
       "   Dependents_1  Dependents_2  Qual_var_Grad  Qual_var_Non Grad  SE_N  SE_Y  \\\n",
       "0             0             0              1                  0     1     0   \n",
       "1             1             0              1                  0     1     0   \n",
       "2             0             0              1                  0     0     1   \n",
       "3             0             0              0                  1     1     0   \n",
       "4             0             0              1                  0     1     0   \n",
       "5             0             1              1                  0     0     1   \n",
       "6             0             0              0                  1     1     0   \n",
       "7             0             0              1                  0     1     0   \n",
       "8             0             1              1                  0     1     0   \n",
       "9             1             0              1                  0     1     0   \n",
       "\n",
       "   Prop_Area_Rural  Prop_Area_Semi U  Prop_Area_Urban  \n",
       "0                0                 0                1  \n",
       "1                1                 0                0  \n",
       "2                0                 0                1  \n",
       "3                0                 0                1  \n",
       "4                0                 0                1  \n",
       "5                0                 0                1  \n",
       "6                0                 0                1  \n",
       "7                0                 1                0  \n",
       "8                0                 0                1  \n",
       "9                0                 1                0  \n",
       "\n",
       "[10 rows x 22 columns]"
      ]
     },
     "execution_count": 64,
     "metadata": {},
     "output_type": "execute_result"
    }
   ],
   "source": [
    "train.head(10)"
   ]
  },
  {
   "cell_type": "code",
   "execution_count": 65,
   "metadata": {},
   "outputs": [
    {
     "data": {
      "text/html": [
       "<div>\n",
       "<style scoped>\n",
       "    .dataframe tbody tr th:only-of-type {\n",
       "        vertical-align: middle;\n",
       "    }\n",
       "\n",
       "    .dataframe tbody tr th {\n",
       "        vertical-align: top;\n",
       "    }\n",
       "\n",
       "    .dataframe thead th {\n",
       "        text-align: right;\n",
       "    }\n",
       "</style>\n",
       "<table border=\"1\" class=\"dataframe\">\n",
       "  <thead>\n",
       "    <tr style=\"text-align: right;\">\n",
       "      <th></th>\n",
       "      <th>App_Income_1</th>\n",
       "      <th>App_Income_2</th>\n",
       "      <th>CPL_Amount</th>\n",
       "      <th>CPL_Term</th>\n",
       "      <th>Credit_His</th>\n",
       "      <th>CPL_Amount_log</th>\n",
       "      <th>Sex_F</th>\n",
       "      <th>Sex_M</th>\n",
       "      <th>Marital_Status_N</th>\n",
       "      <th>Marital_Status_Y</th>\n",
       "      <th>...</th>\n",
       "      <th>Dependents_0</th>\n",
       "      <th>Dependents_1</th>\n",
       "      <th>Dependents_2</th>\n",
       "      <th>Qual_var_Grad</th>\n",
       "      <th>Qual_var_Non Grad</th>\n",
       "      <th>SE_N</th>\n",
       "      <th>SE_Y</th>\n",
       "      <th>Prop_Area_Rural</th>\n",
       "      <th>Prop_Area_Semi U</th>\n",
       "      <th>Prop_Area_Urban</th>\n",
       "    </tr>\n",
       "  </thead>\n",
       "  <tbody>\n",
       "    <tr>\n",
       "      <th>0</th>\n",
       "      <td>6864.0</td>\n",
       "      <td>0.0</td>\n",
       "      <td>132.0</td>\n",
       "      <td>360.0</td>\n",
       "      <td>1.0</td>\n",
       "      <td>4.882802</td>\n",
       "      <td>0</td>\n",
       "      <td>1</td>\n",
       "      <td>0</td>\n",
       "      <td>1</td>\n",
       "      <td>...</td>\n",
       "      <td>1</td>\n",
       "      <td>0</td>\n",
       "      <td>0</td>\n",
       "      <td>1</td>\n",
       "      <td>0</td>\n",
       "      <td>1</td>\n",
       "      <td>0</td>\n",
       "      <td>0</td>\n",
       "      <td>0</td>\n",
       "      <td>1</td>\n",
       "    </tr>\n",
       "    <tr>\n",
       "      <th>1</th>\n",
       "      <td>3691.2</td>\n",
       "      <td>1800.0</td>\n",
       "      <td>151.2</td>\n",
       "      <td>360.0</td>\n",
       "      <td>1.0</td>\n",
       "      <td>5.018603</td>\n",
       "      <td>0</td>\n",
       "      <td>1</td>\n",
       "      <td>0</td>\n",
       "      <td>1</td>\n",
       "      <td>...</td>\n",
       "      <td>0</td>\n",
       "      <td>1</td>\n",
       "      <td>0</td>\n",
       "      <td>1</td>\n",
       "      <td>0</td>\n",
       "      <td>1</td>\n",
       "      <td>0</td>\n",
       "      <td>0</td>\n",
       "      <td>0</td>\n",
       "      <td>1</td>\n",
       "    </tr>\n",
       "    <tr>\n",
       "      <th>2</th>\n",
       "      <td>6000.0</td>\n",
       "      <td>2160.0</td>\n",
       "      <td>249.6</td>\n",
       "      <td>360.0</td>\n",
       "      <td>1.0</td>\n",
       "      <td>5.519860</td>\n",
       "      <td>0</td>\n",
       "      <td>1</td>\n",
       "      <td>0</td>\n",
       "      <td>1</td>\n",
       "      <td>...</td>\n",
       "      <td>0</td>\n",
       "      <td>0</td>\n",
       "      <td>1</td>\n",
       "      <td>1</td>\n",
       "      <td>0</td>\n",
       "      <td>1</td>\n",
       "      <td>0</td>\n",
       "      <td>0</td>\n",
       "      <td>0</td>\n",
       "      <td>1</td>\n",
       "    </tr>\n",
       "    <tr>\n",
       "      <th>3</th>\n",
       "      <td>2808.0</td>\n",
       "      <td>3055.2</td>\n",
       "      <td>120.0</td>\n",
       "      <td>360.0</td>\n",
       "      <td>1.0</td>\n",
       "      <td>4.787492</td>\n",
       "      <td>0</td>\n",
       "      <td>1</td>\n",
       "      <td>0</td>\n",
       "      <td>1</td>\n",
       "      <td>...</td>\n",
       "      <td>0</td>\n",
       "      <td>0</td>\n",
       "      <td>1</td>\n",
       "      <td>1</td>\n",
       "      <td>0</td>\n",
       "      <td>1</td>\n",
       "      <td>0</td>\n",
       "      <td>0</td>\n",
       "      <td>0</td>\n",
       "      <td>1</td>\n",
       "    </tr>\n",
       "    <tr>\n",
       "      <th>4</th>\n",
       "      <td>3931.2</td>\n",
       "      <td>0.0</td>\n",
       "      <td>93.6</td>\n",
       "      <td>360.0</td>\n",
       "      <td>1.0</td>\n",
       "      <td>4.539030</td>\n",
       "      <td>0</td>\n",
       "      <td>1</td>\n",
       "      <td>1</td>\n",
       "      <td>0</td>\n",
       "      <td>...</td>\n",
       "      <td>1</td>\n",
       "      <td>0</td>\n",
       "      <td>0</td>\n",
       "      <td>0</td>\n",
       "      <td>1</td>\n",
       "      <td>1</td>\n",
       "      <td>0</td>\n",
       "      <td>0</td>\n",
       "      <td>0</td>\n",
       "      <td>1</td>\n",
       "    </tr>\n",
       "    <tr>\n",
       "      <th>5</th>\n",
       "      <td>2598.0</td>\n",
       "      <td>4106.4</td>\n",
       "      <td>182.4</td>\n",
       "      <td>360.0</td>\n",
       "      <td>1.0</td>\n",
       "      <td>5.206202</td>\n",
       "      <td>0</td>\n",
       "      <td>1</td>\n",
       "      <td>0</td>\n",
       "      <td>1</td>\n",
       "      <td>...</td>\n",
       "      <td>1</td>\n",
       "      <td>0</td>\n",
       "      <td>0</td>\n",
       "      <td>0</td>\n",
       "      <td>1</td>\n",
       "      <td>0</td>\n",
       "      <td>1</td>\n",
       "      <td>0</td>\n",
       "      <td>0</td>\n",
       "      <td>1</td>\n",
       "    </tr>\n",
       "    <tr>\n",
       "      <th>6</th>\n",
       "      <td>2671.2</td>\n",
       "      <td>0.0</td>\n",
       "      <td>70.8</td>\n",
       "      <td>360.0</td>\n",
       "      <td>1.0</td>\n",
       "      <td>4.259859</td>\n",
       "      <td>1</td>\n",
       "      <td>0</td>\n",
       "      <td>1</td>\n",
       "      <td>0</td>\n",
       "      <td>...</td>\n",
       "      <td>0</td>\n",
       "      <td>1</td>\n",
       "      <td>0</td>\n",
       "      <td>0</td>\n",
       "      <td>1</td>\n",
       "      <td>1</td>\n",
       "      <td>0</td>\n",
       "      <td>0</td>\n",
       "      <td>1</td>\n",
       "      <td>0</td>\n",
       "    </tr>\n",
       "    <tr>\n",
       "      <th>7</th>\n",
       "      <td>4657.2</td>\n",
       "      <td>0.0</td>\n",
       "      <td>176.4</td>\n",
       "      <td>360.0</td>\n",
       "      <td>0.0</td>\n",
       "      <td>5.172754</td>\n",
       "      <td>0</td>\n",
       "      <td>1</td>\n",
       "      <td>0</td>\n",
       "      <td>1</td>\n",
       "      <td>...</td>\n",
       "      <td>0</td>\n",
       "      <td>0</td>\n",
       "      <td>1</td>\n",
       "      <td>0</td>\n",
       "      <td>1</td>\n",
       "      <td>1</td>\n",
       "      <td>0</td>\n",
       "      <td>1</td>\n",
       "      <td>0</td>\n",
       "      <td>0</td>\n",
       "    </tr>\n",
       "    <tr>\n",
       "      <th>8</th>\n",
       "      <td>16359.6</td>\n",
       "      <td>0.0</td>\n",
       "      <td>336.0</td>\n",
       "      <td>240.0</td>\n",
       "      <td>1.0</td>\n",
       "      <td>5.817111</td>\n",
       "      <td>0</td>\n",
       "      <td>1</td>\n",
       "      <td>0</td>\n",
       "      <td>1</td>\n",
       "      <td>...</td>\n",
       "      <td>0</td>\n",
       "      <td>0</td>\n",
       "      <td>1</td>\n",
       "      <td>1</td>\n",
       "      <td>0</td>\n",
       "      <td>1</td>\n",
       "      <td>0</td>\n",
       "      <td>0</td>\n",
       "      <td>0</td>\n",
       "      <td>1</td>\n",
       "    </tr>\n",
       "    <tr>\n",
       "      <th>9</th>\n",
       "      <td>2880.0</td>\n",
       "      <td>2880.0</td>\n",
       "      <td>147.6</td>\n",
       "      <td>360.0</td>\n",
       "      <td>1.0</td>\n",
       "      <td>4.994506</td>\n",
       "      <td>0</td>\n",
       "      <td>1</td>\n",
       "      <td>1</td>\n",
       "      <td>0</td>\n",
       "      <td>...</td>\n",
       "      <td>1</td>\n",
       "      <td>0</td>\n",
       "      <td>0</td>\n",
       "      <td>0</td>\n",
       "      <td>1</td>\n",
       "      <td>1</td>\n",
       "      <td>0</td>\n",
       "      <td>0</td>\n",
       "      <td>1</td>\n",
       "      <td>0</td>\n",
       "    </tr>\n",
       "  </tbody>\n",
       "</table>\n",
       "<p>10 rows × 21 columns</p>\n",
       "</div>"
      ],
      "text/plain": [
       "   App_Income_1  App_Income_2  CPL_Amount  CPL_Term  Credit_His  \\\n",
       "0        6864.0           0.0       132.0     360.0         1.0   \n",
       "1        3691.2        1800.0       151.2     360.0         1.0   \n",
       "2        6000.0        2160.0       249.6     360.0         1.0   \n",
       "3        2808.0        3055.2       120.0     360.0         1.0   \n",
       "4        3931.2           0.0        93.6     360.0         1.0   \n",
       "5        2598.0        4106.4       182.4     360.0         1.0   \n",
       "6        2671.2           0.0        70.8     360.0         1.0   \n",
       "7        4657.2           0.0       176.4     360.0         0.0   \n",
       "8       16359.6           0.0       336.0     240.0         1.0   \n",
       "9        2880.0        2880.0       147.6     360.0         1.0   \n",
       "\n",
       "   CPL_Amount_log  Sex_F  Sex_M  Marital_Status_N  Marital_Status_Y  ...  \\\n",
       "0        4.882802      0      1                 0                 1  ...   \n",
       "1        5.018603      0      1                 0                 1  ...   \n",
       "2        5.519860      0      1                 0                 1  ...   \n",
       "3        4.787492      0      1                 0                 1  ...   \n",
       "4        4.539030      0      1                 1                 0  ...   \n",
       "5        5.206202      0      1                 0                 1  ...   \n",
       "6        4.259859      1      0                 1                 0  ...   \n",
       "7        5.172754      0      1                 0                 1  ...   \n",
       "8        5.817111      0      1                 0                 1  ...   \n",
       "9        4.994506      0      1                 1                 0  ...   \n",
       "\n",
       "   Dependents_0  Dependents_1  Dependents_2  Qual_var_Grad  Qual_var_Non Grad  \\\n",
       "0             1             0             0              1                  0   \n",
       "1             0             1             0              1                  0   \n",
       "2             0             0             1              1                  0   \n",
       "3             0             0             1              1                  0   \n",
       "4             1             0             0              0                  1   \n",
       "5             1             0             0              0                  1   \n",
       "6             0             1             0              0                  1   \n",
       "7             0             0             1              0                  1   \n",
       "8             0             0             1              1                  0   \n",
       "9             1             0             0              0                  1   \n",
       "\n",
       "   SE_N  SE_Y  Prop_Area_Rural  Prop_Area_Semi U  Prop_Area_Urban  \n",
       "0     1     0                0                 0                1  \n",
       "1     1     0                0                 0                1  \n",
       "2     1     0                0                 0                1  \n",
       "3     1     0                0                 0                1  \n",
       "4     1     0                0                 0                1  \n",
       "5     0     1                0                 0                1  \n",
       "6     1     0                0                 1                0  \n",
       "7     1     0                1                 0                0  \n",
       "8     1     0                0                 0                1  \n",
       "9     1     0                0                 1                0  \n",
       "\n",
       "[10 rows x 21 columns]"
      ]
     },
     "execution_count": 65,
     "metadata": {},
     "output_type": "execute_result"
    }
   ],
   "source": [
    "test.head(10)"
   ]
  },
  {
   "cell_type": "markdown",
   "metadata": {},
   "source": [
    "We will use the train_test_split function from sklearn to divide our train dataset. So, first let us import train_test_split."
   ]
  },
  {
   "cell_type": "code",
   "execution_count": 66,
   "metadata": {},
   "outputs": [],
   "source": [
    "# import library\n",
    "from sklearn.model_selection import train_test_split"
   ]
  },
  {
   "cell_type": "code",
   "execution_count": 67,
   "metadata": {},
   "outputs": [],
   "source": [
    "# split the data into train and cross validation set\n",
    "x_train, x_cv, y_train, y_cv = train_test_split(X, y, test_size=0.3, random_state=0)"
   ]
  },
  {
   "cell_type": "code",
   "execution_count": 68,
   "metadata": {},
   "outputs": [
    {
     "data": {
      "text/plain": [
       "((429, 21), (185, 21), (429,), (185,))"
      ]
     },
     "execution_count": 68,
     "metadata": {},
     "output_type": "execute_result"
    }
   ],
   "source": [
    "# take a look at the dimension of the data\n",
    "x_train.shape, x_cv.shape, y_train.shape, y_cv.shape"
   ]
  },
  {
   "cell_type": "markdown",
   "metadata": {},
   "source": [
    "The dataset has been divided into training and validation part. Let us import LogisticRegression and accuracy_score from sklearn and fit the logistic regression model."
   ]
  },
  {
   "cell_type": "code",
   "execution_count": 69,
   "metadata": {},
   "outputs": [],
   "source": [
    "# import libraries\n",
    "from sklearn.linear_model import LogisticRegression\n",
    "from sklearn.metrics import accuracy_score"
   ]
  },
  {
   "cell_type": "code",
   "execution_count": 70,
   "metadata": {},
   "outputs": [
    {
     "data": {
      "text/plain": [
       "LogisticRegression()"
      ]
     },
     "execution_count": 70,
     "metadata": {},
     "output_type": "execute_result"
    }
   ],
   "source": [
    "# fit the model\n",
    "model = LogisticRegression()\n",
    "model.fit(x_train, y_train)"
   ]
  },
  {
   "cell_type": "markdown",
   "metadata": {},
   "source": [
    "Let’s predict the CPL_Status for validation set and calculate its accuracy."
   ]
  },
  {
   "cell_type": "code",
   "execution_count": 71,
   "metadata": {},
   "outputs": [],
   "source": [
    "# make prediction\n",
    "pred_cv = model.predict(x_cv)"
   ]
  },
  {
   "cell_type": "markdown",
   "metadata": {},
   "source": [
    "Let us calculate how accurate our predictions are by calculating the accuracy."
   ]
  },
  {
   "cell_type": "code",
   "execution_count": 72,
   "metadata": {},
   "outputs": [
    {
     "data": {
      "text/plain": [
       "0.827027027027027"
      ]
     },
     "execution_count": 72,
     "metadata": {},
     "output_type": "execute_result"
    }
   ],
   "source": [
    "# calculate accuracy score\n",
    "accuracy_score(y_cv, pred_cv)"
   ]
  },
  {
   "cell_type": "markdown",
   "metadata": {},
   "source": [
    "So our predictions are over 83% accurate, i.e. we have identified 83% of the loan status correctly.\n",
    "\n",
    "Let’s evaluate our model with the confusion matrix."
   ]
  },
  {
   "cell_type": "code",
   "execution_count": 73,
   "metadata": {},
   "outputs": [
    {
     "name": "stdout",
     "output_type": "stream",
     "text": [
      "[[ 23  28]\n",
      " [  4 130]]\n"
     ]
    },
    {
     "data": {
      "text/plain": [
       "Text(33.0, 0.5, 'True')"
      ]
     },
     "execution_count": 73,
     "metadata": {},
     "output_type": "execute_result"
    },
    {
     "data": {
      "image/png": "[encoded data removed]",
      "text/plain": [
       "<Figure size 432x288 with 2 Axes>"
      ]
     },
     "metadata": {
      "needs_background": "light"
     },
     "output_type": "display_data"
    }
   ],
   "source": [
    "# import confusion_matrix\n",
    "from sklearn.metrics import confusion_matrix\n",
    " \n",
    "cm = confusion_matrix(y_cv, pred_cv)\n",
    "print(cm)\n",
    "\n",
    "# f, ax = plt.subplots(figsize=(9, 6))\n",
    "sns.heatmap(cm, annot=True, fmt=\"d\")\n",
    "plt.title('Confusion matrix of the classifier')\n",
    "plt.xlabel('Predicted')\n",
    "plt.ylabel('True')"
   ]
  },
  {
   "cell_type": "markdown",
   "metadata": {},
   "source": [
    "Let's build a text report showing the main classification metrics."
   ]
  },
  {
   "cell_type": "code",
   "execution_count": 74,
   "metadata": {
    "scrolled": true
   },
   "outputs": [
    {
     "name": "stdout",
     "output_type": "stream",
     "text": [
      "              precision    recall  f1-score   support\n",
      "\n",
      "           0       0.85      0.45      0.59        51\n",
      "           1       0.82      0.97      0.89       134\n",
      "\n",
      "    accuracy                           0.83       185\n",
      "   macro avg       0.84      0.71      0.74       185\n",
      "weighted avg       0.83      0.83      0.81       185\n",
      "\n"
     ]
    }
   ],
   "source": [
    "#import classification_report\n",
    "from sklearn.metrics import classification_report\n",
    "print(classification_report(y_cv, pred_cv))"
   ]
  },
  {
   "cell_type": "markdown",
   "metadata": {},
   "source": [
    "The performance of our model seems encouraging, with accuracy of 83%, precision of 82% and recall of 99%.\n",
    "\n",
    "Let’s make predictions for the test dataset and submit the result."
   ]
  },
  {
   "cell_type": "code",
   "execution_count": 75,
   "metadata": {},
   "outputs": [],
   "source": [
    "# make prediction on test set\n",
    "pred_test = model.predict(test)"
   ]
  },
  {
   "cell_type": "code",
   "execution_count": 76,
   "metadata": {},
   "outputs": [
    {
     "data": {
      "text/plain": [
       "array([1, 1, 1, 1, 1, 1, 1, 0, 1, 1, 1, 1, 1, 0, 1, 1, 1, 1, 1, 1, 1, 1,\n",
       "       1, 1, 1, 0, 1, 1, 1, 1, 1, 1, 1, 1, 1, 0, 1, 1, 1, 1, 1, 1, 1, 1,\n",
       "       1, 1, 1, 1, 1, 1], dtype=int64)"
      ]
     },
     "execution_count": 76,
     "metadata": {},
     "output_type": "execute_result"
    }
   ],
   "source": [
    "# take a look at the prediction\n",
    "pred_test[:50]"
   ]
  },
  {
   "cell_type": "markdown",
   "metadata": {},
   "source": [
    "Lets import the submission file."
   ]
  },
  {
   "cell_type": "code",
   "execution_count": 77,
   "metadata": {},
   "outputs": [],
   "source": [
    "submission = pd.read_csv(\"Sample_Submission.csv\")"
   ]
  },
  {
   "cell_type": "markdown",
   "metadata": {},
   "source": [
    "We only need the Loan_ID and the corresponding CPL_Status for the final submission. we will fill these columns with the Loanapp_ID of test dataset and the predictions that we made, i.e., pred_test respectively."
   ]
  },
  {
   "cell_type": "code",
   "execution_count": 78,
   "metadata": {},
   "outputs": [],
   "source": [
    "# fill the Loanapp_ID and CPL_Status\n",
    "\n",
    "submission['CPL_Status'] = pred_test\n",
    "submission['Loanapp_ID'] = test_original['Loanapp_ID']"
   ]
  },
  {
   "cell_type": "markdown",
   "metadata": {},
   "source": [
    "Remember we need predictions in Y and N. So let’s convert 1 and 0 to Y and N."
   ]
  },
  {
   "cell_type": "code",
   "execution_count": 79,
   "metadata": {},
   "outputs": [],
   "source": [
    "# replace with \"N\" and \"Y\"\n",
    "submission['CPL_Status'].replace(0, 'N', inplace=True)\n",
    "submission['CPL_Status'].replace(1, 'Y', inplace=True)"
   ]
  },
  {
   "cell_type": "code",
   "execution_count": 80,
   "metadata": {},
   "outputs": [
    {
     "data": {
      "text/html": [
       "<div>\n",
       "<style scoped>\n",
       "    .dataframe tbody tr th:only-of-type {\n",
       "        vertical-align: middle;\n",
       "    }\n",
       "\n",
       "    .dataframe tbody tr th {\n",
       "        vertical-align: top;\n",
       "    }\n",
       "\n",
       "    .dataframe thead th {\n",
       "        text-align: right;\n",
       "    }\n",
       "</style>\n",
       "<table border=\"1\" class=\"dataframe\">\n",
       "  <thead>\n",
       "    <tr style=\"text-align: right;\">\n",
       "      <th></th>\n",
       "      <th>Loanapp_ID</th>\n",
       "      <th>CPL_Status</th>\n",
       "    </tr>\n",
       "  </thead>\n",
       "  <tbody>\n",
       "    <tr>\n",
       "      <th>0</th>\n",
       "      <td>CPL001015</td>\n",
       "      <td>Y</td>\n",
       "    </tr>\n",
       "    <tr>\n",
       "      <th>1</th>\n",
       "      <td>CPL001022</td>\n",
       "      <td>Y</td>\n",
       "    </tr>\n",
       "    <tr>\n",
       "      <th>2</th>\n",
       "      <td>CPL001031</td>\n",
       "      <td>Y</td>\n",
       "    </tr>\n",
       "    <tr>\n",
       "      <th>3</th>\n",
       "      <td>CPL001035</td>\n",
       "      <td>Y</td>\n",
       "    </tr>\n",
       "    <tr>\n",
       "      <th>4</th>\n",
       "      <td>CPL001051</td>\n",
       "      <td>Y</td>\n",
       "    </tr>\n",
       "    <tr>\n",
       "      <th>5</th>\n",
       "      <td>CPL001054</td>\n",
       "      <td>Y</td>\n",
       "    </tr>\n",
       "    <tr>\n",
       "      <th>6</th>\n",
       "      <td>CPL001055</td>\n",
       "      <td>Y</td>\n",
       "    </tr>\n",
       "    <tr>\n",
       "      <th>7</th>\n",
       "      <td>CPL001056</td>\n",
       "      <td>N</td>\n",
       "    </tr>\n",
       "    <tr>\n",
       "      <th>8</th>\n",
       "      <td>CPL001059</td>\n",
       "      <td>Y</td>\n",
       "    </tr>\n",
       "    <tr>\n",
       "      <th>9</th>\n",
       "      <td>CPL001067</td>\n",
       "      <td>Y</td>\n",
       "    </tr>\n",
       "  </tbody>\n",
       "</table>\n",
       "</div>"
      ],
      "text/plain": [
       "  Loanapp_ID CPL_Status\n",
       "0  CPL001015          Y\n",
       "1  CPL001022          Y\n",
       "2  CPL001031          Y\n",
       "3  CPL001035          Y\n",
       "4  CPL001051          Y\n",
       "5  CPL001054          Y\n",
       "6  CPL001055          Y\n",
       "7  CPL001056          N\n",
       "8  CPL001059          Y\n",
       "9  CPL001067          Y"
      ]
     },
     "execution_count": 80,
     "metadata": {},
     "output_type": "execute_result"
    }
   ],
   "source": [
    "# take a look at the submission result\n",
    "\n",
    "submission.head(10)"
   ]
  },
  {
   "cell_type": "markdown",
   "metadata": {},
   "source": [
    "Finally we will convert the submission to .csv format "
   ]
  },
  {
   "cell_type": "code",
   "execution_count": 81,
   "metadata": {},
   "outputs": [],
   "source": [
    "# convert to CSV file, without row index\n",
    "\n",
    "submission.to_csv('logistic.csv', index=False)"
   ]
  },
  {
   "cell_type": "markdown",
   "metadata": {},
   "source": [
    "From this submission we got an accuracy of 0.7847"
   ]
  },
  {
   "cell_type": "markdown",
   "metadata": {},
   "source": [
    "Instead of creating validation set, we can also make use of cross validation to validate our predictions."
   ]
  },
  {
   "cell_type": "markdown",
   "metadata": {},
   "source": [
    "# Logistic Regression using stratified k-folds cross validation"
   ]
  },
  {
   "cell_type": "markdown",
   "metadata": {},
   "source": [
    "To check how robust our model is to unseen data, we can use Validation. It is a technique which involves reserving a particular sample of a dataset on which you do not train the model. Later, you test your model on this sample before finalizing it. Some of the common methods for validation are listed below:\n",
    "\n",
    "- The validation set approach\n",
    "- k-fold cross validation\n",
    "- Leave one out cross validation (LOOCV)\n",
    "- Stratified k-fold cross validation"
   ]
  },
  {
   "cell_type": "code",
   "execution_count": 124,
   "metadata": {},
   "outputs": [],
   "source": [
    "# import StratifiedKFold from sklearn and fit the model\n",
    "\n",
    "from sklearn.model_selection import StratifiedKFold\n"
   ]
  },
  {
   "cell_type": "markdown",
   "metadata": {},
   "source": [
    "Now let’s make a cross validation logistic model with stratified 5 folds and make predictions for test dataset. The folds are made by preserving the percentage of samples for each class. In stratified k-fold, each fold contains roughly the same proportions of the different types of class labels.\n",
    "\n",
    "Note: Previously, we use train_test_split to split the data, in this example we will use StratifiedKFold to split the data, the final accuracy score might be slightly differently"
   ]
  },
  {
   "cell_type": "code",
   "execution_count": 125,
   "metadata": {},
   "outputs": [
    {
     "name": "stdout",
     "output_type": "stream",
     "text": [
      "\n",
      "1 of kfold 5\n",
      "accuracy_score 0.6910569105691057\n",
      "\n",
      "2 of kfold 5\n",
      "accuracy_score 0.8373983739837398\n",
      "\n",
      "3 of kfold 5\n",
      "accuracy_score 0.6666666666666666\n",
      "\n",
      "4 of kfold 5\n",
      "accuracy_score 0.7804878048780488\n",
      "\n",
      "5 of kfold 5\n",
      "accuracy_score 0.8032786885245902\n",
      "\n",
      "Mean validation accuracy:  0.7557776889244302\n"
     ]
    }
   ],
   "source": [
    "# stratified 5 folds, shuffle each stratification of the data before splitting into batches\n",
    "\n",
    "mean_accuracy = []\n",
    "i = 1\n",
    "kf = StratifiedKFold(n_splits=5, random_state=1, shuffle=True)\n",
    "\n",
    "for train_index, test_index in kf.split(X, y):\n",
    "    print('\\n{} of kfold {}'.format(i, kf.n_splits))\n",
    "    xtr, xvl = X.loc[train_index], X.loc[test_index]\n",
    "    ytr, yvl = y[train_index], y[test_index]\n",
    "    \n",
    "    model = LogisticRegression(random_state=1)\n",
    "    model.fit(xtr, ytr)\n",
    "    pred_test = model.predict(xvl)\n",
    "    score = accuracy_score(yvl, pred_test)\n",
    "    mean_accuracy.append(score)\n",
    "    print('accuracy_score', score)\n",
    "    i+=1\n",
    "    \n",
    "print(\"\\nMean validation accuracy: \", sum(mean_accuracy)/len(mean_accuracy))\n",
    "\n",
    "\n",
    "# make prediction on test set\n",
    "pred_test = model.predict(test)\n",
    "\n",
    "\n",
    "# calculate probability estimates of loan approval\n",
    "# column 0 is the probability for class 0 and column 1 is the probability for class 1\n",
    "# probability of loan default = 1 - model.predict_proba(test)[:,1]\n",
    "pred = model.predict_proba(xvl)[:,1]"
   ]
  },
  {
   "cell_type": "markdown",
   "metadata": {},
   "source": [
    "The mean validation accuracy for this model turns out to be 0.755. Let us visualize the ROC curve."
   ]
  },
  {
   "cell_type": "code",
   "execution_count": 126,
   "metadata": {},
   "outputs": [
    {
     "data": {
      "image/png": "[encoded data removed]",
      "text/plain": [
       "<Figure size 864x576 with 1 Axes>"
      ]
     },
     "metadata": {
      "needs_background": "light"
     },
     "output_type": "display_data"
    }
   ],
   "source": [
    "# visualize ROC curve\n",
    "from sklearn import metrics\n",
    "fpr, tpr, _ = metrics.roc_curve(yvl,  pred)\n",
    "auc = metrics.roc_auc_score(yvl, pred)\n",
    "plt.figure(figsize=(12,8))\n",
    "plt.plot(fpr,tpr,label=\"validation, auc=\"+str(auc))\n",
    "plt.xlabel('False Positive Rate')\n",
    "plt.ylabel('True Positive Rate')\n",
    "plt.legend(loc=4)\n",
    "plt.show()\n"
   ]
  },
  {
   "cell_type": "markdown",
   "metadata": {},
   "source": [
    "We got an AUC (\"Area Under Curve\") value of 0.706."
   ]
  },
  {
   "cell_type": "code",
   "execution_count": 85,
   "metadata": {},
   "outputs": [],
   "source": [
    "submission['CPL_Status'] = pred_test\n",
    "submission['Loanapp_ID'] = test_original['Loanapp_ID']"
   ]
  },
  {
   "cell_type": "markdown",
   "metadata": {},
   "source": [
    "Remember we need predictions in Y and N. So let’s convert 1 and 0 to Y and N."
   ]
  },
  {
   "cell_type": "code",
   "execution_count": 86,
   "metadata": {},
   "outputs": [],
   "source": [
    "submission['CPL_Status'].replace(0, 'N', inplace=True)\n",
    "submission['CPL_Status'].replace(1, 'Y', inplace=True)"
   ]
  },
  {
   "cell_type": "markdown",
   "metadata": {},
   "source": [
    "Lets convert the submission to .csv format"
   ]
  },
  {
   "cell_type": "code",
   "execution_count": 87,
   "metadata": {},
   "outputs": [],
   "source": [
    "# convert to CSV file, without row index\n",
    "\n",
    "submission.to_csv('logistic.csv', index=False)"
   ]
  },
  {
   "cell_type": "markdown",
   "metadata": {},
   "source": [
    "From this submission we got an accuracy of 0.706 . Now we will try to improve this accuracy using different approaches."
   ]
  },
  {
   "cell_type": "markdown",
   "metadata": {},
   "source": [
    "# Feature Engineering"
   ]
  },
  {
   "cell_type": "markdown",
   "metadata": {},
   "source": [
    "Based on the domain knowledge, we can come up with new features that might affect the target variable. We will create the following three new features:\n",
    "\n",
    "- Total Income - As discussed during bivariate analysis we will combine the Applicant Income and Coapplicant Income. If the total income is high, chances of loan approval might also be high.\n",
    "\n",
    "- Equated Monthly Installment - EMI is the monthly amount to be paid by the applicant to repay the loan. Idea behind making this variable is that people who have high EMI’s might find it difficult to pay back the loan. We can calculate the EMI by taking the ratio of loan amount with respect to loan amount term.\n",
    "\n",
    "- Balance Income - This is the income left after the EMI has been paid. Idea behind creating this variable is that if this value is high, the chances are high that a person will repay the loan and hence increasing the chances of loan approval."
   ]
  },
  {
   "cell_type": "code",
   "execution_count": 88,
   "metadata": {},
   "outputs": [],
   "source": [
    "# combine Applicant Income and Coapplicant Income into a new variable\n",
    "\n",
    "train['Total_Income'] = train['App_Income_1'] + train['App_Income_2']\n",
    "test['Total_Income'] = test['App_Income_1'] + test['App_Income_2']"
   ]
  },
  {
   "cell_type": "code",
   "execution_count": 89,
   "metadata": {},
   "outputs": [
    {
     "data": {
      "text/plain": [
       "Text(0.5, 1.0, 'Test')"
      ]
     },
     "execution_count": 89,
     "metadata": {},
     "output_type": "execute_result"
    },
    {
     "data": {
      "image/png": "[encoded data removed]",
      "text/plain": [
       "<Figure size 1008x288 with 2 Axes>"
      ]
     },
     "metadata": {
      "needs_background": "light"
     },
     "output_type": "display_data"
    }
   ],
   "source": [
    "# check the distribution of Total Income\n",
    "# before log transformation\n",
    "\n",
    "fig = plt.figure(figsize=(14, 4))\n",
    "ax1 = plt.subplot(121)\n",
    "sns.distplot(train['Total_Income'])\n",
    " \n",
    "ax1.set_title(\"Train\")\n",
    "\n",
    "ax1 = plt.subplot(122)\n",
    "sns.distplot(test['Total_Income'])\n",
    "ax1.set_title(\"Test\")"
   ]
  },
  {
   "cell_type": "markdown",
   "metadata": {},
   "source": [
    "We can see it is shifted towards left, i.e., the distribution is right skewed. So, let’s take the log transformation to make the distribution normal."
   ]
  },
  {
   "cell_type": "code",
   "execution_count": 90,
   "metadata": {},
   "outputs": [],
   "source": [
    "train['Total_Income_log'] = np.log(train['Total_Income'])\n",
    "test['Total_Income_log'] = np.log(test['Total_Income'])"
   ]
  },
  {
   "cell_type": "code",
   "execution_count": 91,
   "metadata": {},
   "outputs": [
    {
     "data": {
      "text/plain": [
       "Text(0.5, 1.0, 'Test')"
      ]
     },
     "execution_count": 91,
     "metadata": {},
     "output_type": "execute_result"
    },
    {
     "data": {
      "image/png": "[encoded data removed]",
      "text/plain": [
       "<Figure size 1008x288 with 2 Axes>"
      ]
     },
     "metadata": {
      "needs_background": "light"
     },
     "output_type": "display_data"
    }
   ],
   "source": [
    "fig = plt.figure(figsize=(14, 4))\n",
    "ax1 = plt.subplot(121)\n",
    "sns.distplot(train['Total_Income_log'])\n",
    "ax1.set_title(\"Train\")\n",
    "\n",
    "ax1 = plt.subplot(122)\n",
    "sns.distplot(test['Total_Income_log'])\n",
    "ax1.set_title(\"Test\")"
   ]
  },
  {
   "cell_type": "markdown",
   "metadata": {},
   "source": [
    "Now the distribution looks much closer to normal and effect of extreme values has been significantly subsided. Let’s create the EMI feature now. We can calculate the EMI by taking the ratio of loan amount with respect to loan amount term. It is just an approximation of actual EMI."
   ]
  },
  {
   "cell_type": "code",
   "execution_count": 92,
   "metadata": {},
   "outputs": [],
   "source": [
    "# create EMI feature\n",
    "train['EMI'] = train['CPL_Amount'] / train['CPL_Term']\n",
    "test['EMI'] = test['CPL_Amount'] / test['CPL_Term']"
   ]
  },
  {
   "cell_type": "markdown",
   "metadata": {},
   "source": [
    "Let’s check the distribution of EMI variable. EMI is a continuous numerical variable."
   ]
  },
  {
   "cell_type": "code",
   "execution_count": 93,
   "metadata": {},
   "outputs": [
    {
     "data": {
      "text/plain": [
       "Text(0.5, 1.0, 'Test')"
      ]
     },
     "execution_count": 93,
     "metadata": {},
     "output_type": "execute_result"
    },
    {
     "data": {
      "image/png": "[encoded data removed]",
      "text/plain": [
       "<Figure size 1008x288 with 2 Axes>"
      ]
     },
     "metadata": {
      "needs_background": "light"
     },
     "output_type": "display_data"
    }
   ],
   "source": [
    "# check the distribution of EMI\n",
    "\n",
    "fig = plt.figure(figsize=(14, 4))\n",
    "ax1 = plt.subplot(121)\n",
    "sns.distplot(train['EMI'])\n",
    "ax1.set_title(\"Train\")\n",
    "\n",
    "ax1 = plt.subplot(122)\n",
    "sns.distplot(test['EMI'])\n",
    "ax1.set_title(\"Test\")"
   ]
  },
  {
   "cell_type": "markdown",
   "metadata": {},
   "source": [
    "Let us create Balance Income feature now and check its distribution. This is the income left after the EMI has been paid."
   ]
  },
  {
   "cell_type": "code",
   "execution_count": 94,
   "metadata": {},
   "outputs": [],
   "source": [
    "# create new \"Balance Income\" variable\n",
    "train['Balance Income'] = train['Total_Income'] - (train['EMI']*1000) # Multiply with 1000 to make the units equal \n",
    "test['Balance Income'] = test['Total_Income'] - (test['EMI']*1000)"
   ]
  },
  {
   "cell_type": "code",
   "execution_count": 95,
   "metadata": {},
   "outputs": [
    {
     "data": {
      "text/plain": [
       "Text(0.5, 1.0, 'Test')"
      ]
     },
     "execution_count": 95,
     "metadata": {},
     "output_type": "execute_result"
    },
    {
     "data": {
      "image/png": "[encoded data removed]",
      "text/plain": [
       "<Figure size 1008x288 with 2 Axes>"
      ]
     },
     "metadata": {
      "needs_background": "light"
     },
     "output_type": "display_data"
    }
   ],
   "source": [
    "# check the distribution of EMI\n",
    "# before log transformation\n",
    "\n",
    "fig = plt.figure(figsize=(14, 4))\n",
    "ax1 = plt.subplot(121)\n",
    "sns.distplot(train['Balance Income'])\n",
    "ax1.set_title(\"Train\")\n",
    "\n",
    "ax1 = plt.subplot(122)\n",
    "sns.distplot(test['Balance Income'])\n",
    "ax1.set_title(\"Test\")"
   ]
  },
  {
   "cell_type": "markdown",
   "metadata": {},
   "source": [
    "Let us now drop the variables which we used to create these new features. Reason for doing this is, the correlation between those old features and these new features will be very high and logistic regression assumes that the variables are not highly correlated. We also wants to remove the noise from the dataset, so removing correlated features will help in reducing the noise too. We will drop \"App_Income_1\", \"App_Income_2\", \"CPL_Amount\", \"CPL_Term\" as they are already represented by \"Total Income\", \"EMI\" and \"Balance Income\"."
   ]
  },
  {
   "cell_type": "code",
   "execution_count": 96,
   "metadata": {},
   "outputs": [
    {
     "data": {
      "text/html": [
       "<div>\n",
       "<style scoped>\n",
       "    .dataframe tbody tr th:only-of-type {\n",
       "        vertical-align: middle;\n",
       "    }\n",
       "\n",
       "    .dataframe tbody tr th {\n",
       "        vertical-align: top;\n",
       "    }\n",
       "\n",
       "    .dataframe thead th {\n",
       "        text-align: right;\n",
       "    }\n",
       "</style>\n",
       "<table border=\"1\" class=\"dataframe\">\n",
       "  <thead>\n",
       "    <tr style=\"text-align: right;\">\n",
       "      <th></th>\n",
       "      <th>App_Income_1</th>\n",
       "      <th>App_Income_2</th>\n",
       "      <th>CPL_Amount</th>\n",
       "      <th>CPL_Term</th>\n",
       "      <th>Credit_His</th>\n",
       "      <th>CPL_Status</th>\n",
       "      <th>CPL_Amount_log</th>\n",
       "      <th>Sex_F</th>\n",
       "      <th>Sex_M</th>\n",
       "      <th>Marital_Status_N</th>\n",
       "      <th>...</th>\n",
       "      <th>Qual_var_Non Grad</th>\n",
       "      <th>SE_N</th>\n",
       "      <th>SE_Y</th>\n",
       "      <th>Prop_Area_Rural</th>\n",
       "      <th>Prop_Area_Semi U</th>\n",
       "      <th>Prop_Area_Urban</th>\n",
       "      <th>Total_Income</th>\n",
       "      <th>Total_Income_log</th>\n",
       "      <th>EMI</th>\n",
       "      <th>Balance Income</th>\n",
       "    </tr>\n",
       "  </thead>\n",
       "  <tbody>\n",
       "    <tr>\n",
       "      <th>0</th>\n",
       "      <td>7018.8</td>\n",
       "      <td>0.0</td>\n",
       "      <td>153.6</td>\n",
       "      <td>360.0</td>\n",
       "      <td>1.0</td>\n",
       "      <td>1</td>\n",
       "      <td>5.034352</td>\n",
       "      <td>0</td>\n",
       "      <td>1</td>\n",
       "      <td>1</td>\n",
       "      <td>...</td>\n",
       "      <td>0</td>\n",
       "      <td>1</td>\n",
       "      <td>0</td>\n",
       "      <td>0</td>\n",
       "      <td>0</td>\n",
       "      <td>1</td>\n",
       "      <td>7018.8</td>\n",
       "      <td>8.856348</td>\n",
       "      <td>0.426667</td>\n",
       "      <td>6592.133333</td>\n",
       "    </tr>\n",
       "    <tr>\n",
       "      <th>1</th>\n",
       "      <td>5499.6</td>\n",
       "      <td>1809.6</td>\n",
       "      <td>153.6</td>\n",
       "      <td>360.0</td>\n",
       "      <td>1.0</td>\n",
       "      <td>0</td>\n",
       "      <td>5.034352</td>\n",
       "      <td>0</td>\n",
       "      <td>1</td>\n",
       "      <td>0</td>\n",
       "      <td>...</td>\n",
       "      <td>0</td>\n",
       "      <td>1</td>\n",
       "      <td>0</td>\n",
       "      <td>1</td>\n",
       "      <td>0</td>\n",
       "      <td>0</td>\n",
       "      <td>7309.2</td>\n",
       "      <td>8.896889</td>\n",
       "      <td>0.426667</td>\n",
       "      <td>6882.533333</td>\n",
       "    </tr>\n",
       "    <tr>\n",
       "      <th>2</th>\n",
       "      <td>3600.0</td>\n",
       "      <td>0.0</td>\n",
       "      <td>79.2</td>\n",
       "      <td>360.0</td>\n",
       "      <td>1.0</td>\n",
       "      <td>1</td>\n",
       "      <td>4.371976</td>\n",
       "      <td>0</td>\n",
       "      <td>1</td>\n",
       "      <td>0</td>\n",
       "      <td>...</td>\n",
       "      <td>0</td>\n",
       "      <td>0</td>\n",
       "      <td>1</td>\n",
       "      <td>0</td>\n",
       "      <td>0</td>\n",
       "      <td>1</td>\n",
       "      <td>3600.0</td>\n",
       "      <td>8.188689</td>\n",
       "      <td>0.220000</td>\n",
       "      <td>3380.000000</td>\n",
       "    </tr>\n",
       "    <tr>\n",
       "      <th>3</th>\n",
       "      <td>3099.6</td>\n",
       "      <td>2829.6</td>\n",
       "      <td>144.0</td>\n",
       "      <td>360.0</td>\n",
       "      <td>1.0</td>\n",
       "      <td>1</td>\n",
       "      <td>4.969813</td>\n",
       "      <td>0</td>\n",
       "      <td>1</td>\n",
       "      <td>0</td>\n",
       "      <td>...</td>\n",
       "      <td>1</td>\n",
       "      <td>1</td>\n",
       "      <td>0</td>\n",
       "      <td>0</td>\n",
       "      <td>0</td>\n",
       "      <td>1</td>\n",
       "      <td>5929.2</td>\n",
       "      <td>8.687645</td>\n",
       "      <td>0.400000</td>\n",
       "      <td>5529.200000</td>\n",
       "    </tr>\n",
       "    <tr>\n",
       "      <th>4</th>\n",
       "      <td>7200.0</td>\n",
       "      <td>0.0</td>\n",
       "      <td>169.2</td>\n",
       "      <td>360.0</td>\n",
       "      <td>1.0</td>\n",
       "      <td>1</td>\n",
       "      <td>5.131081</td>\n",
       "      <td>0</td>\n",
       "      <td>1</td>\n",
       "      <td>1</td>\n",
       "      <td>...</td>\n",
       "      <td>0</td>\n",
       "      <td>1</td>\n",
       "      <td>0</td>\n",
       "      <td>0</td>\n",
       "      <td>0</td>\n",
       "      <td>1</td>\n",
       "      <td>7200.0</td>\n",
       "      <td>8.881836</td>\n",
       "      <td>0.470000</td>\n",
       "      <td>6730.000000</td>\n",
       "    </tr>\n",
       "  </tbody>\n",
       "</table>\n",
       "<p>5 rows × 26 columns</p>\n",
       "</div>"
      ],
      "text/plain": [
       "   App_Income_1  App_Income_2  CPL_Amount  CPL_Term  Credit_His  CPL_Status  \\\n",
       "0        7018.8           0.0       153.6     360.0         1.0           1   \n",
       "1        5499.6        1809.6       153.6     360.0         1.0           0   \n",
       "2        3600.0           0.0        79.2     360.0         1.0           1   \n",
       "3        3099.6        2829.6       144.0     360.0         1.0           1   \n",
       "4        7200.0           0.0       169.2     360.0         1.0           1   \n",
       "\n",
       "   CPL_Amount_log  Sex_F  Sex_M  Marital_Status_N  ...  Qual_var_Non Grad  \\\n",
       "0        5.034352      0      1                 1  ...                  0   \n",
       "1        5.034352      0      1                 0  ...                  0   \n",
       "2        4.371976      0      1                 0  ...                  0   \n",
       "3        4.969813      0      1                 0  ...                  1   \n",
       "4        5.131081      0      1                 1  ...                  0   \n",
       "\n",
       "   SE_N  SE_Y  Prop_Area_Rural  Prop_Area_Semi U  Prop_Area_Urban  \\\n",
       "0     1     0                0                 0                1   \n",
       "1     1     0                1                 0                0   \n",
       "2     0     1                0                 0                1   \n",
       "3     1     0                0                 0                1   \n",
       "4     1     0                0                 0                1   \n",
       "\n",
       "   Total_Income  Total_Income_log       EMI  Balance Income  \n",
       "0        7018.8          8.856348  0.426667     6592.133333  \n",
       "1        7309.2          8.896889  0.426667     6882.533333  \n",
       "2        3600.0          8.188689  0.220000     3380.000000  \n",
       "3        5929.2          8.687645  0.400000     5529.200000  \n",
       "4        7200.0          8.881836  0.470000     6730.000000  \n",
       "\n",
       "[5 rows x 26 columns]"
      ]
     },
     "execution_count": 96,
     "metadata": {},
     "output_type": "execute_result"
    }
   ],
   "source": [
    "# before dropping variables\n",
    "\n",
    "train.head()"
   ]
  },
  {
   "cell_type": "code",
   "execution_count": 97,
   "metadata": {},
   "outputs": [],
   "source": [
    "# drop the variables\n",
    "\n",
    "train = train.drop(['App_Income_1', 'App_Income_2', 'CPL_Amount', 'CPL_Term'], axis=1)\n",
    "test = test.drop(['App_Income_1', 'App_Income_2', 'CPL_Amount', 'CPL_Term'], axis=1)"
   ]
  },
  {
   "cell_type": "code",
   "execution_count": 98,
   "metadata": {},
   "outputs": [
    {
     "data": {
      "text/html": [
       "<div>\n",
       "<style scoped>\n",
       "    .dataframe tbody tr th:only-of-type {\n",
       "        vertical-align: middle;\n",
       "    }\n",
       "\n",
       "    .dataframe tbody tr th {\n",
       "        vertical-align: top;\n",
       "    }\n",
       "\n",
       "    .dataframe thead th {\n",
       "        text-align: right;\n",
       "    }\n",
       "</style>\n",
       "<table border=\"1\" class=\"dataframe\">\n",
       "  <thead>\n",
       "    <tr style=\"text-align: right;\">\n",
       "      <th></th>\n",
       "      <th>Credit_His</th>\n",
       "      <th>CPL_Status</th>\n",
       "      <th>CPL_Amount_log</th>\n",
       "      <th>Sex_F</th>\n",
       "      <th>Sex_M</th>\n",
       "      <th>Marital_Status_N</th>\n",
       "      <th>Marital_Status_Y</th>\n",
       "      <th>Dependents_3</th>\n",
       "      <th>Dependents_0</th>\n",
       "      <th>Dependents_1</th>\n",
       "      <th>...</th>\n",
       "      <th>Qual_var_Non Grad</th>\n",
       "      <th>SE_N</th>\n",
       "      <th>SE_Y</th>\n",
       "      <th>Prop_Area_Rural</th>\n",
       "      <th>Prop_Area_Semi U</th>\n",
       "      <th>Prop_Area_Urban</th>\n",
       "      <th>Total_Income</th>\n",
       "      <th>Total_Income_log</th>\n",
       "      <th>EMI</th>\n",
       "      <th>Balance Income</th>\n",
       "    </tr>\n",
       "  </thead>\n",
       "  <tbody>\n",
       "    <tr>\n",
       "      <th>0</th>\n",
       "      <td>1.0</td>\n",
       "      <td>1</td>\n",
       "      <td>5.034352</td>\n",
       "      <td>0</td>\n",
       "      <td>1</td>\n",
       "      <td>1</td>\n",
       "      <td>0</td>\n",
       "      <td>0</td>\n",
       "      <td>1</td>\n",
       "      <td>0</td>\n",
       "      <td>...</td>\n",
       "      <td>0</td>\n",
       "      <td>1</td>\n",
       "      <td>0</td>\n",
       "      <td>0</td>\n",
       "      <td>0</td>\n",
       "      <td>1</td>\n",
       "      <td>7018.8</td>\n",
       "      <td>8.856348</td>\n",
       "      <td>0.426667</td>\n",
       "      <td>6592.133333</td>\n",
       "    </tr>\n",
       "    <tr>\n",
       "      <th>1</th>\n",
       "      <td>1.0</td>\n",
       "      <td>0</td>\n",
       "      <td>5.034352</td>\n",
       "      <td>0</td>\n",
       "      <td>1</td>\n",
       "      <td>0</td>\n",
       "      <td>1</td>\n",
       "      <td>0</td>\n",
       "      <td>0</td>\n",
       "      <td>1</td>\n",
       "      <td>...</td>\n",
       "      <td>0</td>\n",
       "      <td>1</td>\n",
       "      <td>0</td>\n",
       "      <td>1</td>\n",
       "      <td>0</td>\n",
       "      <td>0</td>\n",
       "      <td>7309.2</td>\n",
       "      <td>8.896889</td>\n",
       "      <td>0.426667</td>\n",
       "      <td>6882.533333</td>\n",
       "    </tr>\n",
       "    <tr>\n",
       "      <th>2</th>\n",
       "      <td>1.0</td>\n",
       "      <td>1</td>\n",
       "      <td>4.371976</td>\n",
       "      <td>0</td>\n",
       "      <td>1</td>\n",
       "      <td>0</td>\n",
       "      <td>1</td>\n",
       "      <td>0</td>\n",
       "      <td>1</td>\n",
       "      <td>0</td>\n",
       "      <td>...</td>\n",
       "      <td>0</td>\n",
       "      <td>0</td>\n",
       "      <td>1</td>\n",
       "      <td>0</td>\n",
       "      <td>0</td>\n",
       "      <td>1</td>\n",
       "      <td>3600.0</td>\n",
       "      <td>8.188689</td>\n",
       "      <td>0.220000</td>\n",
       "      <td>3380.000000</td>\n",
       "    </tr>\n",
       "    <tr>\n",
       "      <th>3</th>\n",
       "      <td>1.0</td>\n",
       "      <td>1</td>\n",
       "      <td>4.969813</td>\n",
       "      <td>0</td>\n",
       "      <td>1</td>\n",
       "      <td>0</td>\n",
       "      <td>1</td>\n",
       "      <td>0</td>\n",
       "      <td>1</td>\n",
       "      <td>0</td>\n",
       "      <td>...</td>\n",
       "      <td>1</td>\n",
       "      <td>1</td>\n",
       "      <td>0</td>\n",
       "      <td>0</td>\n",
       "      <td>0</td>\n",
       "      <td>1</td>\n",
       "      <td>5929.2</td>\n",
       "      <td>8.687645</td>\n",
       "      <td>0.400000</td>\n",
       "      <td>5529.200000</td>\n",
       "    </tr>\n",
       "    <tr>\n",
       "      <th>4</th>\n",
       "      <td>1.0</td>\n",
       "      <td>1</td>\n",
       "      <td>5.131081</td>\n",
       "      <td>0</td>\n",
       "      <td>1</td>\n",
       "      <td>1</td>\n",
       "      <td>0</td>\n",
       "      <td>0</td>\n",
       "      <td>1</td>\n",
       "      <td>0</td>\n",
       "      <td>...</td>\n",
       "      <td>0</td>\n",
       "      <td>1</td>\n",
       "      <td>0</td>\n",
       "      <td>0</td>\n",
       "      <td>0</td>\n",
       "      <td>1</td>\n",
       "      <td>7200.0</td>\n",
       "      <td>8.881836</td>\n",
       "      <td>0.470000</td>\n",
       "      <td>6730.000000</td>\n",
       "    </tr>\n",
       "  </tbody>\n",
       "</table>\n",
       "<p>5 rows × 22 columns</p>\n",
       "</div>"
      ],
      "text/plain": [
       "   Credit_His  CPL_Status  CPL_Amount_log  Sex_F  Sex_M  Marital_Status_N  \\\n",
       "0         1.0           1        5.034352      0      1                 1   \n",
       "1         1.0           0        5.034352      0      1                 0   \n",
       "2         1.0           1        4.371976      0      1                 0   \n",
       "3         1.0           1        4.969813      0      1                 0   \n",
       "4         1.0           1        5.131081      0      1                 1   \n",
       "\n",
       "   Marital_Status_Y  Dependents_3  Dependents_0  Dependents_1  ...  \\\n",
       "0                 0             0             1             0  ...   \n",
       "1                 1             0             0             1  ...   \n",
       "2                 1             0             1             0  ...   \n",
       "3                 1             0             1             0  ...   \n",
       "4                 0             0             1             0  ...   \n",
       "\n",
       "   Qual_var_Non Grad  SE_N  SE_Y  Prop_Area_Rural  Prop_Area_Semi U  \\\n",
       "0                  0     1     0                0                 0   \n",
       "1                  0     1     0                1                 0   \n",
       "2                  0     0     1                0                 0   \n",
       "3                  1     1     0                0                 0   \n",
       "4                  0     1     0                0                 0   \n",
       "\n",
       "   Prop_Area_Urban  Total_Income  Total_Income_log       EMI  Balance Income  \n",
       "0                1        7018.8          8.856348  0.426667     6592.133333  \n",
       "1                0        7309.2          8.896889  0.426667     6882.533333  \n",
       "2                1        3600.0          8.188689  0.220000     3380.000000  \n",
       "3                1        5929.2          8.687645  0.400000     5529.200000  \n",
       "4                1        7200.0          8.881836  0.470000     6730.000000  \n",
       "\n",
       "[5 rows x 22 columns]"
      ]
     },
     "execution_count": 98,
     "metadata": {},
     "output_type": "execute_result"
    }
   ],
   "source": [
    "# after dropping variables\n",
    "train.head()"
   ]
  },
  {
   "cell_type": "code",
   "execution_count": 99,
   "metadata": {},
   "outputs": [
    {
     "data": {
      "text/html": [
       "<div>\n",
       "<style scoped>\n",
       "    .dataframe tbody tr th:only-of-type {\n",
       "        vertical-align: middle;\n",
       "    }\n",
       "\n",
       "    .dataframe tbody tr th {\n",
       "        vertical-align: top;\n",
       "    }\n",
       "\n",
       "    .dataframe thead th {\n",
       "        text-align: right;\n",
       "    }\n",
       "</style>\n",
       "<table border=\"1\" class=\"dataframe\">\n",
       "  <thead>\n",
       "    <tr style=\"text-align: right;\">\n",
       "      <th></th>\n",
       "      <th>Credit_His</th>\n",
       "      <th>CPL_Amount_log</th>\n",
       "      <th>Sex_F</th>\n",
       "      <th>Sex_M</th>\n",
       "      <th>Marital_Status_N</th>\n",
       "      <th>Marital_Status_Y</th>\n",
       "      <th>Dependents_3</th>\n",
       "      <th>Dependents_0</th>\n",
       "      <th>Dependents_1</th>\n",
       "      <th>Dependents_2</th>\n",
       "      <th>...</th>\n",
       "      <th>Qual_var_Non Grad</th>\n",
       "      <th>SE_N</th>\n",
       "      <th>SE_Y</th>\n",
       "      <th>Prop_Area_Rural</th>\n",
       "      <th>Prop_Area_Semi U</th>\n",
       "      <th>Prop_Area_Urban</th>\n",
       "      <th>Total_Income</th>\n",
       "      <th>Total_Income_log</th>\n",
       "      <th>EMI</th>\n",
       "      <th>Balance Income</th>\n",
       "    </tr>\n",
       "  </thead>\n",
       "  <tbody>\n",
       "    <tr>\n",
       "      <th>0</th>\n",
       "      <td>1.0</td>\n",
       "      <td>4.882802</td>\n",
       "      <td>0</td>\n",
       "      <td>1</td>\n",
       "      <td>0</td>\n",
       "      <td>1</td>\n",
       "      <td>0</td>\n",
       "      <td>1</td>\n",
       "      <td>0</td>\n",
       "      <td>0</td>\n",
       "      <td>...</td>\n",
       "      <td>0</td>\n",
       "      <td>1</td>\n",
       "      <td>0</td>\n",
       "      <td>0</td>\n",
       "      <td>0</td>\n",
       "      <td>1</td>\n",
       "      <td>6864.0</td>\n",
       "      <td>8.834046</td>\n",
       "      <td>0.366667</td>\n",
       "      <td>6497.333333</td>\n",
       "    </tr>\n",
       "    <tr>\n",
       "      <th>1</th>\n",
       "      <td>1.0</td>\n",
       "      <td>5.018603</td>\n",
       "      <td>0</td>\n",
       "      <td>1</td>\n",
       "      <td>0</td>\n",
       "      <td>1</td>\n",
       "      <td>0</td>\n",
       "      <td>0</td>\n",
       "      <td>1</td>\n",
       "      <td>0</td>\n",
       "      <td>...</td>\n",
       "      <td>0</td>\n",
       "      <td>1</td>\n",
       "      <td>0</td>\n",
       "      <td>0</td>\n",
       "      <td>0</td>\n",
       "      <td>1</td>\n",
       "      <td>5491.2</td>\n",
       "      <td>8.610902</td>\n",
       "      <td>0.420000</td>\n",
       "      <td>5071.200000</td>\n",
       "    </tr>\n",
       "    <tr>\n",
       "      <th>2</th>\n",
       "      <td>1.0</td>\n",
       "      <td>5.519860</td>\n",
       "      <td>0</td>\n",
       "      <td>1</td>\n",
       "      <td>0</td>\n",
       "      <td>1</td>\n",
       "      <td>0</td>\n",
       "      <td>0</td>\n",
       "      <td>0</td>\n",
       "      <td>1</td>\n",
       "      <td>...</td>\n",
       "      <td>0</td>\n",
       "      <td>1</td>\n",
       "      <td>0</td>\n",
       "      <td>0</td>\n",
       "      <td>0</td>\n",
       "      <td>1</td>\n",
       "      <td>8160.0</td>\n",
       "      <td>9.006999</td>\n",
       "      <td>0.693333</td>\n",
       "      <td>7466.666667</td>\n",
       "    </tr>\n",
       "    <tr>\n",
       "      <th>3</th>\n",
       "      <td>1.0</td>\n",
       "      <td>4.787492</td>\n",
       "      <td>0</td>\n",
       "      <td>1</td>\n",
       "      <td>0</td>\n",
       "      <td>1</td>\n",
       "      <td>0</td>\n",
       "      <td>0</td>\n",
       "      <td>0</td>\n",
       "      <td>1</td>\n",
       "      <td>...</td>\n",
       "      <td>0</td>\n",
       "      <td>1</td>\n",
       "      <td>0</td>\n",
       "      <td>0</td>\n",
       "      <td>0</td>\n",
       "      <td>1</td>\n",
       "      <td>5863.2</td>\n",
       "      <td>8.676451</td>\n",
       "      <td>0.333333</td>\n",
       "      <td>5529.866667</td>\n",
       "    </tr>\n",
       "    <tr>\n",
       "      <th>4</th>\n",
       "      <td>1.0</td>\n",
       "      <td>4.539030</td>\n",
       "      <td>0</td>\n",
       "      <td>1</td>\n",
       "      <td>1</td>\n",
       "      <td>0</td>\n",
       "      <td>0</td>\n",
       "      <td>1</td>\n",
       "      <td>0</td>\n",
       "      <td>0</td>\n",
       "      <td>...</td>\n",
       "      <td>1</td>\n",
       "      <td>1</td>\n",
       "      <td>0</td>\n",
       "      <td>0</td>\n",
       "      <td>0</td>\n",
       "      <td>1</td>\n",
       "      <td>3931.2</td>\n",
       "      <td>8.276700</td>\n",
       "      <td>0.260000</td>\n",
       "      <td>3671.200000</td>\n",
       "    </tr>\n",
       "  </tbody>\n",
       "</table>\n",
       "<p>5 rows × 21 columns</p>\n",
       "</div>"
      ],
      "text/plain": [
       "   Credit_His  CPL_Amount_log  Sex_F  Sex_M  Marital_Status_N  \\\n",
       "0         1.0        4.882802      0      1                 0   \n",
       "1         1.0        5.018603      0      1                 0   \n",
       "2         1.0        5.519860      0      1                 0   \n",
       "3         1.0        4.787492      0      1                 0   \n",
       "4         1.0        4.539030      0      1                 1   \n",
       "\n",
       "   Marital_Status_Y  Dependents_3  Dependents_0  Dependents_1  Dependents_2  \\\n",
       "0                 1             0             1             0             0   \n",
       "1                 1             0             0             1             0   \n",
       "2                 1             0             0             0             1   \n",
       "3                 1             0             0             0             1   \n",
       "4                 0             0             1             0             0   \n",
       "\n",
       "   ...  Qual_var_Non Grad  SE_N  SE_Y  Prop_Area_Rural  Prop_Area_Semi U  \\\n",
       "0  ...                  0     1     0                0                 0   \n",
       "1  ...                  0     1     0                0                 0   \n",
       "2  ...                  0     1     0                0                 0   \n",
       "3  ...                  0     1     0                0                 0   \n",
       "4  ...                  1     1     0                0                 0   \n",
       "\n",
       "   Prop_Area_Urban  Total_Income  Total_Income_log       EMI  Balance Income  \n",
       "0                1        6864.0          8.834046  0.366667     6497.333333  \n",
       "1                1        5491.2          8.610902  0.420000     5071.200000  \n",
       "2                1        8160.0          9.006999  0.693333     7466.666667  \n",
       "3                1        5863.2          8.676451  0.333333     5529.866667  \n",
       "4                1        3931.2          8.276700  0.260000     3671.200000  \n",
       "\n",
       "[5 rows x 21 columns]"
      ]
     },
     "execution_count": 99,
     "metadata": {},
     "output_type": "execute_result"
    }
   ],
   "source": [
    "# after dropping variables\n",
    "test.head()"
   ]
  },
  {
   "cell_type": "markdown",
   "metadata": {},
   "source": [
    "# Model Building : Part II\n"
   ]
  },
  {
   "cell_type": "markdown",
   "metadata": {},
   "source": [
    "After creating new features, we can continue the model building process. So we will start with logistic regression model and then move over to more complex models like RandomForest and XGBoost.\n",
    "\n",
    "We will build the following models in this section.\n",
    "\n",
    "- Logistic Regression\n",
    "- Decision Tree\n",
    "- Random Forest\n",
    "- XGBoost\n",
    "\n",
    "Let’s prepare the data for feeding into the models."
   ]
  },
  {
   "cell_type": "code",
   "execution_count": 100,
   "metadata": {},
   "outputs": [],
   "source": [
    "# drop \"Loan_Status\" and assign it to target variable\n",
    "X = train.drop('CPL_Status', axis=1)\n",
    "y = train.CPL_Status                # Save target variable in separate dataset"
   ]
  },
  {
   "cell_type": "markdown",
   "metadata": {},
   "source": [
    "# Logistic Regression"
   ]
  },
  {
   "cell_type": "code",
   "execution_count": 101,
   "metadata": {},
   "outputs": [
    {
     "name": "stdout",
     "output_type": "stream",
     "text": [
      "\n",
      "1 of kfold 5\n",
      "accuracy_score 0.6910569105691057\n",
      "\n",
      "2 of kfold 5\n",
      "accuracy_score 0.8373983739837398\n",
      "\n",
      "3 of kfold 5\n",
      "accuracy_score 0.6666666666666666\n",
      "\n",
      "4 of kfold 5\n",
      "accuracy_score 0.7804878048780488\n",
      "\n",
      "5 of kfold 5\n",
      "accuracy_score 0.8032786885245902\n",
      "\n",
      "Mean validation accuracy:  0.7557776889244302\n"
     ]
    }
   ],
   "source": [
    "# stratified 5 folds, shuffle each stratification of the data before splitting into batches\n",
    "\n",
    "mean_accuracy = []\n",
    "i = 1\n",
    "kf = StratifiedKFold(n_splits=5, random_state=1, shuffle=True)\n",
    "\n",
    "for train_index, test_index in kf.split(X, y):\n",
    "    print('\\n{} of kfold {}'.format(i, kf.n_splits))\n",
    "    xtr, xvl = X.loc[train_index], X.loc[test_index]\n",
    "    ytr, yvl = y[train_index], y[test_index]\n",
    "    \n",
    "    model = LogisticRegression(random_state=1)\n",
    "    model.fit(xtr, ytr)\n",
    "    pred_test = model.predict(xvl)\n",
    "    score = accuracy_score(yvl, pred_test)\n",
    "    mean_accuracy.append(score)\n",
    "    print('accuracy_score', score)\n",
    "    i+=1\n",
    "    \n",
    "print(\"\\nMean validation accuracy: \", sum(mean_accuracy)/len(mean_accuracy))\n",
    "\n",
    "\n",
    "# make prediction on test set\n",
    "pred_test = model.predict(test)\n",
    "\n",
    "\n",
    "# calculate probability estimates of loan approval\n",
    "# column 0 is the probability for class 0 and column 1 is the probability for class 1\n",
    "# probability of loan default = 1 - model.predict_proba(test)[:,1]\n",
    "pred = model.predict_proba(xvl)[:,1]"
   ]
  },
  {
   "cell_type": "markdown",
   "metadata": {},
   "source": [
    "The mean validation accuracy for this model is 0.7557"
   ]
  },
  {
   "cell_type": "code",
   "execution_count": 102,
   "metadata": {},
   "outputs": [],
   "source": [
    "# filling Loan_Status with predictions\n",
    "submission['CPL_Status'] = pred_test\n",
    "\n",
    "# filling Loan_ID with test Loan_ID\n",
    "submission['Loanapp_ID'] = test_original['Loanapp_ID']"
   ]
  },
  {
   "cell_type": "code",
   "execution_count": 103,
   "metadata": {},
   "outputs": [],
   "source": [
    "# replacing 0 and 1 with N and Y\n",
    "submission['CPL_Status'].replace(0, 'N', inplace=True)\n",
    "submission['CPL_Status'].replace(1, 'Y', inplace=True)"
   ]
  },
  {
   "cell_type": "markdown",
   "metadata": {},
   "source": [
    "# Decision Tree"
   ]
  },
  {
   "cell_type": "markdown",
   "metadata": {},
   "source": [
    "Decision tree is a type of supervised learning algorithm(having a pre-defined target variable) that is mostly used in classification problems. In this technique, we split the population or sample into two or more homogeneous sets(or sub-populations) based on most significant splitter / differentiator in input variables.\n",
    "\n",
    "Decision trees use multiple algorithms to decide to split a node in two or more sub-nodes. The creation of sub-nodes increases the homogeneity of resultant sub-nodes. In other words, we can say that purity of the node increases with respect to the target variable."
   ]
  },
  {
   "cell_type": "code",
   "execution_count": 104,
   "metadata": {},
   "outputs": [],
   "source": [
    "# import library\n",
    "from sklearn import tree"
   ]
  },
  {
   "cell_type": "markdown",
   "metadata": {},
   "source": [
    "Let’s fit the decision tree model with 5 folds of cross validation."
   ]
  },
  {
   "cell_type": "code",
   "execution_count": 105,
   "metadata": {},
   "outputs": [
    {
     "name": "stdout",
     "output_type": "stream",
     "text": [
      "\n",
      "1 of kfold 5\n",
      "accuracy_score 0.7317073170731707\n",
      "\n",
      "2 of kfold 5\n",
      "accuracy_score 0.7073170731707317\n",
      "\n",
      "3 of kfold 5\n",
      "accuracy_score 0.6829268292682927\n",
      "\n",
      "4 of kfold 5\n",
      "accuracy_score 0.6910569105691057\n",
      "\n",
      "5 of kfold 5\n",
      "accuracy_score 0.6885245901639344\n",
      "\n",
      "Mean validation accuracy:  0.700306544049047\n"
     ]
    }
   ],
   "source": [
    "mean_accuracy = []\n",
    "i=1\n",
    "kf = StratifiedKFold(n_splits=5,random_state=1,shuffle=True)\n",
    "for train_index,test_index in kf.split(X,y):\n",
    "    print('\\n{} of kfold {}'.format(i,kf.n_splits))\n",
    "    xtr,xvl = X.loc[train_index],X.loc[test_index]\n",
    "    ytr,yvl = y[train_index],y[test_index]\n",
    "    \n",
    "    model = tree.DecisionTreeClassifier(random_state=1)\n",
    "    model.fit(xtr, ytr)\n",
    "    pred_test = model.predict(xvl)\n",
    "    score = accuracy_score(yvl,pred_test)\n",
    "    mean_accuracy.append(score)\n",
    "    print('accuracy_score',score)\n",
    "    i+=1\n",
    "    \n",
    "print(\"\\nMean validation accuracy: \", sum(mean_accuracy)/len(mean_accuracy))\n",
    "pred_test = model.predict(test)"
   ]
  },
  {
   "cell_type": "markdown",
   "metadata": {},
   "source": [
    "The mean validation accuracy for this model is 0.70, which is lower than Logistic Regression"
   ]
  },
  {
   "cell_type": "code",
   "execution_count": 106,
   "metadata": {},
   "outputs": [],
   "source": [
    "# filling CPL_Status with predictions\n",
    "submission['CPL_Status'] = pred_test            \n",
    "\n",
    "# filling Loan_ID with test Loan_ID\n",
    "submission['Loanapp_ID'] = test_original['Loanapp_ID']"
   ]
  },
  {
   "cell_type": "code",
   "execution_count": 107,
   "metadata": {},
   "outputs": [],
   "source": [
    "# replacing 0 and 1 with N and Y\n",
    "submission['CPL_Status'].replace(0, 'N', inplace=True)\n",
    "submission['CPL_Status'].replace(1, 'Y', inplace=True)"
   ]
  },
  {
   "cell_type": "code",
   "execution_count": 108,
   "metadata": {},
   "outputs": [],
   "source": [
    "# Converting submission file to .csv format\n",
    "\n",
    "submission.to_csv('Decision Tree.csv', index=False)"
   ]
  },
  {
   "cell_type": "markdown",
   "metadata": {},
   "source": [
    "We got an accuracy of 0.6458 which is much lesser than the accuracy from logistic regression model."
   ]
  },
  {
   "cell_type": "markdown",
   "metadata": {},
   "source": [
    "# Random Forest"
   ]
  },
  {
   "cell_type": "markdown",
   "metadata": {},
   "source": [
    "- RandomForest is a tree based bootstrapping algorithm wherein a certain no. of weak learners (decision trees) are combined to make a powerful prediction model.\n",
    "- For every individual learner, a random sample of rows and a few randomly chosen variables are used to build a decision tree model.\n",
    "- Final prediction can be a function of all the predictions made by the individual learners.\n",
    "- In case of regression problem, the final prediction can be mean of all the predictions.\n",
    "\n",
    "There are some parameters worth exploring with the sklearn RandomForestClassifier:\n",
    "\n",
    "- n_estimators\n",
    "- max_features"
   ]
  },
  {
   "cell_type": "code",
   "execution_count": 109,
   "metadata": {},
   "outputs": [],
   "source": [
    "# import library\n",
    "from sklearn.ensemble import RandomForestClassifier"
   ]
  },
  {
   "cell_type": "code",
   "execution_count": 110,
   "metadata": {},
   "outputs": [
    {
     "name": "stdout",
     "output_type": "stream",
     "text": [
      "\n",
      "1 of kfold 5\n",
      "accuracy_score 0.8455284552845529\n",
      "\n",
      "2 of kfold 5\n",
      "accuracy_score 0.7235772357723578\n",
      "\n",
      "3 of kfold 5\n",
      "accuracy_score 0.7479674796747967\n",
      "\n",
      "4 of kfold 5\n",
      "accuracy_score 0.7560975609756098\n",
      "\n",
      "5 of kfold 5\n",
      "accuracy_score 0.7213114754098361\n",
      "\n",
      "Mean validation accuracy:  0.7588964414234306\n"
     ]
    }
   ],
   "source": [
    "mean_accuracy = []\n",
    "i=1\n",
    "kf = StratifiedKFold(n_splits=5,random_state=1,shuffle=True)\n",
    "for train_index,test_index in kf.split(X, y):\n",
    "    print('\\n{} of kfold {}'.format(i,kf.n_splits))\n",
    "    xtr,xvl = X.loc[train_index],X.loc[test_index]\n",
    "    ytr,yvl = y[train_index],y[test_index]\n",
    "    \n",
    "    model = RandomForestClassifier(random_state=1, max_depth=10, n_estimators=10)\n",
    "    model.fit(xtr, ytr)\n",
    "    pred_test = model.predict(xvl)\n",
    "    score = accuracy_score(yvl,pred_test)\n",
    "    mean_accuracy.append(score)\n",
    "    print('accuracy_score',score)\n",
    "    i+=1\n",
    "    \n",
    "print(\"\\nMean validation accuracy: \", sum(mean_accuracy)/len(mean_accuracy))\n",
    "pred_test = model.predict(test)"
   ]
  },
  {
   "cell_type": "markdown",
   "metadata": {},
   "source": [
    "The mean validation accuracy for this model is 0.7588"
   ]
  },
  {
   "cell_type": "markdown",
   "metadata": {},
   "source": [
    "# GridSearchCV"
   ]
  },
  {
   "cell_type": "markdown",
   "metadata": {},
   "source": [
    "We will try to improve the accuracy by tuning the hyperparameters for this model. We will use grid search to get the optimized values of hyper parameters. GridSearch is a way to select the best of a family of hyper parameters, parametrized by a grid of parameters.\n",
    "\n",
    "We will use GridSearchCV in sklearn.model_selection for an exhaustive search over specified parameter values for an estimator. GridSearchCV implements a “fit” and a “score” method. It also implements “predict”, “predict_proba”, “decision_function”, “transform” and “inverse_transform” if they are implemented in the estimator used."
   ]
  },
  {
   "cell_type": "markdown",
   "metadata": {},
   "source": [
    "We will tune the max_depth and n_estimators parameters. max_depth decides the maximum depth of the tree and n_estimators decides the number of trees that will be used in random forest model."
   ]
  },
  {
   "cell_type": "code",
   "execution_count": 111,
   "metadata": {},
   "outputs": [],
   "source": [
    "# import library\n",
    "from sklearn.model_selection import GridSearchCV"
   ]
  },
  {
   "cell_type": "code",
   "execution_count": 112,
   "metadata": {},
   "outputs": [],
   "source": [
    "# Provide range for max_depth from 1 to 20 with an interval of 2 and from 1 to 200 with an interval of 20 for n_estimators\n",
    "paramgrid = {'max_depth': list(range(1, 20, 2)), 'n_estimators': list(range(1, 200, 20))}"
   ]
  },
  {
   "cell_type": "code",
   "execution_count": 113,
   "metadata": {},
   "outputs": [],
   "source": [
    "# default 3-fold cross validation, cv=3\n",
    "grid_search = GridSearchCV(RandomForestClassifier(random_state=1), paramgrid)"
   ]
  },
  {
   "cell_type": "code",
   "execution_count": 114,
   "metadata": {},
   "outputs": [],
   "source": [
    "# split the data\n",
    "from sklearn.model_selection import train_test_split\n",
    "x_train, x_cv, y_train, y_cv = train_test_split(X, y, test_size =0.3, random_state=1)"
   ]
  },
  {
   "cell_type": "code",
   "execution_count": 115,
   "metadata": {},
   "outputs": [
    {
     "data": {
      "text/plain": [
       "GridSearchCV(estimator=RandomForestClassifier(random_state=1),\n",
       "             param_grid={'max_depth': [1, 3, 5, 7, 9, 11, 13, 15, 17, 19],\n",
       "                         'n_estimators': [1, 21, 41, 61, 81, 101, 121, 141, 161,\n",
       "                                          181]})"
      ]
     },
     "execution_count": 115,
     "metadata": {},
     "output_type": "execute_result"
    }
   ],
   "source": [
    "# fit the grid search model\n",
    "grid_search.fit(x_train, y_train)"
   ]
  },
  {
   "cell_type": "code",
   "execution_count": 116,
   "metadata": {},
   "outputs": [
    {
     "data": {
      "text/plain": [
       "RandomForestClassifier(max_depth=3, n_estimators=81, random_state=1)"
      ]
     },
     "execution_count": 116,
     "metadata": {},
     "output_type": "execute_result"
    }
   ],
   "source": [
    "# estimate the optimized value\n",
    "grid_search.best_estimator_"
   ]
  },
  {
   "cell_type": "markdown",
   "metadata": {},
   "source": [
    "So, the optimized value for the max_depth variable is 3 and for n_estimator is 81. Now let’s build the model using these optimized values."
   ]
  },
  {
   "cell_type": "code",
   "execution_count": 117,
   "metadata": {},
   "outputs": [
    {
     "name": "stdout",
     "output_type": "stream",
     "text": [
      "\n",
      "1 of kfold 5\n",
      "accuracy_score 0.8130081300813008\n",
      "\n",
      "2 of kfold 5\n",
      "accuracy_score 0.8536585365853658\n",
      "\n",
      "3 of kfold 5\n",
      "accuracy_score 0.8048780487804879\n",
      "\n",
      "4 of kfold 5\n",
      "accuracy_score 0.7642276422764228\n",
      "\n",
      "5 of kfold 5\n",
      "accuracy_score 0.7950819672131147\n",
      "\n",
      "Mean validation accuracy:  0.8061708649873385\n"
     ]
    }
   ],
   "source": [
    "mean_accuracy = []\n",
    "i=1\n",
    "kf = StratifiedKFold(n_splits=5,random_state=1,shuffle=True)\n",
    "for train_index,test_index in kf.split(X,y):\n",
    "    print('\\n{} of kfold {}'.format(i,kf.n_splits))\n",
    "    xtr,xvl = X.loc[train_index],X.loc[test_index]\n",
    "    ytr,yvl = y[train_index],y[test_index]\n",
    "    \n",
    "    model = RandomForestClassifier(random_state=1, max_depth=3, n_estimators=81)\n",
    "    model.fit(xtr, ytr)\n",
    "    pred_test = model.predict(xvl)\n",
    "    score = accuracy_score(yvl,pred_test)\n",
    "    mean_accuracy.append(score)\n",
    "    print('accuracy_score',score)\n",
    "    i+=1\n",
    "    \n",
    "print(\"\\nMean validation accuracy: \", sum(mean_accuracy)/len(mean_accuracy))\n",
    "pred_test = model.predict(test)\n",
    "pred2=model.predict_proba(test)[:,1]"
   ]
  },
  {
   "cell_type": "markdown",
   "metadata": {},
   "source": [
    "The mean validation accuracy has improved from 0.758 to 0.806"
   ]
  },
  {
   "cell_type": "code",
   "execution_count": 118,
   "metadata": {},
   "outputs": [],
   "source": [
    "# filling Loan_Status with predictions\n",
    "submission['CPL_Status']=pred_test            \n",
    "\n",
    "# filling Loan_ID with test Loan_ID\n",
    "submission['Loanapp_ID']=test_original['Loanapp_ID']"
   ]
  },
  {
   "cell_type": "code",
   "execution_count": 119,
   "metadata": {},
   "outputs": [],
   "source": [
    "# replacing 0 and 1 with N and Y\n",
    "submission['CPL_Status'].replace(0, 'N', inplace=True)\n",
    "submission['CPL_Status'].replace(1, 'Y', inplace=True)"
   ]
  },
  {
   "cell_type": "code",
   "execution_count": 120,
   "metadata": {},
   "outputs": [],
   "source": [
    "# Converting submission file to .csv format\n",
    "submission.to_csv('Random Forest.csv', index=False)"
   ]
  },
  {
   "cell_type": "markdown",
   "metadata": {},
   "source": [
    "We got an accuracy of 0.7638 from the random forest"
   ]
  },
  {
   "cell_type": "markdown",
   "metadata": {},
   "source": [
    "# Feature Importance"
   ]
  },
  {
   "cell_type": "markdown",
   "metadata": {},
   "source": [
    "\n",
    "Let us find the feature importance now, i.e. which features are most important for this problem. We will use featureimportances attribute of sklearn to do so. It will return the feature importances (the higher, the more important the feature)."
   ]
  },
  {
   "cell_type": "code",
   "execution_count": 121,
   "metadata": {},
   "outputs": [
    {
     "data": {
      "text/plain": [
       "<matplotlib.axes._subplots.AxesSubplot at 0x1d37eac0>"
      ]
     },
     "execution_count": 121,
     "metadata": {},
     "output_type": "execute_result"
    },
    {
     "data": {
      "image/png": "[encoded data removed]",
      "text/plain": [
       "<Figure size 864x576 with 1 Axes>"
      ]
     },
     "metadata": {
      "needs_background": "light"
     },
     "output_type": "display_data"
    }
   ],
   "source": [
    "# extract feature importances, convert into a Series\n",
    "importances = pd.Series(model.feature_importances_, index=X.columns)\n",
    "\n",
    "# plot the horizontal bar chart\n",
    "importances.plot(kind='barh', figsize=(12,8))"
   ]
  },
  {
   "cell_type": "markdown",
   "metadata": {},
   "source": [
    "We can see that Credit_His is the most important feature followed by Total Income Log, Total Income, Balance Income, Prop_Area Semi U, EMI. So, feature engineering helped us in predicting our target variable."
   ]
  },
  {
   "cell_type": "markdown",
   "metadata": {},
   "source": [
    "# Conclusion"
   ]
  },
  {
   "cell_type": "markdown",
   "metadata": {},
   "source": [
    "After trying and testing 3 different algorithms, the best accuracy on the public leaderboard is achieved by Logistic Regression (0.806), followed by RandomForest (0.758) and Decision Tree performed the worst (0.70)."
   ]
  },
  {
   "cell_type": "code",
   "execution_count": null,
   "metadata": {},
   "outputs": [],
   "source": []
  }
 ],
 "metadata": {
  "kernelspec": {
   "display_name": "Python 3",
   "language": "python",
   "name": "python3"
  },
  "language_info": {
   "codemirror_mode": {
    "name": "ipython",
    "version": 3
   },
   "file_extension": ".py",
   "mimetype": "text/x-python",
   "name": "python",
   "nbconvert_exporter": "python",
   "pygments_lexer": "ipython3",
   "version": "3.8.3"
  }
 },
 "nbformat": 4,
 "nbformat_minor": 4
}
